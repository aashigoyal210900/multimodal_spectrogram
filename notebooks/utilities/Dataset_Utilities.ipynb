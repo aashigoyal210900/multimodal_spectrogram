{
  "nbformat": 4,
  "nbformat_minor": 0,
  "metadata": {
    "colab": {
      "provenance": []
    },
    "kernelspec": {
      "name": "python3",
      "display_name": "Python 3"
    },
    "language_info": {
      "name": "python"
    }
  },
  "cells": [
    {
      "cell_type": "code",
      "source": [
        "from google.colab import drive\n",
        "drive.mount('/content/drive')"
      ],
      "metadata": {
        "colab": {
          "base_uri": "https://localhost:8080/"
        },
        "id": "TPf5cN3KbemP",
        "outputId": "20c8d2ad-169d-4f49-e1ee-733b184ae498"
      },
      "execution_count": 1,
      "outputs": [
        {
          "output_type": "stream",
          "name": "stdout",
          "text": [
            "Mounted at /content/drive\n"
          ]
        }
      ]
    },
    {
      "cell_type": "code",
      "execution_count": 7,
      "metadata": {
        "colab": {
          "base_uri": "https://localhost:8080/"
        },
        "id": "Xi-adK9_ZKYw",
        "outputId": "cc257294-a559-4c39-8d3f-0364cdfe1485"
      },
      "outputs": [
        {
          "output_type": "stream",
          "name": "stdout",
          "text": [
            "Cloning into 'CREMA-D'...\n",
            "remote: Enumerating objects: 22501, done.\u001b[K\n",
            "remote: Counting objects: 100% (73/73), done.\u001b[K\n",
            "remote: Compressing objects: 100% (60/60), done.\u001b[K\n",
            "remote: Total 22501 (delta 22), reused 57 (delta 13), pack-reused 22428\u001b[K\n",
            "Receiving objects: 100% (22501/22501), 14.82 MiB | 10.57 MiB/s, done.\n",
            "Resolving deltas: 100% (75/75), done.\n",
            "Updating files: 100% (22342/22342), done.\n",
            "Filtering content: 100% (22326/22326), 3.42 GiB | 6.68 MiB/s, done.\n"
          ]
        }
      ],
      "source": [
        "!git clone --progress https://github.com/CheyneyComputerScience/CREMA-D.git\n",
        "!mv CREMA-D/VideoFlash ./videos_fullscale\n",
        "!rm -rf CREMA-D"
      ]
    },
    {
      "cell_type": "code",
      "source": [
        "!ls -l './videos_fullscale' | wc -l"
      ],
      "metadata": {
        "colab": {
          "base_uri": "https://localhost:8080/"
        },
        "id": "jFtD8NGMozvz",
        "outputId": "a3d0a335-45a8-4869-89f1-49c0ec40bba2"
      },
      "execution_count": 8,
      "outputs": [
        {
          "output_type": "stream",
          "name": "stdout",
          "text": [
            "7443\n"
          ]
        }
      ]
    },
    {
      "cell_type": "code",
      "source": [
        "!cp -r './videos_fullscale/' '/content/drive/MyDrive/csci535/'"
      ],
      "metadata": {
        "id": "NUH2UZBEZQ0R"
      },
      "execution_count": 9,
      "outputs": []
    },
    {
      "cell_type": "code",
      "source": [
        "!ls -l '/content/drive/MyDrive/csci535/videos_fullscale' | wc -l"
      ],
      "metadata": {
        "colab": {
          "base_uri": "https://localhost:8080/"
        },
        "id": "kZQgU5sYjqIM",
        "outputId": "3efa6da6-b1fb-425d-a118-efc90c80cb64"
      },
      "execution_count": 10,
      "outputs": [
        {
          "output_type": "stream",
          "name": "stdout",
          "text": [
            "7443\n"
          ]
        }
      ]
    },
    {
      "cell_type": "code",
      "source": [
        "!ls -l '/content/drive/MyDrive/csci535/melspec_fullscale' | wc -l"
      ],
      "metadata": {
        "colab": {
          "base_uri": "https://localhost:8080/"
        },
        "id": "np3E04l5nAqo",
        "outputId": "d2b27ae8-a79c-4378-f63e-d57354f5242a"
      },
      "execution_count": 11,
      "outputs": [
        {
          "output_type": "stream",
          "name": "stdout",
          "text": [
            "7474\n"
          ]
        }
      ]
    },
    {
      "cell_type": "code",
      "source": [],
      "metadata": {
        "id": "xsv9D-CEnDRj"
      },
      "execution_count": null,
      "outputs": []
    }
  ]
}