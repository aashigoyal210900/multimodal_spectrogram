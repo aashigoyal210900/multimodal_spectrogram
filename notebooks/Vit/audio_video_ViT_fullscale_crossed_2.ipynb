{
  "cells": [
    {
      "cell_type": "code",
      "execution_count": 1,
      "metadata": {
        "colab": {
          "base_uri": "https://localhost:8080/"
        },
        "id": "IY4PsvJq4oPl",
        "outputId": "54dae53e-7b2c-457b-cf5e-306d15b11592"
      },
      "outputs": [],
      "source": [
        "# from google.colab import drive\n",
        "# drive.mount('/content/drive')"
      ]
    },
    {
      "cell_type": "code",
      "execution_count": 2,
      "metadata": {
        "colab": {
          "base_uri": "https://localhost:8080/"
        },
        "id": "fos4gtTU4qM5",
        "outputId": "38f0e6b1-55b4-4831-a009-96deb7584ae0"
      },
      "outputs": [
        {
          "name": "stdout",
          "output_type": "stream",
          "text": [
            "Requirement already satisfied: einops in /Users/aashigoyal/anaconda3/envs/csci/lib/python3.12/site-packages (0.7.0)\n",
            "Requirement already satisfied: facenet-pytorch in /Users/aashigoyal/anaconda3/envs/csci/lib/python3.12/site-packages (2.5.3)\n",
            "Requirement already satisfied: numpy in /Users/aashigoyal/anaconda3/envs/csci/lib/python3.12/site-packages (from facenet-pytorch) (1.26.4)\n",
            "Requirement already satisfied: requests in /Users/aashigoyal/anaconda3/envs/csci/lib/python3.12/site-packages (from facenet-pytorch) (2.31.0)\n",
            "Requirement already satisfied: torchvision in /Users/aashigoyal/anaconda3/envs/csci/lib/python3.12/site-packages (from facenet-pytorch) (0.17.1)\n",
            "Requirement already satisfied: pillow in /Users/aashigoyal/anaconda3/envs/csci/lib/python3.12/site-packages (from facenet-pytorch) (10.2.0)\n",
            "Requirement already satisfied: charset-normalizer<4,>=2 in /Users/aashigoyal/anaconda3/envs/csci/lib/python3.12/site-packages (from requests->facenet-pytorch) (2.0.4)\n",
            "Requirement already satisfied: idna<4,>=2.5 in /Users/aashigoyal/anaconda3/envs/csci/lib/python3.12/site-packages (from requests->facenet-pytorch) (3.4)\n",
            "Requirement already satisfied: urllib3<3,>=1.21.1 in /Users/aashigoyal/anaconda3/envs/csci/lib/python3.12/site-packages (from requests->facenet-pytorch) (2.1.0)\n",
            "Requirement already satisfied: certifi>=2017.4.17 in /Users/aashigoyal/anaconda3/envs/csci/lib/python3.12/site-packages (from requests->facenet-pytorch) (2024.2.2)\n",
            "Requirement already satisfied: torch in /Users/aashigoyal/anaconda3/envs/csci/lib/python3.12/site-packages (from torchvision->facenet-pytorch) (2.2.1)\n",
            "Requirement already satisfied: filelock in /Users/aashigoyal/anaconda3/envs/csci/lib/python3.12/site-packages (from torch->torchvision->facenet-pytorch) (3.13.1)\n",
            "Requirement already satisfied: typing-extensions>=4.8.0 in /Users/aashigoyal/anaconda3/envs/csci/lib/python3.12/site-packages (from torch->torchvision->facenet-pytorch) (4.9.0)\n",
            "Requirement already satisfied: sympy in /Users/aashigoyal/anaconda3/envs/csci/lib/python3.12/site-packages (from torch->torchvision->facenet-pytorch) (1.12)\n",
            "Requirement already satisfied: networkx in /Users/aashigoyal/anaconda3/envs/csci/lib/python3.12/site-packages (from torch->torchvision->facenet-pytorch) (3.1)\n",
            "Requirement already satisfied: jinja2 in /Users/aashigoyal/anaconda3/envs/csci/lib/python3.12/site-packages (from torch->torchvision->facenet-pytorch) (3.1.3)\n",
            "Requirement already satisfied: fsspec in /Users/aashigoyal/anaconda3/envs/csci/lib/python3.12/site-packages (from torch->torchvision->facenet-pytorch) (2024.3.1)\n",
            "Requirement already satisfied: MarkupSafe>=2.0 in /Users/aashigoyal/anaconda3/envs/csci/lib/python3.12/site-packages (from jinja2->torch->torchvision->facenet-pytorch) (2.1.3)\n",
            "Requirement already satisfied: mpmath>=0.19 in /Users/aashigoyal/anaconda3/envs/csci/lib/python3.12/site-packages (from sympy->torch->torchvision->facenet-pytorch) (1.3.0)\n",
            "Requirement already satisfied: face_alignment in /Users/aashigoyal/anaconda3/envs/csci/lib/python3.12/site-packages (1.4.1)\n",
            "Requirement already satisfied: torch in /Users/aashigoyal/anaconda3/envs/csci/lib/python3.12/site-packages (from face_alignment) (2.2.1)\n",
            "Requirement already satisfied: numpy in /Users/aashigoyal/anaconda3/envs/csci/lib/python3.12/site-packages (from face_alignment) (1.26.4)\n",
            "Requirement already satisfied: scipy>=0.17 in /Users/aashigoyal/anaconda3/envs/csci/lib/python3.12/site-packages (from face_alignment) (1.12.0)\n",
            "Requirement already satisfied: scikit-image in /Users/aashigoyal/anaconda3/envs/csci/lib/python3.12/site-packages (from face_alignment) (0.22.0)\n",
            "Requirement already satisfied: opencv-python in /Users/aashigoyal/anaconda3/envs/csci/lib/python3.12/site-packages (from face_alignment) (4.9.0.80)\n",
            "Requirement already satisfied: tqdm in /Users/aashigoyal/anaconda3/envs/csci/lib/python3.12/site-packages (from face_alignment) (4.66.2)\n",
            "Requirement already satisfied: numba in /Users/aashigoyal/anaconda3/envs/csci/lib/python3.12/site-packages (from face_alignment) (0.59.0)\n",
            "Requirement already satisfied: llvmlite<0.43,>=0.42.0dev0 in /Users/aashigoyal/anaconda3/envs/csci/lib/python3.12/site-packages (from numba->face_alignment) (0.42.0)\n",
            "Requirement already satisfied: networkx>=2.8 in /Users/aashigoyal/anaconda3/envs/csci/lib/python3.12/site-packages (from scikit-image->face_alignment) (3.1)\n",
            "Requirement already satisfied: pillow>=9.0.1 in /Users/aashigoyal/anaconda3/envs/csci/lib/python3.12/site-packages (from scikit-image->face_alignment) (10.2.0)\n",
            "Requirement already satisfied: imageio>=2.27 in /Users/aashigoyal/anaconda3/envs/csci/lib/python3.12/site-packages (from scikit-image->face_alignment) (2.34.0)\n",
            "Requirement already satisfied: tifffile>=2022.8.12 in /Users/aashigoyal/anaconda3/envs/csci/lib/python3.12/site-packages (from scikit-image->face_alignment) (2024.2.12)\n",
            "Requirement already satisfied: packaging>=21 in /Users/aashigoyal/anaconda3/envs/csci/lib/python3.12/site-packages (from scikit-image->face_alignment) (23.2)\n",
            "Requirement already satisfied: lazy_loader>=0.3 in /Users/aashigoyal/anaconda3/envs/csci/lib/python3.12/site-packages (from scikit-image->face_alignment) (0.3)\n",
            "Requirement already satisfied: filelock in /Users/aashigoyal/anaconda3/envs/csci/lib/python3.12/site-packages (from torch->face_alignment) (3.13.1)\n",
            "Requirement already satisfied: typing-extensions>=4.8.0 in /Users/aashigoyal/anaconda3/envs/csci/lib/python3.12/site-packages (from torch->face_alignment) (4.9.0)\n",
            "Requirement already satisfied: sympy in /Users/aashigoyal/anaconda3/envs/csci/lib/python3.12/site-packages (from torch->face_alignment) (1.12)\n",
            "Requirement already satisfied: jinja2 in /Users/aashigoyal/anaconda3/envs/csci/lib/python3.12/site-packages (from torch->face_alignment) (3.1.3)\n",
            "Requirement already satisfied: fsspec in /Users/aashigoyal/anaconda3/envs/csci/lib/python3.12/site-packages (from torch->face_alignment) (2024.3.1)\n",
            "Requirement already satisfied: MarkupSafe>=2.0 in /Users/aashigoyal/anaconda3/envs/csci/lib/python3.12/site-packages (from jinja2->torch->face_alignment) (2.1.3)\n",
            "Requirement already satisfied: mpmath>=0.19 in /Users/aashigoyal/anaconda3/envs/csci/lib/python3.12/site-packages (from sympy->torch->face_alignment) (1.3.0)\n",
            "Requirement already satisfied: self_attention_cv in /Users/aashigoyal/anaconda3/envs/csci/lib/python3.12/site-packages (1.2.3)\n",
            "Requirement already satisfied: torch>=1.7 in /Users/aashigoyal/anaconda3/envs/csci/lib/python3.12/site-packages (from self_attention_cv) (2.2.1)\n",
            "Requirement already satisfied: torchvision>=0.8 in /Users/aashigoyal/anaconda3/envs/csci/lib/python3.12/site-packages (from self_attention_cv) (0.17.1)\n",
            "Requirement already satisfied: einops>=0.3 in /Users/aashigoyal/anaconda3/envs/csci/lib/python3.12/site-packages (from self_attention_cv) (0.7.0)\n",
            "Requirement already satisfied: numpy>=1.19 in /Users/aashigoyal/anaconda3/envs/csci/lib/python3.12/site-packages (from self_attention_cv) (1.26.4)\n",
            "Requirement already satisfied: pytest>=6.2 in /Users/aashigoyal/anaconda3/envs/csci/lib/python3.12/site-packages (from self_attention_cv) (8.1.1)\n",
            "Requirement already satisfied: iniconfig in /Users/aashigoyal/anaconda3/envs/csci/lib/python3.12/site-packages (from pytest>=6.2->self_attention_cv) (2.0.0)\n",
            "Requirement already satisfied: packaging in /Users/aashigoyal/anaconda3/envs/csci/lib/python3.12/site-packages (from pytest>=6.2->self_attention_cv) (23.2)\n",
            "Requirement already satisfied: pluggy<2.0,>=1.4 in /Users/aashigoyal/anaconda3/envs/csci/lib/python3.12/site-packages (from pytest>=6.2->self_attention_cv) (1.4.0)\n",
            "Requirement already satisfied: filelock in /Users/aashigoyal/anaconda3/envs/csci/lib/python3.12/site-packages (from torch>=1.7->self_attention_cv) (3.13.1)\n",
            "Requirement already satisfied: typing-extensions>=4.8.0 in /Users/aashigoyal/anaconda3/envs/csci/lib/python3.12/site-packages (from torch>=1.7->self_attention_cv) (4.9.0)\n",
            "Requirement already satisfied: sympy in /Users/aashigoyal/anaconda3/envs/csci/lib/python3.12/site-packages (from torch>=1.7->self_attention_cv) (1.12)\n",
            "Requirement already satisfied: networkx in /Users/aashigoyal/anaconda3/envs/csci/lib/python3.12/site-packages (from torch>=1.7->self_attention_cv) (3.1)\n",
            "Requirement already satisfied: jinja2 in /Users/aashigoyal/anaconda3/envs/csci/lib/python3.12/site-packages (from torch>=1.7->self_attention_cv) (3.1.3)\n",
            "Requirement already satisfied: fsspec in /Users/aashigoyal/anaconda3/envs/csci/lib/python3.12/site-packages (from torch>=1.7->self_attention_cv) (2024.3.1)\n",
            "Requirement already satisfied: pillow!=8.3.*,>=5.3.0 in /Users/aashigoyal/anaconda3/envs/csci/lib/python3.12/site-packages (from torchvision>=0.8->self_attention_cv) (10.2.0)\n",
            "Requirement already satisfied: MarkupSafe>=2.0 in /Users/aashigoyal/anaconda3/envs/csci/lib/python3.12/site-packages (from jinja2->torch>=1.7->self_attention_cv) (2.1.3)\n",
            "Requirement already satisfied: mpmath>=0.19 in /Users/aashigoyal/anaconda3/envs/csci/lib/python3.12/site-packages (from sympy->torch>=1.7->self_attention_cv) (1.3.0)\n"
          ]
        }
      ],
      "source": [
        "!python3 -m pip install einops\n",
        "!python3 -m pip install facenet-pytorch\n",
        "!python3 -m pip install face_alignment\n",
        "!python3 -m pip install self_attention_cv"
      ]
    },
    {
      "cell_type": "code",
      "execution_count": 3,
      "metadata": {
        "id": "0UY1RHcZ4YNw"
      },
      "outputs": [
        {
          "name": "stderr",
          "output_type": "stream",
          "text": [
            "/Users/aashigoyal/anaconda3/envs/csci/lib/python3.12/site-packages/tqdm/auto.py:21: TqdmWarning: IProgress not found. Please update jupyter and ipywidgets. See https://ipywidgets.readthedocs.io/en/stable/user_install.html\n",
            "  from .autonotebook import tqdm as notebook_tqdm\n"
          ]
        }
      ],
      "source": [
        "import cv2\n",
        "import gc\n",
        "import os\n",
        "import sys\n",
        "import torch\n",
        "import torch.nn as nn\n",
        "import torch.optim as optim\n",
        "import torchvision.transforms as transforms\n",
        "from torchvision import models\n",
        "from PIL import Image\n",
        "from einops.layers.torch import Rearrange\n",
        "from einops import rearrange\n",
        "from facenet_pytorch import MTCNN\n",
        "from self_attention_cv import TransformerEncoder\n",
        "from sklearn.model_selection import train_test_split\n",
        "import numpy as np\n",
        "from tqdm import tqdm\n",
        "import face_alignment\n",
        "import dlib\n",
        "import requests"
      ]
    },
    {
      "cell_type": "code",
      "execution_count": 4,
      "metadata": {
        "id": "NiWEWAOF6b-S"
      },
      "outputs": [],
      "source": [
        "def extract_frame(video_path):\n",
        "    cap = cv2.VideoCapture(video_path)\n",
        "    frame_count = int(cap.get(cv2.CAP_PROP_FRAME_COUNT))\n",
        "    fps = cap.get(cv2.CAP_PROP_FPS)\n",
        "    mid_frame_index = frame_count // 2  # Index of the frame in the middle of the video\n",
        "    cap.set(cv2.CAP_PROP_POS_FRAMES, mid_frame_index)\n",
        "    ret, frame = cap.read()\n",
        "    if ret:\n",
        "        cap.release()\n",
        "        return frame\n",
        "    else:\n",
        "        cap.release()\n",
        "        return None"
      ]
    },
    {
      "cell_type": "code",
      "execution_count": 5,
      "metadata": {
        "id": "l37ccKkO6cvt"
      },
      "outputs": [],
      "source": [
        "def detect_face(frame):\n",
        "    mtcnn = MTCNN()\n",
        "    boxes, _ = mtcnn.detect(frame)\n",
        "    if boxes is not None:\n",
        "        # Assuming only one face in the frame\n",
        "        box = boxes[0]\n",
        "        x1, y1, x2, y2 = box\n",
        "        # Crop the frame to the detected face\n",
        "        cropped_frame = frame[int(y1):int(y2), int(x1):int(x2)]\n",
        "        return cropped_frame\n",
        "    else:\n",
        "        return None"
      ]
    },
    {
      "cell_type": "code",
      "execution_count": 6,
      "metadata": {
        "colab": {
          "base_uri": "https://localhost:8080/"
        },
        "id": "GUr4HOzW6fmC",
        "outputId": "0cc73263-b8b4-4860-bd59-f430372070a5"
      },
      "outputs": [],
      "source": [
        "# Function to download the pretrained face alignment model if it doesn't exist\n",
        "def download_face_alignment_model(url, save_path):\n",
        "    if not os.path.exists(save_path):\n",
        "        print(\"Downloading pretrained face alignment model...\")\n",
        "        response = requests.get(url)\n",
        "        with open(save_path, 'wb') as f:\n",
        "            f.write(response.content)\n",
        "        print(\"Download complete.\")\n",
        "\n",
        "# Specify the URL of the pretrained face alignment model\n",
        "face_alignment_model_url = \"https://github.com/1adrianb/face-alignment-models/releases/download/2.0.1/2DFAN4-11f355bf06.pth.tar\"\n",
        "\n",
        "# Download the pretrained face alignment model if it doesn't exist\n",
        "face_alignment_model_path = os.path.abspath(\"2DFAN4-11f355bf06.pth.tar\")\n",
        "download_face_alignment_model(face_alignment_model_url, face_alignment_model_path)\n",
        "\n",
        "# Initialize face alignment model\n",
        "fa = face_alignment.FaceAlignment(2, flip_input=False,device='cpu')  # 2 corresponds to 2D landmarks\n",
        "\n",
        "def align_face(frame):\n",
        "    # Perform face alignment\n",
        "    aligned_faces = fa.get_landmarks(frame)\n",
        "    if aligned_faces is not None:\n",
        "        aligned_face = aligned_faces[0]  # Assuming only one face in the frame\n",
        "        return aligned_face\n",
        "    else:\n",
        "        return None\n"
      ]
    },
    {
      "cell_type": "code",
      "execution_count": 7,
      "metadata": {
        "id": "wYOMbbU975Fm"
      },
      "outputs": [],
      "source": [
        "\n",
        "# Define the preprocessing functions for video frames and spectrograms\n",
        "def preprocess_image(frame):\n",
        "    frame_pil = Image.fromarray(frame.astype('uint8'))\n",
        "    frame_pil = frame_pil.convert('L')  # Convert to grayscale\n",
        "    transform = transforms.Compose([\n",
        "        transforms.Resize((224, 224)),\n",
        "        transforms.ToTensor(),\n",
        "        transforms.Normalize(mean=[0.485], std=[0.229]),  # Normalize using ImageNet mean and std\n",
        "    ])\n",
        "    frame_tensor = transform(frame_pil)\n",
        "    return frame_tensor"
      ]
    },
    {
      "cell_type": "code",
      "execution_count": 8,
      "metadata": {
        "id": "BkbbyV3a-Bax"
      },
      "outputs": [],
      "source": [
        "def preprocess_spectrogram(image_path):\n",
        "    img = Image.open(image_path).convert('L')  # Convert to grayscale\n",
        "    transform = transforms.Compose([\n",
        "        transforms.Resize((224, 224)),  # Resize to match ViT input size\n",
        "        transforms.ToTensor(),           # Convert to tensor\n",
        "    ])\n",
        "    img_tensor = transform(img)\n",
        "    return img_tensor"
      ]
    },
    {
      "cell_type": "code",
      "execution_count": 9,
      "metadata": {
        "id": "TIqOKFzr6j0V"
      },
      "outputs": [],
      "source": [
        "def load_spectrogram_dataset(input_folder):\n",
        "    X = []\n",
        "    y = []\n",
        "    # List all files in the input folder\n",
        "    files = os.listdir(input_folder)\n",
        "    # Iterate over files in the folder\n",
        "    for filename in files:\n",
        "        if filename.endswith(\".png\"):  # Assuming mel spectrograms are stored as PNG files\n",
        "            input_path = os.path.join(input_folder, filename)\n",
        "            img_tensor = preprocess_spectrogram(input_path)\n",
        "            X.append(img_tensor)\n",
        "            # Extract label from filename (assuming filename is in format \"abc_IEO_label_xyz.png\")\n",
        "            label = filename.split(\"_\")[2]\n",
        "            if label == \"HAP\":\n",
        "                y.append(0)\n",
        "            elif label == \"SAD\":\n",
        "                y.append(1)\n",
        "            elif label == \"ANG\":\n",
        "                y.append(2)\n",
        "            elif label == \"DIS\":\n",
        "                y.append(3)\n",
        "            elif label == \"FEA\":\n",
        "                y.append(4)\n",
        "            elif label == \"NEU\":\n",
        "                y.append(5)\n",
        "    return X, y"
      ]
    },
    {
      "cell_type": "code",
      "execution_count": 10,
      "metadata": {
        "id": "n4Xum7nf6lfg"
      },
      "outputs": [],
      "source": [
        "def load_dataset(input_folder):\n",
        "    X = []\n",
        "    y = []\n",
        "    video_files = [file for file in os.listdir(input_folder) if file.endswith(\".flv\")]\n",
        "    for video_file in tqdm(video_files):\n",
        "        video_path = os.path.join(input_folder, video_file)\n",
        "        frame = extract_frame(video_path)\n",
        "        if frame is not None:\n",
        "            cropped_face = detect_face(frame)\n",
        "            if cropped_face is not None:\n",
        "                preprocessed_face = preprocess_image(cropped_face)\n",
        "                X.append(preprocessed_face)\n",
        "                label = video_file.split(\"_\")[2].split(\".\")[0]  # Adjusted to handle different file extensions\n",
        "                if label == \"HAP\":\n",
        "                    y.append(0)\n",
        "                elif label == \"SAD\":\n",
        "                    y.append(1)\n",
        "                elif label == \"ANG\":\n",
        "                    y.append(2)\n",
        "                elif label == \"DIS\":\n",
        "                    y.append(3)\n",
        "                elif label == \"FEA\":\n",
        "                    y.append(4)\n",
        "                elif label == \"NEU\":\n",
        "                    y.append(5)\n",
        "            else:\n",
        "                print(f\"No face detected in {video_file}. Skipping.\")\n",
        "        else:\n",
        "            print(f\"Failed to extract frame from {video_file}. Skipping.\")\n",
        "    return X, y"
      ]
    },
    {
      "cell_type": "code",
      "execution_count": 11,
      "metadata": {
        "id": "q8gd6HoS--Rj"
      },
      "outputs": [],
      "source": [
        "# Define the ConcatDataset class to concatenate video frame and spectrogram tensors\n",
        "class ConcatDataset(torch.utils.data.Dataset):\n",
        "    def __init__(self, X1, X2, y, modality='multimodal', fullscale=False):\n",
        "        self.X1 = X1\n",
        "        self.X2 = X2\n",
        "        self.y = y\n",
        "        self.modality = modality\n",
        "        self.fullscale = fullscale\n",
        "    def __len__(self):\n",
        "        return len(self.y)\n",
        "\n",
        "    def __getitem__(self, idx):\n",
        "        if not self.fullscale:\n",
        "          img1 = self.X1[idx]\n",
        "          img2 = self.X2[idx]\n",
        "          label = self.y[idx]\n",
        "        else:\n",
        "          img1 = torch.from_numpy(self.X1[idx]).float()  # Convert numpy array to torch tensor\n",
        "          img2 = torch.from_numpy(self.X2[idx]).float()  # Convert numpy array to torch tensor\n",
        "          label = torch.tensor(self.y[idx])  # Convert numpy array to torch tensor\n",
        "\n",
        "        concatenated_img = torch.cat((img1, img2), dim=0)  # Concatenate along 0 dimension\n",
        "        if self.modality == 'visual':\n",
        "          return img1, label\n",
        "        if self.modality == 'audio':\n",
        "          return img2, label\n",
        "        return concatenated_img, label # concatenate modalities"
      ]
    },
    {
      "cell_type": "code",
      "execution_count": 12,
      "metadata": {
        "id": "3TBMdqtI6oZ0"
      },
      "outputs": [],
      "source": [
        "def train_model(model, criterion, optimizer, train_loader, device):\n",
        "    model.train()\n",
        "    running_loss = 0.0\n",
        "    correct_preds = 0\n",
        "    total_preds = 0\n",
        "    for inputs, labels in tqdm(train_loader):\n",
        "        inputs, labels = inputs.to(device), labels.to(device)\n",
        "        optimizer.zero_grad()\n",
        "        outputs = model(inputs)\n",
        "        loss = criterion(outputs, labels)\n",
        "        loss.backward()\n",
        "        optimizer.step()\n",
        "        running_loss += loss.item() * inputs.size(0)\n",
        "        _, predicted = torch.max(outputs, 1)\n",
        "        correct_preds += (predicted == labels).sum().item()\n",
        "        total_preds += labels.size(0)\n",
        "\n",
        "    epoch_loss = running_loss / len(train_loader.dataset)\n",
        "    accuracy = correct_preds / total_preds\n",
        "    return epoch_loss, accuracy"
      ]
    },
    {
      "cell_type": "code",
      "execution_count": 13,
      "metadata": {
        "id": "aq6skVDB6p6M"
      },
      "outputs": [],
      "source": [
        "def test_model(model, criterion, test_loader, device):\n",
        "    model.eval()\n",
        "    running_loss = 0.0\n",
        "    correct_preds = 0\n",
        "    total_preds = 0\n",
        "    with torch.no_grad():\n",
        "        for inputs, labels in tqdm(test_loader):\n",
        "            inputs, labels = inputs.to(device), labels.to(device)\n",
        "            outputs = model(inputs)\n",
        "            loss = criterion(outputs, labels)\n",
        "            running_loss += loss.item() * inputs.size(0)\n",
        "            _, predicted = torch.max(outputs, 1)\n",
        "            correct_preds += (predicted == labels).sum().item()\n",
        "            total_preds += labels.size(0)\n",
        "    epoch_loss = running_loss / len(test_loader.dataset)\n",
        "    accuracy = correct_preds / total_preds\n",
        "    return epoch_loss, accuracy"
      ]
    },
    {
      "cell_type": "code",
      "execution_count": 14,
      "metadata": {
        "id": "mhjpuUMgo3KU"
      },
      "outputs": [],
      "source": [
        "class ViT(nn.Module):\n",
        "    # ViT architecture adapted from here - https://theaisummer.com/vision-transformer/\n",
        "    def __init__(self, *,\n",
        "                 img_dim,\n",
        "                 in_channels=3,\n",
        "                 patch_dim=16,\n",
        "                 num_classes=6, # full-scale CREMA-D\n",
        "                 dim=512,\n",
        "                 blocks=6,\n",
        "                 heads=4,\n",
        "                 dim_linear_block=1024,\n",
        "                 dim_head=None,\n",
        "                 dropout=0.4, transformer=None, classification=True):\n",
        "        \"\"\"\n",
        "        Args:\n",
        "            img_dim: the spatial image size\n",
        "            in_channels: number of img channels\n",
        "            patch_dim: desired patch dim\n",
        "            num_classes: classification task classes\n",
        "            dim: the linear layer's dim to project the patches for MHSA\n",
        "            blocks: number of transformer blocks\n",
        "            heads: number of heads\n",
        "            dim_linear_block: inner dim of the transformer linear block\n",
        "            dim_head: dim head in case you want to define it. defaults to dim/heads\n",
        "            dropout: for pos emb and transformer\n",
        "            transformer: in case you want to provide another transformer implementation\n",
        "            classification: creates an extra CLS token\n",
        "        \"\"\"\n",
        "        super().__init__()\n",
        "        assert img_dim % patch_dim == 0, f'patch size {patch_dim} not divisible'\n",
        "        self.p = patch_dim\n",
        "        self.classification = classification\n",
        "        tokens = (img_dim // patch_dim) ** 2\n",
        "        self.token_dim = in_channels * (patch_dim ** 2)\n",
        "        self.dim = dim\n",
        "        self.dim_head = (int(dim / heads)) if dim_head is None else dim_head\n",
        "        self.project_patches = nn.Linear(self.token_dim, dim)\n",
        "\n",
        "        self.emb_dropout = nn.Dropout(dropout)\n",
        "        if self.classification:\n",
        "            self.cls_token = nn.Parameter(torch.randn(1, 1, dim))\n",
        "            self.pos_emb1D = nn.Parameter(torch.randn(tokens + 1, dim))\n",
        "            self.mlp_head = nn.Linear(dim, num_classes)\n",
        "        else:\n",
        "            self.pos_emb1D = nn.Parameter(torch.randn(tokens, dim))\n",
        "\n",
        "        if transformer is None:\n",
        "            self.transformer = TransformerEncoder(dim, blocks=blocks, heads=heads,\n",
        "                                                  dim_head=self.dim_head,\n",
        "                                                  dim_linear_block=dim_linear_block,\n",
        "                                                  dropout=dropout)\n",
        "        else:\n",
        "            self.transformer = transformer\n",
        "\n",
        "    def expand_cls_to_batch(self, batch):\n",
        "        \"\"\"\n",
        "        Args:\n",
        "            batch: batch size\n",
        "        Returns: cls token expanded to the batch size\n",
        "        \"\"\"\n",
        "        return self.cls_token.expand([batch, -1, -1])\n",
        "\n",
        "    def forward(self, img, mask=None):\n",
        "        batch_size = img.shape[0]\n",
        "        img_patches = rearrange(\n",
        "            img, 'b c (patch_x x) (patch_y y) -> b (x y) (patch_x patch_y c)',\n",
        "                                patch_x=self.p, patch_y=self.p)\n",
        "        # project patches with linear layer + add pos emb\n",
        "        img_patches = self.project_patches(img_patches)\n",
        "\n",
        "        if self.classification:\n",
        "            img_patches = torch.cat(\n",
        "                (self.expand_cls_to_batch(batch_size), img_patches), dim=1)\n",
        "\n",
        "        patch_embeddings = self.emb_dropout(img_patches + self.pos_emb1D)\n",
        "\n",
        "        # feed patch_embeddings and output of transformer. shape: [batch, tokens, dim]\n",
        "        y = self.transformer(patch_embeddings, mask)\n",
        "\n",
        "        if self.classification:\n",
        "            # we index only the cls token for classification.\n",
        "            return self.mlp_head(y[:, 0, :])\n",
        "        else:\n",
        "            return y"
      ]
    },
    {
      "cell_type": "code",
      "execution_count": 15,
      "metadata": {
        "colab": {
          "base_uri": "https://localhost:8080/"
        },
        "id": "sAHGApwK4N92",
        "outputId": "bbc7a21f-8101-4d65-9a62-ea8e71209ef0"
      },
      "outputs": [
        {
          "name": "stdout",
          "output_type": "stream",
          "text": [
            "Total number of samples: 7442\n",
            "Number of train samples (video): 5209 Number of test samples: 2233\n",
            "Number of train samples (audio): 5231 Number of test samples: 2242\n"
          ]
        }
      ],
      "source": [
        "_fullscale = True # Run fullscale experiment?\n",
        "\n",
        "# Define input_folder and input_folder_spec\n",
        "if _fullscale:\n",
        "  input_folder = '/Users/aashigoyal/Desktop/vscode/aashimain/csci535/final_temp/videos_fullscale'\n",
        "  input_folder_spec = '/Users/aashigoyal/Desktop/vscode/aashimain/csci535/final_temp/melspec_fullscale'\n",
        "else:\n",
        "  input_folder = '/content/drive/MyDrive/csci535/videos'\n",
        "  input_folder_spec = '/content/drive/MyDrive/csci535/melspec'\n",
        "\n",
        "# Check if input folder exists\n",
        "if not os.path.exists(input_folder):\n",
        "    print(\"Input folder does not exist.\")\n",
        "    sys.exit(1)\n",
        "# Check if input folder exists\n",
        "if not os.path.exists(input_folder_spec):\n",
        "    print(\"Input folder does not exist.\")\n",
        "    sys.exit(1)\n",
        "\n",
        "# Load dataset and split into train and test sets\n",
        "\n",
        "if not _fullscale:\n",
        "  X, y = load_dataset(input_folder)\n",
        "  X_spec, y_spec = load_spectrogram_dataset(input_folder_spec)\n",
        "\n",
        "else:\n",
        "  # Load numpy arrays with memory-mapping\n",
        "  X = np.load('/Users/aashigoyal/Desktop/vscode/aashimain/csci535/final_temp/X.npy', mmap_mode='r')\n",
        "  y = np.load('/Users/aashigoyal/Desktop/vscode/aashimain/csci535/final_temp/y.npy', mmap_mode='r')\n",
        "  X_spec = np.load('/Users/aashigoyal/Desktop/vscode/aashimain/csci535/final_temp/X_spec.npy', mmap_mode='r')\n",
        "  y_spec = np.load('/Users/aashigoyal/Desktop/vscode/aashimain/csci535/final_temp/y_spec.npy', mmap_mode='r')\n",
        "\n",
        "# Split the data into train and test sets\n",
        "print(f\"Total number of samples: {len(X)}\")\n",
        "X_train, X_test, y_train, y_test = train_test_split(X, y, test_size=0.3, random_state=42)\n",
        "print(f\"Number of train samples (video): {len(X_train)}\", f\"Number of test samples: {len(X_test)}\")\n",
        "X_train_spec, X_test_spec, y_train_spec, y_test_spec = train_test_split(X_spec, y_spec, test_size=0.3, random_state=42)\n",
        "print(f\"Number of train samples (audio): {len(X_train_spec)}\", f\"Number of test samples: {len(X_test_spec)}\")"
      ]
    },
    {
      "cell_type": "code",
      "execution_count": 16,
      "metadata": {
        "id": "3gzXGfQPSBAC"
      },
      "outputs": [],
      "source": [
        "# Save X, y, X_spec, y_spec\n",
        "# np.save('X.npy', np.array(X))\n",
        "# np.save('y.npy', np.array(y))\n",
        "# np.save('X_spec.npy', np.array(X_spec))\n",
        "# np.save('y_spec.npy', np.array(y_spec))\n",
        "# !cp 'X.npy' '/content/drive/MyDrive/csci535/models/'\n",
        "# !cp 'y.npy' '/content/drive/MyDrive/csci535/models/'\n",
        "# !cp 'X_spec.npy' '/content/drive/MyDrive/csci535/models/'\n",
        "# !cp 'y_spec.npy' '/content/drive/MyDrive/csci535/models/'"
      ]
    },
    {
      "cell_type": "code",
      "execution_count": 17,
      "metadata": {
        "id": "wzuHjENY9Dpa"
      },
      "outputs": [],
      "source": [
        "def train_ViT(_modality):\n",
        "  # Adjust input channels as per modality\n",
        "  if _modality == 'multimodal':\n",
        "    _input_channels = 2\n",
        "  else:\n",
        "    _input_channels = 1\n",
        "\n",
        "  # Initialize the ViT model\n",
        "  model = ViT(img_dim=224,  # Image dimension\n",
        "              in_channels=_input_channels,  # Number of input channels\n",
        "              patch_dim=16,  # Patch dimension\n",
        "              num_classes=6,  # 6 classes for HAPPY, SAD, ANGRY, DISGUST, FEAR, NEUTRAL\n",
        "              dim=768,  # Dimensionality of the token embeddings\n",
        "              blocks=6,  # Number of transformer blocks\n",
        "              heads=4,  # Number of attention heads\n",
        "              dim_linear_block=1024,  # Dimensionality of the linear block\n",
        "              dropout=0.4,  # Dropout rate\n",
        "              classification=True)  # Whether or not to include a classification token\n",
        "\n",
        "  # Define device\n",
        "  device = torch.device(\"cuda\" if torch.cuda.is_available() else \"cpu\")\n",
        "  model.to(device)\n",
        "\n",
        "  # Define loss function and optimizer\n",
        "  _lr = 0.0001\n",
        "  criterion = nn.CrossEntropyLoss()\n",
        "  optimizer = optim.Adam(model.parameters(), lr=_lr)\n",
        "\n",
        "  # Concatenate datasets if multimodal\n",
        "  train_dataset = ConcatDataset(X_train, X_train_spec, y_train, modality = _modality, fullscale = _fullscale)\n",
        "  test_dataset = ConcatDataset(X_test, X_test_spec, y_test, modality = _modality, fullscale = _fullscale)\n",
        "\n",
        "  # Create data loaders\n",
        "  _bs = 8\n",
        "\n",
        "  # Create data loaders\n",
        "  train_loader = torch.utils.data.DataLoader(train_dataset, batch_size=_bs, shuffle=True)\n",
        "  test_loader = torch.utils.data.DataLoader(test_dataset, batch_size=_bs)\n",
        "\n",
        "  print(f\"\\n\\nBatch size: {_bs}\", f\"lr: {_lr}\")\n",
        "\n",
        "  # Training loop\n",
        "  num_epochs = 50\n",
        "  print(f\"Training ViT for \\\"{_modality}\\\" pipeline ...\\n------------------------------------------------\\n\")\n",
        "  for epoch in range(num_epochs):\n",
        "      print(\"Epoch \" + str(epoch))\n",
        "      train_loss, train_accuracy = train_model(model, criterion, optimizer, train_loader, device)\n",
        "      test_loss, test_accuracy = test_model(model, criterion, test_loader, device)\n",
        "      print(f\"Epoch {epoch+1}/{num_epochs}, Train Loss: {train_loss:.4f}, Train Accuracy: {train_accuracy:.4f}, Test Loss: {test_loss:.4f}, Test Accuracy: {test_accuracy:.4f}\")\n",
        "\n",
        "  # Save the model\n",
        "  if _modality == 'multimodal':\n",
        "    torch.save(model.state_dict(), 'ViT_audio_video_fullscale_'+str(num_epochs)+'_'+str(_bs)+'_'+str(_lr))\n",
        "  elif _modality == 'audio':\n",
        "    torch.save(model.state_dict(), 'ViT_audio_fullscale_'+str(num_epochs)+'_'+str(_bs)+'_'+str(_lr))\n",
        "  elif _modality == 'visual':\n",
        "    torch.save(model.state_dict(), 'ViT_video_fullscale_'+str(num_epochs)+'_'+str(_bs)+'_'+str(_lr))\n",
        "  else:\n",
        "    print(\"Improper modality provided!\")\n",
        "\n",
        "  return train_loss, train_accuracy, test_loss, test_accuracy"
      ]
    },
    {
      "cell_type": "code",
      "execution_count": 18,
      "metadata": {
        "id": "CXy5mkXruLRr"
      },
      "outputs": [],
      "source": [
        "# Define modalities\n",
        "# _modality = ['visual', 'audio', 'multimodal']"
      ]
    },
    {
      "cell_type": "code",
      "execution_count": 19,
      "metadata": {
        "id": "eaq2Nfvs9IZm"
      },
      "outputs": [],
      "source": [
        "# Train ViT\n",
        "# scores = {}\n",
        "# for _m in _modality:\n",
        "#   train_loss, train_accuracy, test_loss, test_accuracy = train_ViT(_m)\n",
        "#   scores[_m] = [train_loss, train_accuracy, test_loss, test_accuracy]"
      ]
    },
    {
      "cell_type": "code",
      "execution_count": 20,
      "metadata": {
        "id": "XNOX2sOP0E3j"
      },
      "outputs": [],
      "source": [
        "# # Print results\n",
        "# print(\"\\nResults\\n---------------\\n\")\n",
        "# for _m, val in scores.items():\n",
        "#   print(f\"Modality: {_m}, Train Loss: {val[0]:.4f}, Train Accuracy: {val[1]:.4f}, Test Loss: {val[2]:.4f}, Test Accuracy: {val[3]:.4f}\")"
      ]
    },
    {
      "cell_type": "code",
      "execution_count": 21,
      "metadata": {
        "id": "7eQaDTdZ9Qak"
      },
      "outputs": [],
      "source": [
        "# # Copy trained models to GDrive\n",
        "# !cp 'ViT_audio_video_fullscale_50_16_0.0001' '/content/drive/MyDrive/csci535/models'\n",
        "# !cp 'ViT_audio_fullscale_50_16_0.0001' '/content/drive/MyDrive/csci535/models'\n",
        "# !cp 'ViT_video_fullscale_50_16_0.0001' '/content/drive/MyDrive/csci535/models'"
      ]
    },
    {
      "cell_type": "code",
      "execution_count": 22,
      "metadata": {
        "id": "Gaxvcn5h7J33"
      },
      "outputs": [],
      "source": [
        "def cross_test_ViT(_modality_model, _modality_features):\n",
        "  _input_channels = 1\n",
        "  model = ViT(img_dim=224,  # Image dimension\n",
        "              in_channels=_input_channels,  # Number of input channels\n",
        "              patch_dim=16,  # Patch dimension\n",
        "              num_classes=6,  # 6 classes for HAPPY, SAD, ANGRY, DISGUST, FEAR, NEUTRAL\n",
        "              dim=768,  # Dimensionality of the token embeddings\n",
        "              blocks=6,  # Number of transformer blocks\n",
        "              heads=4,  # Number of attention heads\n",
        "              dim_linear_block=1024,  # Dimensionality of the linear block\n",
        "              dropout=0.4,  # Dropout rate\n",
        "              classification=True)  # Whether or not to include a classification token\n",
        "\n",
        "  state_dict = torch.load('/Users/aashigoyal/Desktop/vscode/aashimain/csci535/final_temp/models/ViT_' + _modality_model + '_fullscale_50_8_0.0001',map_location=torch.device('cpu'))\n",
        "  model.load_state_dict(state_dict)\n",
        "  device = torch.device(\"cuda\" if torch.cuda.is_available() else \"cpu\")\n",
        "  model.to(device)\n",
        "  # Define loss function and optimizer\n",
        "  _lr = 0.0001\n",
        "  criterion = nn.CrossEntropyLoss()\n",
        "  optimizer = optim.Adam(model.parameters(), lr=_lr)\n",
        "\n",
        "  test_dataset = ConcatDataset(X_test, X_test_spec, y_test, modality = _modality_features, fullscale = _fullscale)\n",
        "\n",
        "  # Create data loaders\n",
        "  _bs = 16\n",
        "\n",
        "  # Create data loaders\n",
        "  test_loader = torch.utils.data.DataLoader(test_dataset, batch_size=_bs)\n",
        "  print(f\"\\nTesting {_modality_model}-trained ViT pipeline on {_modality_features} features ...\\n---------------------------------------------------------\\n\")\n",
        "  test_loss, test_accuracy = test_model(model, criterion, test_loader, device)\n",
        "  print(f\"Test Loss: {test_loss:.4f}, Test Accuracy: {test_accuracy:.4f}\")"
      ]
    },
    {
      "cell_type": "code",
      "execution_count": 23,
      "metadata": {
        "colab": {
          "base_uri": "https://localhost:8080/"
        },
        "id": "ypSMQZwN7Q4p",
        "outputId": "db70adee-8661-4074-de87-bcbcffc3494d"
      },
      "outputs": [
        {
          "name": "stdout",
          "output_type": "stream",
          "text": [
            "\n",
            "Testing audio-trained ViT pipeline on visual features ...\n",
            "---------------------------------------------------------\n",
            "\n"
          ]
        },
        {
          "name": "stderr",
          "output_type": "stream",
          "text": [
            "100%|██████████| 140/140 [00:48<00:00,  2.88it/s]\n"
          ]
        },
        {
          "name": "stdout",
          "output_type": "stream",
          "text": [
            "Test Loss: 1.7960, Test Accuracy: 0.1661\n",
            "\n",
            "Testing video-trained ViT pipeline on audio features ...\n",
            "---------------------------------------------------------\n",
            "\n"
          ]
        },
        {
          "name": "stderr",
          "output_type": "stream",
          "text": [
            "100%|██████████| 140/140 [00:48<00:00,  2.87it/s]"
          ]
        },
        {
          "name": "stdout",
          "output_type": "stream",
          "text": [
            "Test Loss: 3.5936, Test Accuracy: 0.1724\n"
          ]
        },
        {
          "name": "stderr",
          "output_type": "stream",
          "text": [
            "\n"
          ]
        }
      ],
      "source": [
        "# Peform cross-test\n",
        "cross_test_ViT('audio', 'visual')\n",
        "cross_test_ViT('video', 'audio')"
      ]
    },
    {
      "cell_type": "code",
      "execution_count": 24,
      "metadata": {
        "colab": {
          "base_uri": "https://localhost:8080/"
        },
        "id": "hBExU4XL7RVh",
        "outputId": "e1a9f3c4-081e-46c5-e2c2-b1eb5ebab478"
      },
      "outputs": [
        {
          "name": "stdout",
          "output_type": "stream",
          "text": [
            "\n",
            "Testing audio-trained ViT pipeline on audio features ...\n",
            "---------------------------------------------------------\n",
            "\n"
          ]
        },
        {
          "name": "stderr",
          "output_type": "stream",
          "text": [
            "100%|██████████| 140/140 [00:49<00:00,  2.86it/s]\n"
          ]
        },
        {
          "name": "stdout",
          "output_type": "stream",
          "text": [
            "Test Loss: 1.7949, Test Accuracy: 0.1738\n",
            "\n",
            "Testing video-trained ViT pipeline on visual features ...\n",
            "---------------------------------------------------------\n",
            "\n"
          ]
        },
        {
          "name": "stderr",
          "output_type": "stream",
          "text": [
            "100%|██████████| 140/140 [00:48<00:00,  2.91it/s]"
          ]
        },
        {
          "name": "stdout",
          "output_type": "stream",
          "text": [
            "Test Loss: 1.4135, Test Accuracy: 0.5540\n"
          ]
        },
        {
          "name": "stderr",
          "output_type": "stream",
          "text": [
            "\n"
          ]
        }
      ],
      "source": [
        "# Perform straight-test for sanity check\n",
        "cross_test_ViT('audio', 'audio')\n",
        "cross_test_ViT('video', 'visual')"
      ]
    },
    {
      "cell_type": "code",
      "execution_count": 25,
      "metadata": {
        "id": "Q5SeIAOnTI-E"
      },
      "outputs": [
        {
          "data": {
            "text/plain": [
              "20"
            ]
          },
          "execution_count": 25,
          "metadata": {},
          "output_type": "execute_result"
        }
      ],
      "source": [
        "# Clear memory\n",
        "gc.collect()"
      ]
    },
    {
      "cell_type": "code",
      "execution_count": null,
      "metadata": {
        "id": "XzFnQhXhmCiI"
      },
      "outputs": [],
      "source": []
    }
  ],
  "metadata": {
    "accelerator": "GPU",
    "colab": {
      "gpuType": "T4",
      "provenance": []
    },
    "kernelspec": {
      "display_name": "Python 3",
      "name": "python3"
    },
    "language_info": {
      "codemirror_mode": {
        "name": "ipython",
        "version": 3
      },
      "file_extension": ".py",
      "mimetype": "text/x-python",
      "name": "python",
      "nbconvert_exporter": "python",
      "pygments_lexer": "ipython3",
      "version": "3.12.2"
    }
  },
  "nbformat": 4,
  "nbformat_minor": 0
}
