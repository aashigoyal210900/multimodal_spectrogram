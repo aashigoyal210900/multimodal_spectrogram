{
  "cells": [
    {
      "cell_type": "code",
      "execution_count": 1,
      "metadata": {
        "colab": {
          "base_uri": "https://localhost:8080/"
        },
        "id": "IY4PsvJq4oPl",
        "outputId": "92cb43c2-b712-4a5c-c7dc-6485751360a4"
      },
      "outputs": [
        {
          "name": "stdout",
          "output_type": "stream",
          "text": [
            "Drive already mounted at /content/drive; to attempt to forcibly remount, call drive.mount(\"/content/drive\", force_remount=True).\n"
          ]
        }
      ],
      "source": [
        "# from google.colab import drive\n",
        "# drive.mount('/content/drive')"
      ]
    },
    {
      "cell_type": "code",
      "execution_count": 1,
      "metadata": {
        "colab": {
          "base_uri": "https://localhost:8080/"
        },
        "id": "fos4gtTU4qM5",
        "outputId": "96682e54-35b8-48b9-e6b3-dec1ccf3e209"
      },
      "outputs": [
        {
          "name": "stdout",
          "output_type": "stream",
          "text": [
            "Collecting einops\n",
            "  Downloading einops-0.7.0-py3-none-any.whl.metadata (13 kB)\n",
            "Downloading einops-0.7.0-py3-none-any.whl (44 kB)\n",
            "\u001b[2K   \u001b[90m━━━━━━━━━━━━━━━━━━━━━━━━━━━━━━━━━━━━━━━━\u001b[0m \u001b[32m44.6/44.6 kB\u001b[0m \u001b[31m2.3 MB/s\u001b[0m eta \u001b[36m0:00:00\u001b[0m\n",
            "\u001b[?25hInstalling collected packages: einops\n",
            "Successfully installed einops-0.7.0\n",
            "Requirement already satisfied: facenet-pytorch in /Users/aashigoyal/anaconda3/envs/csci/lib/python3.12/site-packages (2.5.3)\n",
            "Requirement already satisfied: numpy in /Users/aashigoyal/anaconda3/envs/csci/lib/python3.12/site-packages (from facenet-pytorch) (1.26.4)\n",
            "Requirement already satisfied: requests in /Users/aashigoyal/anaconda3/envs/csci/lib/python3.12/site-packages (from facenet-pytorch) (2.31.0)\n",
            "Requirement already satisfied: torchvision in /Users/aashigoyal/anaconda3/envs/csci/lib/python3.12/site-packages (from facenet-pytorch) (0.17.1)\n",
            "Requirement already satisfied: pillow in /Users/aashigoyal/anaconda3/envs/csci/lib/python3.12/site-packages (from facenet-pytorch) (10.2.0)\n",
            "Requirement already satisfied: charset-normalizer<4,>=2 in /Users/aashigoyal/anaconda3/envs/csci/lib/python3.12/site-packages (from requests->facenet-pytorch) (2.0.4)\n",
            "Requirement already satisfied: idna<4,>=2.5 in /Users/aashigoyal/anaconda3/envs/csci/lib/python3.12/site-packages (from requests->facenet-pytorch) (3.4)\n",
            "Requirement already satisfied: urllib3<3,>=1.21.1 in /Users/aashigoyal/anaconda3/envs/csci/lib/python3.12/site-packages (from requests->facenet-pytorch) (2.1.0)\n",
            "Requirement already satisfied: certifi>=2017.4.17 in /Users/aashigoyal/anaconda3/envs/csci/lib/python3.12/site-packages (from requests->facenet-pytorch) (2024.2.2)\n",
            "Requirement already satisfied: torch in /Users/aashigoyal/anaconda3/envs/csci/lib/python3.12/site-packages (from torchvision->facenet-pytorch) (2.2.1)\n",
            "Requirement already satisfied: filelock in /Users/aashigoyal/anaconda3/envs/csci/lib/python3.12/site-packages (from torch->torchvision->facenet-pytorch) (3.13.1)\n",
            "Requirement already satisfied: typing-extensions>=4.8.0 in /Users/aashigoyal/anaconda3/envs/csci/lib/python3.12/site-packages (from torch->torchvision->facenet-pytorch) (4.9.0)\n",
            "Requirement already satisfied: sympy in /Users/aashigoyal/anaconda3/envs/csci/lib/python3.12/site-packages (from torch->torchvision->facenet-pytorch) (1.12)\n",
            "Requirement already satisfied: networkx in /Users/aashigoyal/anaconda3/envs/csci/lib/python3.12/site-packages (from torch->torchvision->facenet-pytorch) (3.1)\n",
            "Requirement already satisfied: jinja2 in /Users/aashigoyal/anaconda3/envs/csci/lib/python3.12/site-packages (from torch->torchvision->facenet-pytorch) (3.1.3)\n",
            "Collecting fsspec (from torch->torchvision->facenet-pytorch)\n",
            "  Downloading fsspec-2024.3.1-py3-none-any.whl.metadata (6.8 kB)\n",
            "Requirement already satisfied: MarkupSafe>=2.0 in /Users/aashigoyal/anaconda3/envs/csci/lib/python3.12/site-packages (from jinja2->torch->torchvision->facenet-pytorch) (2.1.3)\n",
            "Requirement already satisfied: mpmath>=0.19 in /Users/aashigoyal/anaconda3/envs/csci/lib/python3.12/site-packages (from sympy->torch->torchvision->facenet-pytorch) (1.3.0)\n",
            "Downloading fsspec-2024.3.1-py3-none-any.whl (171 kB)\n",
            "\u001b[2K   \u001b[90m━━━━━━━━━━━━━━━━━━━━━━━━━━━━━━━━━━━━━━━━\u001b[0m \u001b[32m172.0/172.0 kB\u001b[0m \u001b[31m6.0 MB/s\u001b[0m eta \u001b[36m0:00:00\u001b[0m\n",
            "\u001b[?25hInstalling collected packages: fsspec\n",
            "Successfully installed fsspec-2024.3.1\n",
            "Requirement already satisfied: face_alignment in /Users/aashigoyal/anaconda3/envs/csci/lib/python3.12/site-packages (1.4.1)\n",
            "Requirement already satisfied: torch in /Users/aashigoyal/anaconda3/envs/csci/lib/python3.12/site-packages (from face_alignment) (2.2.1)\n",
            "Requirement already satisfied: numpy in /Users/aashigoyal/anaconda3/envs/csci/lib/python3.12/site-packages (from face_alignment) (1.26.4)\n",
            "Requirement already satisfied: scipy>=0.17 in /Users/aashigoyal/anaconda3/envs/csci/lib/python3.12/site-packages (from face_alignment) (1.12.0)\n",
            "Requirement already satisfied: scikit-image in /Users/aashigoyal/anaconda3/envs/csci/lib/python3.12/site-packages (from face_alignment) (0.22.0)\n",
            "Requirement already satisfied: opencv-python in /Users/aashigoyal/anaconda3/envs/csci/lib/python3.12/site-packages (from face_alignment) (4.9.0.80)\n",
            "Requirement already satisfied: tqdm in /Users/aashigoyal/anaconda3/envs/csci/lib/python3.12/site-packages (from face_alignment) (4.66.2)\n",
            "Requirement already satisfied: numba in /Users/aashigoyal/anaconda3/envs/csci/lib/python3.12/site-packages (from face_alignment) (0.59.0)\n",
            "Requirement already satisfied: llvmlite<0.43,>=0.42.0dev0 in /Users/aashigoyal/anaconda3/envs/csci/lib/python3.12/site-packages (from numba->face_alignment) (0.42.0)\n",
            "Requirement already satisfied: networkx>=2.8 in /Users/aashigoyal/anaconda3/envs/csci/lib/python3.12/site-packages (from scikit-image->face_alignment) (3.1)\n",
            "Requirement already satisfied: pillow>=9.0.1 in /Users/aashigoyal/anaconda3/envs/csci/lib/python3.12/site-packages (from scikit-image->face_alignment) (10.2.0)\n",
            "Requirement already satisfied: imageio>=2.27 in /Users/aashigoyal/anaconda3/envs/csci/lib/python3.12/site-packages (from scikit-image->face_alignment) (2.34.0)\n",
            "Requirement already satisfied: tifffile>=2022.8.12 in /Users/aashigoyal/anaconda3/envs/csci/lib/python3.12/site-packages (from scikit-image->face_alignment) (2024.2.12)\n",
            "Requirement already satisfied: packaging>=21 in /Users/aashigoyal/anaconda3/envs/csci/lib/python3.12/site-packages (from scikit-image->face_alignment) (23.2)\n",
            "Requirement already satisfied: lazy_loader>=0.3 in /Users/aashigoyal/anaconda3/envs/csci/lib/python3.12/site-packages (from scikit-image->face_alignment) (0.3)\n",
            "Requirement already satisfied: filelock in /Users/aashigoyal/anaconda3/envs/csci/lib/python3.12/site-packages (from torch->face_alignment) (3.13.1)\n",
            "Requirement already satisfied: typing-extensions>=4.8.0 in /Users/aashigoyal/anaconda3/envs/csci/lib/python3.12/site-packages (from torch->face_alignment) (4.9.0)\n",
            "Requirement already satisfied: sympy in /Users/aashigoyal/anaconda3/envs/csci/lib/python3.12/site-packages (from torch->face_alignment) (1.12)\n",
            "Requirement already satisfied: jinja2 in /Users/aashigoyal/anaconda3/envs/csci/lib/python3.12/site-packages (from torch->face_alignment) (3.1.3)\n",
            "Requirement already satisfied: fsspec in /Users/aashigoyal/anaconda3/envs/csci/lib/python3.12/site-packages (from torch->face_alignment) (2024.3.1)\n",
            "Requirement already satisfied: MarkupSafe>=2.0 in /Users/aashigoyal/anaconda3/envs/csci/lib/python3.12/site-packages (from jinja2->torch->face_alignment) (2.1.3)\n",
            "Requirement already satisfied: mpmath>=0.19 in /Users/aashigoyal/anaconda3/envs/csci/lib/python3.12/site-packages (from sympy->torch->face_alignment) (1.3.0)\n",
            "Collecting self_attention_cv\n",
            "  Downloading self_attention_cv-1.2.3-py3-none-any.whl.metadata (7.1 kB)\n",
            "Requirement already satisfied: torch>=1.7 in /Users/aashigoyal/anaconda3/envs/csci/lib/python3.12/site-packages (from self_attention_cv) (2.2.1)\n",
            "Requirement already satisfied: torchvision>=0.8 in /Users/aashigoyal/anaconda3/envs/csci/lib/python3.12/site-packages (from self_attention_cv) (0.17.1)\n",
            "Requirement already satisfied: einops>=0.3 in /Users/aashigoyal/anaconda3/envs/csci/lib/python3.12/site-packages (from self_attention_cv) (0.7.0)\n",
            "Requirement already satisfied: numpy>=1.19 in /Users/aashigoyal/anaconda3/envs/csci/lib/python3.12/site-packages (from self_attention_cv) (1.26.4)\n",
            "Collecting pytest>=6.2 (from self_attention_cv)\n",
            "  Downloading pytest-8.1.1-py3-none-any.whl.metadata (7.6 kB)\n",
            "Collecting iniconfig (from pytest>=6.2->self_attention_cv)\n",
            "  Downloading iniconfig-2.0.0-py3-none-any.whl.metadata (2.6 kB)\n",
            "Requirement already satisfied: packaging in /Users/aashigoyal/anaconda3/envs/csci/lib/python3.12/site-packages (from pytest>=6.2->self_attention_cv) (23.2)\n",
            "Collecting pluggy<2.0,>=1.4 (from pytest>=6.2->self_attention_cv)\n",
            "  Downloading pluggy-1.4.0-py3-none-any.whl.metadata (4.3 kB)\n",
            "Requirement already satisfied: filelock in /Users/aashigoyal/anaconda3/envs/csci/lib/python3.12/site-packages (from torch>=1.7->self_attention_cv) (3.13.1)\n",
            "Requirement already satisfied: typing-extensions>=4.8.0 in /Users/aashigoyal/anaconda3/envs/csci/lib/python3.12/site-packages (from torch>=1.7->self_attention_cv) (4.9.0)\n",
            "Requirement already satisfied: sympy in /Users/aashigoyal/anaconda3/envs/csci/lib/python3.12/site-packages (from torch>=1.7->self_attention_cv) (1.12)\n",
            "Requirement already satisfied: networkx in /Users/aashigoyal/anaconda3/envs/csci/lib/python3.12/site-packages (from torch>=1.7->self_attention_cv) (3.1)\n",
            "Requirement already satisfied: jinja2 in /Users/aashigoyal/anaconda3/envs/csci/lib/python3.12/site-packages (from torch>=1.7->self_attention_cv) (3.1.3)\n",
            "Requirement already satisfied: fsspec in /Users/aashigoyal/anaconda3/envs/csci/lib/python3.12/site-packages (from torch>=1.7->self_attention_cv) (2024.3.1)\n",
            "Requirement already satisfied: pillow!=8.3.*,>=5.3.0 in /Users/aashigoyal/anaconda3/envs/csci/lib/python3.12/site-packages (from torchvision>=0.8->self_attention_cv) (10.2.0)\n",
            "Requirement already satisfied: MarkupSafe>=2.0 in /Users/aashigoyal/anaconda3/envs/csci/lib/python3.12/site-packages (from jinja2->torch>=1.7->self_attention_cv) (2.1.3)\n",
            "Requirement already satisfied: mpmath>=0.19 in /Users/aashigoyal/anaconda3/envs/csci/lib/python3.12/site-packages (from sympy->torch>=1.7->self_attention_cv) (1.3.0)\n",
            "Downloading self_attention_cv-1.2.3-py3-none-any.whl (42 kB)\n",
            "\u001b[2K   \u001b[90m━━━━━━━━━━━━━━━━━━━━━━━━━━━━━━━━━━━━━━━━\u001b[0m \u001b[32m42.4/42.4 kB\u001b[0m \u001b[31m2.1 MB/s\u001b[0m eta \u001b[36m0:00:00\u001b[0m\n",
            "\u001b[?25hDownloading pytest-8.1.1-py3-none-any.whl (337 kB)\n",
            "\u001b[2K   \u001b[90m━━━━━━━━━━━━━━━━━━━━━━━━━━━━━━━━━━━━━━━━\u001b[0m \u001b[32m337.4/337.4 kB\u001b[0m \u001b[31m11.1 MB/s\u001b[0m eta \u001b[36m0:00:00\u001b[0m\n",
            "\u001b[?25hDownloading pluggy-1.4.0-py3-none-any.whl (20 kB)\n",
            "Downloading iniconfig-2.0.0-py3-none-any.whl (5.9 kB)\n",
            "Installing collected packages: pluggy, iniconfig, pytest, self_attention_cv\n",
            "Successfully installed iniconfig-2.0.0 pluggy-1.4.0 pytest-8.1.1 self_attention_cv-1.2.3\n"
          ]
        }
      ],
      "source": [
        "!python3 -m pip install einops\n",
        "!python3 -m pip install facenet-pytorch\n",
        "!python3 -m pip install face_alignment\n",
        "!python3 -m pip install self_attention_cv"
      ]
    },
    {
      "cell_type": "code",
      "execution_count": 2,
      "metadata": {
        "id": "0UY1RHcZ4YNw"
      },
      "outputs": [
        {
          "name": "stderr",
          "output_type": "stream",
          "text": [
            "/Users/aashigoyal/anaconda3/envs/csci/lib/python3.12/site-packages/tqdm/auto.py:21: TqdmWarning: IProgress not found. Please update jupyter and ipywidgets. See https://ipywidgets.readthedocs.io/en/stable/user_install.html\n",
            "  from .autonotebook import tqdm as notebook_tqdm\n"
          ]
        }
      ],
      "source": [
        "import cv2\n",
        "import os\n",
        "import sys\n",
        "import torch\n",
        "import torch.nn as nn\n",
        "import torch.optim as optim\n",
        "import torchvision.transforms as transforms\n",
        "from torchvision import models\n",
        "from PIL import Image\n",
        "from einops.layers.torch import Rearrange\n",
        "from einops import rearrange\n",
        "from facenet_pytorch import MTCNN\n",
        "from self_attention_cv import TransformerEncoder\n",
        "from sklearn.model_selection import train_test_split\n",
        "import numpy as np\n",
        "from tqdm import tqdm\n",
        "import face_alignment\n",
        "import dlib\n",
        "import requests"
      ]
    },
    {
      "cell_type": "code",
      "execution_count": 3,
      "metadata": {
        "id": "NiWEWAOF6b-S"
      },
      "outputs": [],
      "source": [
        "def extract_frame(video_path):\n",
        "    cap = cv2.VideoCapture(video_path)\n",
        "    frame_count = int(cap.get(cv2.CAP_PROP_FRAME_COUNT))\n",
        "    fps = cap.get(cv2.CAP_PROP_FPS)\n",
        "    mid_frame_index = frame_count // 2  # Index of the frame in the middle of the video\n",
        "    cap.set(cv2.CAP_PROP_POS_FRAMES, mid_frame_index)\n",
        "    ret, frame = cap.read()\n",
        "    if ret:\n",
        "        cap.release()\n",
        "        return frame\n",
        "    else:\n",
        "        cap.release()\n",
        "        return None"
      ]
    },
    {
      "cell_type": "code",
      "execution_count": 4,
      "metadata": {
        "id": "l37ccKkO6cvt"
      },
      "outputs": [],
      "source": [
        "def detect_face(frame):\n",
        "    mtcnn = MTCNN()\n",
        "    boxes, _ = mtcnn.detect(frame)\n",
        "    if boxes is not None:\n",
        "        # Assuming only one face in the frame\n",
        "        box = boxes[0]\n",
        "        x1, y1, x2, y2 = box\n",
        "        # Crop the frame to the detected face\n",
        "        cropped_frame = frame[int(y1):int(y2), int(x1):int(x2)]\n",
        "        return cropped_frame\n",
        "    else:\n",
        "        return None"
      ]
    },
    {
      "cell_type": "code",
      "execution_count": 5,
      "metadata": {
        "id": "GUr4HOzW6fmC"
      },
      "outputs": [
        {
          "name": "stdout",
          "output_type": "stream",
          "text": [
            "Downloading pretrained face alignment model...\n",
            "Download complete.\n"
          ]
        }
      ],
      "source": [
        "# Function to download the pretrained face alignment model if it doesn't exist\n",
        "def download_face_alignment_model(url, save_path):\n",
        "    if not os.path.exists(save_path):\n",
        "        print(\"Downloading pretrained face alignment model...\")\n",
        "        response = requests.get(url)\n",
        "        with open(save_path, 'wb') as f:\n",
        "            f.write(response.content)\n",
        "        print(\"Download complete.\")\n",
        "\n",
        "# Specify the URL of the pretrained face alignment model\n",
        "face_alignment_model_url = \"https://github.com/1adrianb/face-alignment-models/releases/download/2.0.1/2DFAN4-11f355bf06.pth.tar\"\n",
        "\n",
        "# Download the pretrained face alignment model if it doesn't exist\n",
        "face_alignment_model_path = os.path.abspath(\"2DFAN4-11f355bf06.pth.tar\")\n",
        "download_face_alignment_model(face_alignment_model_url, face_alignment_model_path)\n",
        "\n",
        "# Initialize face alignment model\n",
        "fa = face_alignment.FaceAlignment(2, flip_input=False,device='cpu')  # 2 corresponds to 2D landmarks\n",
        "\n",
        "def align_face(frame):\n",
        "    # Perform face alignment\n",
        "    aligned_faces = fa.get_landmarks(frame)\n",
        "    if aligned_faces is not None:\n",
        "        aligned_face = aligned_faces[0]  # Assuming only one face in the frame\n",
        "        return aligned_face\n",
        "    else:\n",
        "        return None\n"
      ]
    },
    {
      "cell_type": "code",
      "execution_count": 6,
      "metadata": {
        "id": "wYOMbbU975Fm"
      },
      "outputs": [],
      "source": [
        "\n",
        "# Define the preprocessing functions for video frames and spectrograms\n",
        "def preprocess_image(frame):\n",
        "    frame_pil = Image.fromarray(frame.astype('uint8'))\n",
        "    frame_pil = frame_pil.convert('L')  # Convert to grayscale\n",
        "    transform = transforms.Compose([\n",
        "        transforms.Resize((224, 224)),\n",
        "        transforms.ToTensor(),\n",
        "        transforms.Normalize(mean=[0.485], std=[0.229]),  # Normalize using ImageNet mean and std\n",
        "    ])\n",
        "    frame_tensor = transform(frame_pil)\n",
        "    return frame_tensor"
      ]
    },
    {
      "cell_type": "code",
      "execution_count": 7,
      "metadata": {
        "id": "BkbbyV3a-Bax"
      },
      "outputs": [],
      "source": [
        "def preprocess_spectrogram(image_path):\n",
        "    img = Image.open(image_path).convert('L')  # Convert to grayscale\n",
        "    transform = transforms.Compose([\n",
        "        transforms.Resize((224, 224)),  # Resize to match ViT input size\n",
        "        transforms.ToTensor(),           # Convert to tensor\n",
        "    ])\n",
        "    img_tensor = transform(img)\n",
        "    return img_tensor"
      ]
    },
    {
      "cell_type": "code",
      "execution_count": 8,
      "metadata": {
        "id": "TIqOKFzr6j0V"
      },
      "outputs": [],
      "source": [
        "def load_spectrogram_dataset(input_folder):\n",
        "    X = []\n",
        "    y = []\n",
        "    # List all files in the input folder\n",
        "    files = os.listdir(input_folder)\n",
        "    # Iterate over files in the folder\n",
        "    for filename in files:\n",
        "        if filename.endswith(\".png\"):  # Assuming mel spectrograms are stored as PNG files\n",
        "            input_path = os.path.join(input_folder, filename)\n",
        "            img_tensor = preprocess_spectrogram(input_path)\n",
        "            X.append(img_tensor)\n",
        "            # Extract label from filename (assuming filename is in format \"abc_IEO_label_xyz.png\")\n",
        "            label = filename.split(\"_\")[2]\n",
        "            if label == \"HAP\":\n",
        "                y.append(0)\n",
        "            elif label == \"SAD\":\n",
        "                y.append(1)\n",
        "            elif label == \"ANG\":\n",
        "                y.append(2)\n",
        "            elif label == \"DIS\":\n",
        "                y.append(3)\n",
        "            elif label == \"FEA\":\n",
        "                y.append(4)\n",
        "            elif label == \"NEU\":\n",
        "                y.append(5)\n",
        "    return X, y"
      ]
    },
    {
      "cell_type": "code",
      "execution_count": 9,
      "metadata": {
        "id": "n4Xum7nf6lfg"
      },
      "outputs": [],
      "source": [
        "def load_dataset(input_folder):\n",
        "    X = []\n",
        "    y = []\n",
        "    video_files = [file for file in os.listdir(input_folder) if file.endswith(\".flv\")]\n",
        "    for video_file in tqdm(video_files):\n",
        "        video_path = os.path.join(input_folder, video_file)\n",
        "        frame = extract_frame(video_path)\n",
        "        if frame is not None:\n",
        "            cropped_face = detect_face(frame)\n",
        "            if cropped_face is not None:\n",
        "                preprocessed_face = preprocess_image(cropped_face)\n",
        "                X.append(preprocessed_face)\n",
        "                label = video_file.split(\"_\")[2].split(\".\")[0]  # Adjusted to handle different file extensions\n",
        "                if label == \"HAP\":\n",
        "                    y.append(0)\n",
        "                elif label == \"SAD\":\n",
        "                    y.append(1)\n",
        "                elif label == \"ANG\":\n",
        "                    y.append(2)\n",
        "                elif label == \"DIS\":\n",
        "                    y.append(3)\n",
        "                elif label == \"FEA\":\n",
        "                    y.append(4)\n",
        "                elif label == \"NEU\":\n",
        "                    y.append(5)\n",
        "            else:\n",
        "                print(f\"No face detected in {video_file}. Skipping.\")\n",
        "        else:\n",
        "            print(f\"Failed to extract frame from {video_file}. Skipping.\")\n",
        "    return X, y"
      ]
    },
    {
      "cell_type": "code",
      "execution_count": 11,
      "metadata": {
        "id": "q8gd6HoS--Rj"
      },
      "outputs": [],
      "source": [
        "# Define the ConcatDataset class to concatenate video frame and spectrogram tensors\n",
        "class ConcatDataset(torch.utils.data.Dataset):\n",
        "    def __init__(self, X1, X2, y, modality='multimodal', fullscale=False):\n",
        "        self.X1 = X1\n",
        "        self.X2 = X2\n",
        "        self.y = y\n",
        "        self.modality = modality\n",
        "        self.fullscale = fullscale\n",
        "    def __len__(self):\n",
        "        return len(self.y)\n",
        "\n",
        "    def __getitem__(self, idx):\n",
        "        if not self.fullscale:\n",
        "          img1 = self.X1[idx]\n",
        "          img2 = self.X2[idx]\n",
        "          label = self.y[idx]\n",
        "        else:\n",
        "          img1 = torch.from_numpy(self.X1[idx]).float()  # Convert numpy array to torch tensor\n",
        "          img2 = torch.from_numpy(self.X2[idx]).float()  # Convert numpy array to torch tensor\n",
        "          label = torch.tensor(self.y[idx])  # Convert numpy array to torch tensor\n",
        "\n",
        "        concatenated_img = torch.cat((img1, img2), dim=0)  # Concatenate along 0 dimension\n",
        "        if self.modality == 'visual':\n",
        "          return img1, label\n",
        "        if self.modality == 'audio':\n",
        "          return img2, label\n",
        "        return concatenated_img, label # concatenate modalities"
      ]
    },
    {
      "cell_type": "code",
      "execution_count": 12,
      "metadata": {
        "id": "3TBMdqtI6oZ0"
      },
      "outputs": [],
      "source": [
        "def train_model(model, criterion, optimizer, train_loader, device):\n",
        "    model.train()\n",
        "    running_loss = 0.0\n",
        "    correct_preds = 0\n",
        "    total_preds = 0\n",
        "    for inputs, labels in tqdm(train_loader):\n",
        "        inputs, labels = inputs.to(device), labels.to(device)\n",
        "        optimizer.zero_grad()\n",
        "        outputs = model(inputs)\n",
        "        loss = criterion(outputs, labels)\n",
        "        loss.backward()\n",
        "        optimizer.step()\n",
        "        running_loss += loss.item() * inputs.size(0)\n",
        "        _, predicted = torch.max(outputs, 1)\n",
        "        correct_preds += (predicted == labels).sum().item()\n",
        "        total_preds += labels.size(0)\n",
        "\n",
        "    epoch_loss = running_loss / len(train_loader.dataset)\n",
        "    accuracy = correct_preds / total_preds\n",
        "    return epoch_loss, accuracy"
      ]
    },
    {
      "cell_type": "code",
      "execution_count": 13,
      "metadata": {
        "id": "aq6skVDB6p6M"
      },
      "outputs": [],
      "source": [
        "def test_model(model, criterion, test_loader, device):\n",
        "    model.eval()\n",
        "    running_loss = 0.0\n",
        "    correct_preds = 0\n",
        "    total_preds = 0\n",
        "    with torch.no_grad():\n",
        "        for inputs, labels in tqdm(test_loader):\n",
        "            inputs, labels = inputs.to(device), labels.to(device)\n",
        "            outputs = model(inputs)\n",
        "            loss = criterion(outputs, labels)\n",
        "            running_loss += loss.item() * inputs.size(0)\n",
        "            _, predicted = torch.max(outputs, 1)\n",
        "            correct_preds += (predicted == labels).sum().item()\n",
        "            total_preds += labels.size(0)\n",
        "    epoch_loss = running_loss / len(test_loader.dataset)\n",
        "    accuracy = correct_preds / total_preds\n",
        "    return epoch_loss, accuracy"
      ]
    },
    {
      "cell_type": "code",
      "execution_count": 14,
      "metadata": {
        "id": "mhjpuUMgo3KU"
      },
      "outputs": [],
      "source": [
        "class ViT(nn.Module):\n",
        "    # ViT architecture adapted from here - https://theaisummer.com/vision-transformer/\n",
        "    def __init__(self, *,\n",
        "                 img_dim,\n",
        "                 in_channels=3,\n",
        "                 patch_dim=16,\n",
        "                 num_classes=6, # full-scale CREMA-D\n",
        "                 dim=512,\n",
        "                 blocks=6,\n",
        "                 heads=4,\n",
        "                 dim_linear_block=1024,\n",
        "                 dim_head=None,\n",
        "                 dropout=0, transformer=None, classification=True):\n",
        "        \"\"\"\n",
        "        Args:\n",
        "            img_dim: the spatial image size\n",
        "            in_channels: number of img channels\n",
        "            patch_dim: desired patch dim\n",
        "            num_classes: classification task classes\n",
        "            dim: the linear layer's dim to project the patches for MHSA\n",
        "            blocks: number of transformer blocks\n",
        "            heads: number of heads\n",
        "            dim_linear_block: inner dim of the transformer linear block\n",
        "            dim_head: dim head in case you want to define it. defaults to dim/heads\n",
        "            dropout: for pos emb and transformer\n",
        "            transformer: in case you want to provide another transformer implementation\n",
        "            classification: creates an extra CLS token\n",
        "        \"\"\"\n",
        "        super().__init__()\n",
        "        assert img_dim % patch_dim == 0, f'patch size {patch_dim} not divisible'\n",
        "        self.p = patch_dim\n",
        "        self.classification = classification\n",
        "        tokens = (img_dim // patch_dim) ** 2\n",
        "        self.token_dim = in_channels * (patch_dim ** 2)\n",
        "        self.dim = dim\n",
        "        self.dim_head = (int(dim / heads)) if dim_head is None else dim_head\n",
        "        self.project_patches = nn.Linear(self.token_dim, dim)\n",
        "\n",
        "        self.emb_dropout = nn.Dropout(dropout)\n",
        "        if self.classification:\n",
        "            self.cls_token = nn.Parameter(torch.randn(1, 1, dim))\n",
        "            self.pos_emb1D = nn.Parameter(torch.randn(tokens + 1, dim))\n",
        "            self.mlp_head = nn.Linear(dim, num_classes)\n",
        "        else:\n",
        "            self.pos_emb1D = nn.Parameter(torch.randn(tokens, dim))\n",
        "\n",
        "        if transformer is None:\n",
        "            self.transformer = TransformerEncoder(dim, blocks=blocks, heads=heads,\n",
        "                                                  dim_head=self.dim_head,\n",
        "                                                  dim_linear_block=dim_linear_block,\n",
        "                                                  dropout=dropout)\n",
        "        else:\n",
        "            self.transformer = transformer\n",
        "\n",
        "    def expand_cls_to_batch(self, batch):\n",
        "        \"\"\"\n",
        "        Args:\n",
        "            batch: batch size\n",
        "        Returns: cls token expanded to the batch size\n",
        "        \"\"\"\n",
        "        return self.cls_token.expand([batch, -1, -1])\n",
        "\n",
        "    def forward(self, img, mask=None):\n",
        "        batch_size = img.shape[0]\n",
        "        img_patches = rearrange(\n",
        "            img, 'b c (patch_x x) (patch_y y) -> b (x y) (patch_x patch_y c)',\n",
        "                                patch_x=self.p, patch_y=self.p)\n",
        "        # project patches with linear layer + add pos emb\n",
        "        img_patches = self.project_patches(img_patches)\n",
        "\n",
        "        if self.classification:\n",
        "            img_patches = torch.cat(\n",
        "                (self.expand_cls_to_batch(batch_size), img_patches), dim=1)\n",
        "\n",
        "        patch_embeddings = self.emb_dropout(img_patches + self.pos_emb1D)\n",
        "\n",
        "        # feed patch_embeddings and output of transformer. shape: [batch, tokens, dim]\n",
        "        y = self.transformer(patch_embeddings, mask)\n",
        "\n",
        "        if self.classification:\n",
        "            # we index only the cls token for classification.\n",
        "            return self.mlp_head(y[:, 0, :])\n",
        "        else:\n",
        "            return y"
      ]
    },
    {
      "cell_type": "code",
      "execution_count": 15,
      "metadata": {
        "colab": {
          "base_uri": "https://localhost:8080/"
        },
        "id": "sAHGApwK4N92",
        "outputId": "72d97755-c8ac-4d33-e344-26bc1ed6ca36"
      },
      "outputs": [
        {
          "name": "stdout",
          "output_type": "stream",
          "text": [
            "Total number of samples: 7442\n",
            "Number of train samples (video): 5209 Number of test samples: 2233\n",
            "Number of train samples (audio): 5231 Number of test samples: 2242\n"
          ]
        }
      ],
      "source": [
        "_fullscale = True # Run fullscale experiment?\n",
        "\n",
        "# Define input_folder and input_folder_spec\n",
        "if _fullscale:\n",
        "  input_folder = '/Users/aashigoyal/Desktop/vscode/aashimain/csci535/final_temp/videos_fullscale'\n",
        "  input_folder_spec = '/Users/aashigoyal/Desktop/vscode/aashimain/csci535/final_temp/melspec_fullscale'\n",
        "else:\n",
        "  input_folder = '/content/drive/MyDrive/csci535_aashi/videos'\n",
        "  input_folder_spec = '/content/drive/MyDrive/csci535_aashi/melspec'\n",
        "\n",
        "# Check if input folder exists\n",
        "if not os.path.exists(input_folder):\n",
        "    print(\"Input folder does not exist.\")\n",
        "    sys.exit(1)\n",
        "# Check if input folder exists\n",
        "if not os.path.exists(input_folder_spec):\n",
        "    print(\"Input folder does not exist.\")\n",
        "    sys.exit(1)\n",
        "\n",
        "# Load dataset and split into train and test sets\n",
        "\n",
        "if not _fullscale:\n",
        "  X, y = load_dataset(input_folder)\n",
        "  X_spec, y_spec = load_spectrogram_dataset(input_folder_spec)\n",
        "\n",
        "else:\n",
        "  # Load numpy arrays with memory-mapping\n",
        "  X = np.load('/Users/aashigoyal/Desktop/vscode/aashimain/csci535/final_temp/X.npy', mmap_mode='r')\n",
        "  y = np.load('/Users/aashigoyal/Desktop/vscode/aashimain/csci535/final_temp/y.npy', mmap_mode='r')\n",
        "  X_spec = np.load('/Users/aashigoyal/Desktop/vscode/aashimain/csci535/final_temp/X_spec.npy', mmap_mode='r')\n",
        "  y_spec = np.load('/Users/aashigoyal/Desktop/vscode/aashimain/csci535/final_temp/y_spec.npy', mmap_mode='r')\n",
        "\n",
        "# Split the data into train and test sets\n",
        "print(f\"Total number of samples: {len(X)}\")\n",
        "X_train, X_test, y_train, y_test = train_test_split(X, y, test_size=0.3, random_state=42)\n",
        "print(f\"Number of train samples (video): {len(X_train)}\", f\"Number of test samples: {len(X_test)}\")\n",
        "X_train_spec, X_test_spec, y_train_spec, y_test_spec = train_test_split(X_spec, y_spec, test_size=0.3, random_state=42)\n",
        "print(f\"Number of train samples (audio): {len(X_train_spec)}\", f\"Number of test samples: {len(X_test_spec)}\")"
      ]
    },
    {
      "cell_type": "code",
      "execution_count": 16,
      "metadata": {
        "id": "wzuHjENY9Dpa"
      },
      "outputs": [],
      "source": [
        "def train_ViT(_modality):\n",
        "  # Adjust input channels as per modality\n",
        "  if _modality == 'multimodal':\n",
        "    _input_channels = 2\n",
        "  else:\n",
        "    _input_channels = 1\n",
        "\n",
        "  # Initialize the ViT model\n",
        "  model = ViT(img_dim=224,  # Image dimension\n",
        "              in_channels=_input_channels,  # Number of input channels\n",
        "              patch_dim=16,  # Patch dimension\n",
        "              num_classes=6,  # 6 classes for HAPPY, SAD, ANGRY, DISGUST, FEAR, NEUTRAL\n",
        "              dim=768,  # Dimensionality of the token embeddings\n",
        "              blocks=6,  # Number of transformer blocks\n",
        "              heads=4,  # Number of attention heads\n",
        "              dim_linear_block=1024,  # Dimensionality of the linear block\n",
        "              dropout=0.4,  # Dropout rate\n",
        "              classification=True)  # Whether or not to include a classification token\n",
        "\n",
        "  # Define device\n",
        "  device = torch.device(\"cuda\" if torch.cuda.is_available() else \"cpu\")\n",
        "  model.to(device)\n",
        "\n",
        "  # Define loss function and optimizer\n",
        "  _lr = 0.0001\n",
        "  criterion = nn.CrossEntropyLoss()\n",
        "  optimizer = optim.Adam(model.parameters(), lr=_lr)\n",
        "\n",
        "  # Concatenate datasets if multimodal\n",
        "  train_dataset = ConcatDataset(X_train, X_train_spec, y_train, modality = _modality, fullscale = _fullscale)\n",
        "  test_dataset = ConcatDataset(X_test, X_test_spec, y_test, modality = _modality, fullscale = _fullscale)\n",
        "\n",
        "  # Create data loaders\n",
        "  _bs = 8\n",
        "\n",
        "  # Create data loaders\n",
        "  train_loader = torch.utils.data.DataLoader(train_dataset, batch_size=_bs, shuffle=True)\n",
        "  test_loader = torch.utils.data.DataLoader(test_dataset, batch_size=_bs)\n",
        "\n",
        "  print(f\"\\n\\nBatch size: {_bs}\", f\"lr: {_lr}\")\n",
        "\n",
        "  # Training loop\n",
        "  num_epochs = 50\n",
        "  print(f\"Training ViT for \\\"{_modality}\\\" pipeline ...\\n------------------------------------------------\\n\")\n",
        "  for epoch in range(num_epochs):\n",
        "      print(\"Epoch \" + str(epoch))\n",
        "      train_loss, train_accuracy = train_model(model, criterion, optimizer, train_loader, device)\n",
        "      test_loss, test_accuracy = test_model(model, criterion, test_loader, device)\n",
        "      print(f\"Epoch {epoch+1}/{num_epochs}, Train Loss: {train_loss:.4f}, Train Accuracy: {train_accuracy:.4f}, Test Loss: {test_loss:.4f}, Test Accuracy: {test_accuracy:.4f}\")\n",
        "\n",
        "  # Save the model\n",
        "  if _modality == 'multimodal':\n",
        "    torch.save(model.state_dict(), 'ViT_audio_video_fullscale_'+str(num_epochs)+'_'+str(_bs)+'_'+str(_lr))\n",
        "  elif _modality == 'audio':\n",
        "    torch.save(model.state_dict(), 'ViT_audio_fullscale_'+str(num_epochs)+'_'+str(_bs)+'_'+str(_lr))\n",
        "  elif _modality == 'visual':\n",
        "    torch.save(model.state_dict(), 'ViT_video_fullscale_'+str(num_epochs)+'_'+str(_bs)+'_'+str(_lr))\n",
        "  else:\n",
        "    print(\"Improper modality provided!\")\n",
        "\n",
        "  return train_loss, train_accuracy, test_loss, test_accuracy"
      ]
    },
    {
      "cell_type": "code",
      "execution_count": 17,
      "metadata": {
        "id": "CXy5mkXruLRr"
      },
      "outputs": [],
      "source": [
        "# Define modalities\n",
        "_modality = ['visual', 'audio', 'multimodal']"
      ]
    },
    {
      "cell_type": "code",
      "execution_count": 18,
      "metadata": {
        "colab": {
          "base_uri": "https://localhost:8080/"
        },
        "id": "eaq2Nfvs9IZm",
        "outputId": "cc95819b-b35e-4d77-dcbd-d7ab33e28b32"
      },
      "outputs": [
        {
          "name": "stdout",
          "output_type": "stream",
          "text": [
            "\n",
            "\n",
            "Batch size: 8 lr: 0.0001\n",
            "Training ViT for \"visual\" pipeline ...\n",
            "------------------------------------------------\n",
            "\n",
            "Epoch 0\n"
          ]
        },
        {
          "name": "stderr",
          "output_type": "stream",
          "text": [
            "100%|██████████| 652/652 [06:52<00:00,  1.58it/s]\n",
            "100%|██████████| 280/280 [00:53<00:00,  5.28it/s]\n"
          ]
        },
        {
          "name": "stdout",
          "output_type": "stream",
          "text": [
            "Epoch 1/50, Train Loss: 1.6945, Train Accuracy: 0.2964, Test Loss: 1.4552, Test Accuracy: 0.4026\n",
            "Epoch 1\n"
          ]
        },
        {
          "name": "stderr",
          "output_type": "stream",
          "text": [
            "100%|██████████| 652/652 [06:42<00:00,  1.62it/s]\n",
            "100%|██████████| 280/280 [00:51<00:00,  5.42it/s]\n"
          ]
        },
        {
          "name": "stdout",
          "output_type": "stream",
          "text": [
            "Epoch 2/50, Train Loss: 1.5227, Train Accuracy: 0.3667, Test Loss: 1.5583, Test Accuracy: 0.3833\n",
            "Epoch 2\n"
          ]
        },
        {
          "name": "stderr",
          "output_type": "stream",
          "text": [
            "100%|██████████| 652/652 [05:15<00:00,  2.07it/s]\n",
            "100%|██████████| 280/280 [00:32<00:00,  8.62it/s]\n"
          ]
        },
        {
          "name": "stdout",
          "output_type": "stream",
          "text": [
            "Epoch 3/50, Train Loss: 1.4444, Train Accuracy: 0.4037, Test Loss: 1.5072, Test Accuracy: 0.4210\n",
            "Epoch 3\n"
          ]
        },
        {
          "name": "stderr",
          "output_type": "stream",
          "text": [
            "100%|██████████| 652/652 [04:12<00:00,  2.58it/s]\n",
            "100%|██████████| 280/280 [00:39<00:00,  7.11it/s]\n"
          ]
        },
        {
          "name": "stdout",
          "output_type": "stream",
          "text": [
            "Epoch 4/50, Train Loss: 1.4222, Train Accuracy: 0.4129, Test Loss: 1.3789, Test Accuracy: 0.4362\n",
            "Epoch 4\n"
          ]
        },
        {
          "name": "stderr",
          "output_type": "stream",
          "text": [
            "100%|██████████| 652/652 [04:42<00:00,  2.31it/s]\n",
            "100%|██████████| 280/280 [00:39<00:00,  7.17it/s]\n"
          ]
        },
        {
          "name": "stdout",
          "output_type": "stream",
          "text": [
            "Epoch 5/50, Train Loss: 1.3927, Train Accuracy: 0.4293, Test Loss: 1.4203, Test Accuracy: 0.4362\n",
            "Epoch 5\n"
          ]
        },
        {
          "name": "stderr",
          "output_type": "stream",
          "text": [
            "100%|██████████| 652/652 [04:34<00:00,  2.38it/s]\n",
            "100%|██████████| 280/280 [00:34<00:00,  8.11it/s]\n"
          ]
        },
        {
          "name": "stdout",
          "output_type": "stream",
          "text": [
            "Epoch 6/50, Train Loss: 1.3668, Train Accuracy: 0.4337, Test Loss: 1.3112, Test Accuracy: 0.4711\n",
            "Epoch 6\n"
          ]
        },
        {
          "name": "stderr",
          "output_type": "stream",
          "text": [
            "100%|██████████| 652/652 [04:14<00:00,  2.56it/s]\n",
            "100%|██████████| 280/280 [00:34<00:00,  8.14it/s]\n"
          ]
        },
        {
          "name": "stdout",
          "output_type": "stream",
          "text": [
            "Epoch 7/50, Train Loss: 1.3395, Train Accuracy: 0.4529, Test Loss: 1.4341, Test Accuracy: 0.4245\n",
            "Epoch 7\n"
          ]
        },
        {
          "name": "stderr",
          "output_type": "stream",
          "text": [
            "100%|██████████| 652/652 [04:21<00:00,  2.49it/s]\n",
            "100%|██████████| 280/280 [00:37<00:00,  7.40it/s]\n"
          ]
        },
        {
          "name": "stdout",
          "output_type": "stream",
          "text": [
            "Epoch 8/50, Train Loss: 1.3130, Train Accuracy: 0.4619, Test Loss: 1.3606, Test Accuracy: 0.4760\n",
            "Epoch 8\n"
          ]
        },
        {
          "name": "stderr",
          "output_type": "stream",
          "text": [
            "100%|██████████| 652/652 [06:58<00:00,  1.56it/s]\n",
            "100%|██████████| 280/280 [00:53<00:00,  5.22it/s]\n"
          ]
        },
        {
          "name": "stdout",
          "output_type": "stream",
          "text": [
            "Epoch 9/50, Train Loss: 1.2936, Train Accuracy: 0.4778, Test Loss: 1.3279, Test Accuracy: 0.4787\n",
            "Epoch 9\n"
          ]
        },
        {
          "name": "stderr",
          "output_type": "stream",
          "text": [
            "100%|██████████| 652/652 [06:13<00:00,  1.75it/s]\n",
            "100%|██████████| 280/280 [00:31<00:00,  8.91it/s]\n"
          ]
        },
        {
          "name": "stdout",
          "output_type": "stream",
          "text": [
            "Epoch 10/50, Train Loss: 1.2770, Train Accuracy: 0.4892, Test Loss: 1.3447, Test Accuracy: 0.4608\n",
            "Epoch 10\n"
          ]
        },
        {
          "name": "stderr",
          "output_type": "stream",
          "text": [
            "100%|██████████| 652/652 [04:08<00:00,  2.63it/s]\n",
            "100%|██████████| 280/280 [00:33<00:00,  8.28it/s]\n"
          ]
        },
        {
          "name": "stdout",
          "output_type": "stream",
          "text": [
            "Epoch 11/50, Train Loss: 1.2390, Train Accuracy: 0.4993, Test Loss: 1.2792, Test Accuracy: 0.4975\n",
            "Epoch 11\n"
          ]
        },
        {
          "name": "stderr",
          "output_type": "stream",
          "text": [
            "100%|██████████| 652/652 [04:13<00:00,  2.58it/s]\n",
            "100%|██████████| 280/280 [00:33<00:00,  8.46it/s]\n"
          ]
        },
        {
          "name": "stdout",
          "output_type": "stream",
          "text": [
            "Epoch 12/50, Train Loss: 1.2353, Train Accuracy: 0.5034, Test Loss: 1.3699, Test Accuracy: 0.4698\n",
            "Epoch 12\n"
          ]
        },
        {
          "name": "stderr",
          "output_type": "stream",
          "text": [
            "100%|██████████| 652/652 [04:14<00:00,  2.56it/s]\n",
            "100%|██████████| 280/280 [00:33<00:00,  8.26it/s]\n"
          ]
        },
        {
          "name": "stdout",
          "output_type": "stream",
          "text": [
            "Epoch 13/50, Train Loss: 1.2035, Train Accuracy: 0.5082, Test Loss: 1.3596, Test Accuracy: 0.4957\n",
            "Epoch 13\n"
          ]
        },
        {
          "name": "stderr",
          "output_type": "stream",
          "text": [
            "100%|██████████| 652/652 [04:14<00:00,  2.57it/s]\n",
            "100%|██████████| 280/280 [00:34<00:00,  8.22it/s]\n"
          ]
        },
        {
          "name": "stdout",
          "output_type": "stream",
          "text": [
            "Epoch 14/50, Train Loss: 1.1991, Train Accuracy: 0.5256, Test Loss: 1.3023, Test Accuracy: 0.4890\n",
            "Epoch 14\n"
          ]
        },
        {
          "name": "stderr",
          "output_type": "stream",
          "text": [
            "100%|██████████| 652/652 [04:14<00:00,  2.56it/s]\n",
            "100%|██████████| 280/280 [00:33<00:00,  8.46it/s]\n"
          ]
        },
        {
          "name": "stdout",
          "output_type": "stream",
          "text": [
            "Epoch 15/50, Train Loss: 1.1738, Train Accuracy: 0.5423, Test Loss: 1.3539, Test Accuracy: 0.4926\n",
            "Epoch 15\n"
          ]
        },
        {
          "name": "stderr",
          "output_type": "stream",
          "text": [
            "100%|██████████| 652/652 [04:13<00:00,  2.57it/s]\n",
            "100%|██████████| 280/280 [00:34<00:00,  8.18it/s]\n"
          ]
        },
        {
          "name": "stdout",
          "output_type": "stream",
          "text": [
            "Epoch 16/50, Train Loss: 1.1699, Train Accuracy: 0.5345, Test Loss: 1.3110, Test Accuracy: 0.4841\n",
            "Epoch 16\n"
          ]
        },
        {
          "name": "stderr",
          "output_type": "stream",
          "text": [
            "100%|██████████| 652/652 [04:14<00:00,  2.56it/s]\n",
            "100%|██████████| 280/280 [00:34<00:00,  8.16it/s]\n"
          ]
        },
        {
          "name": "stdout",
          "output_type": "stream",
          "text": [
            "Epoch 17/50, Train Loss: 1.1432, Train Accuracy: 0.5546, Test Loss: 1.2501, Test Accuracy: 0.5266\n",
            "Epoch 17\n"
          ]
        },
        {
          "name": "stderr",
          "output_type": "stream",
          "text": [
            "100%|██████████| 652/652 [04:15<00:00,  2.56it/s]\n",
            "100%|██████████| 280/280 [00:32<00:00,  8.51it/s]\n"
          ]
        },
        {
          "name": "stdout",
          "output_type": "stream",
          "text": [
            "Epoch 18/50, Train Loss: 1.1179, Train Accuracy: 0.5617, Test Loss: 1.2633, Test Accuracy: 0.5240\n",
            "Epoch 18\n"
          ]
        },
        {
          "name": "stderr",
          "output_type": "stream",
          "text": [
            "100%|██████████| 652/652 [04:14<00:00,  2.57it/s]\n",
            "100%|██████████| 280/280 [00:33<00:00,  8.30it/s]\n"
          ]
        },
        {
          "name": "stdout",
          "output_type": "stream",
          "text": [
            "Epoch 19/50, Train Loss: 1.1044, Train Accuracy: 0.5725, Test Loss: 1.2958, Test Accuracy: 0.5293\n",
            "Epoch 19\n"
          ]
        },
        {
          "name": "stderr",
          "output_type": "stream",
          "text": [
            "100%|██████████| 652/652 [04:15<00:00,  2.55it/s]\n",
            "100%|██████████| 280/280 [00:34<00:00,  8.16it/s]\n"
          ]
        },
        {
          "name": "stdout",
          "output_type": "stream",
          "text": [
            "Epoch 20/50, Train Loss: 1.0845, Train Accuracy: 0.5798, Test Loss: 1.2279, Test Accuracy: 0.5240\n",
            "Epoch 20\n"
          ]
        },
        {
          "name": "stderr",
          "output_type": "stream",
          "text": [
            "100%|██████████| 652/652 [04:15<00:00,  2.55it/s]\n",
            "100%|██████████| 280/280 [00:34<00:00,  8.10it/s]\n"
          ]
        },
        {
          "name": "stdout",
          "output_type": "stream",
          "text": [
            "Epoch 21/50, Train Loss: 1.0642, Train Accuracy: 0.5828, Test Loss: 1.2419, Test Accuracy: 0.5459\n",
            "Epoch 21\n"
          ]
        },
        {
          "name": "stderr",
          "output_type": "stream",
          "text": [
            "100%|██████████| 652/652 [04:16<00:00,  2.54it/s]\n",
            "100%|██████████| 280/280 [00:34<00:00,  8.17it/s]\n"
          ]
        },
        {
          "name": "stdout",
          "output_type": "stream",
          "text": [
            "Epoch 22/50, Train Loss: 1.0650, Train Accuracy: 0.5807, Test Loss: 1.3440, Test Accuracy: 0.5078\n",
            "Epoch 22\n"
          ]
        },
        {
          "name": "stderr",
          "output_type": "stream",
          "text": [
            "100%|██████████| 652/652 [04:10<00:00,  2.61it/s]\n",
            "100%|██████████| 280/280 [00:33<00:00,  8.33it/s]\n"
          ]
        },
        {
          "name": "stdout",
          "output_type": "stream",
          "text": [
            "Epoch 23/50, Train Loss: 1.0465, Train Accuracy: 0.5894, Test Loss: 1.3374, Test Accuracy: 0.5320\n",
            "Epoch 23\n"
          ]
        },
        {
          "name": "stderr",
          "output_type": "stream",
          "text": [
            "100%|██████████| 652/652 [04:13<00:00,  2.57it/s]\n",
            "100%|██████████| 280/280 [00:33<00:00,  8.29it/s]\n"
          ]
        },
        {
          "name": "stdout",
          "output_type": "stream",
          "text": [
            "Epoch 24/50, Train Loss: 1.0448, Train Accuracy: 0.5896, Test Loss: 1.3387, Test Accuracy: 0.5007\n",
            "Epoch 24\n"
          ]
        },
        {
          "name": "stderr",
          "output_type": "stream",
          "text": [
            "100%|██████████| 652/652 [04:14<00:00,  2.56it/s]\n",
            "100%|██████████| 280/280 [00:35<00:00,  7.99it/s]\n"
          ]
        },
        {
          "name": "stdout",
          "output_type": "stream",
          "text": [
            "Epoch 25/50, Train Loss: 1.0068, Train Accuracy: 0.6126, Test Loss: 1.3295, Test Accuracy: 0.5016\n",
            "Epoch 25\n"
          ]
        },
        {
          "name": "stderr",
          "output_type": "stream",
          "text": [
            "100%|██████████| 652/652 [04:12<00:00,  2.58it/s]\n",
            "100%|██████████| 280/280 [00:32<00:00,  8.65it/s]\n"
          ]
        },
        {
          "name": "stdout",
          "output_type": "stream",
          "text": [
            "Epoch 26/50, Train Loss: 1.0050, Train Accuracy: 0.6061, Test Loss: 1.2332, Test Accuracy: 0.5455\n",
            "Epoch 26\n"
          ]
        },
        {
          "name": "stderr",
          "output_type": "stream",
          "text": [
            "100%|██████████| 652/652 [04:14<00:00,  2.56it/s]\n",
            "100%|██████████| 280/280 [00:34<00:00,  8.11it/s]\n"
          ]
        },
        {
          "name": "stdout",
          "output_type": "stream",
          "text": [
            "Epoch 27/50, Train Loss: 0.9788, Train Accuracy: 0.6295, Test Loss: 1.2817, Test Accuracy: 0.5419\n",
            "Epoch 27\n"
          ]
        },
        {
          "name": "stderr",
          "output_type": "stream",
          "text": [
            "100%|██████████| 652/652 [04:14<00:00,  2.56it/s]\n",
            "100%|██████████| 280/280 [00:35<00:00,  7.96it/s]\n"
          ]
        },
        {
          "name": "stdout",
          "output_type": "stream",
          "text": [
            "Epoch 28/50, Train Loss: 0.9679, Train Accuracy: 0.6256, Test Loss: 1.2528, Test Accuracy: 0.5593\n",
            "Epoch 28\n"
          ]
        },
        {
          "name": "stderr",
          "output_type": "stream",
          "text": [
            "100%|██████████| 652/652 [04:14<00:00,  2.56it/s]\n",
            "100%|██████████| 280/280 [00:33<00:00,  8.42it/s]\n"
          ]
        },
        {
          "name": "stdout",
          "output_type": "stream",
          "text": [
            "Epoch 29/50, Train Loss: 0.9679, Train Accuracy: 0.6308, Test Loss: 1.2847, Test Accuracy: 0.5481\n",
            "Epoch 29\n"
          ]
        },
        {
          "name": "stderr",
          "output_type": "stream",
          "text": [
            "100%|██████████| 652/652 [04:09<00:00,  2.61it/s]\n",
            "100%|██████████| 280/280 [00:32<00:00,  8.59it/s]\n"
          ]
        },
        {
          "name": "stdout",
          "output_type": "stream",
          "text": [
            "Epoch 30/50, Train Loss: 0.9435, Train Accuracy: 0.6420, Test Loss: 1.4498, Test Accuracy: 0.5289\n",
            "Epoch 30\n"
          ]
        },
        {
          "name": "stderr",
          "output_type": "stream",
          "text": [
            "100%|██████████| 652/652 [04:09<00:00,  2.61it/s]\n",
            "100%|██████████| 280/280 [00:32<00:00,  8.52it/s]\n"
          ]
        },
        {
          "name": "stdout",
          "output_type": "stream",
          "text": [
            "Epoch 31/50, Train Loss: 0.9396, Train Accuracy: 0.6418, Test Loss: 1.3124, Test Accuracy: 0.5338\n",
            "Epoch 31\n"
          ]
        },
        {
          "name": "stderr",
          "output_type": "stream",
          "text": [
            "100%|██████████| 652/652 [04:09<00:00,  2.61it/s]\n",
            "100%|██████████| 280/280 [00:32<00:00,  8.51it/s]\n"
          ]
        },
        {
          "name": "stdout",
          "output_type": "stream",
          "text": [
            "Epoch 32/50, Train Loss: 0.9334, Train Accuracy: 0.6368, Test Loss: 1.3198, Test Accuracy: 0.5441\n",
            "Epoch 32\n"
          ]
        },
        {
          "name": "stderr",
          "output_type": "stream",
          "text": [
            "100%|██████████| 652/652 [04:09<00:00,  2.62it/s]\n",
            "100%|██████████| 280/280 [00:33<00:00,  8.39it/s]\n"
          ]
        },
        {
          "name": "stdout",
          "output_type": "stream",
          "text": [
            "Epoch 33/50, Train Loss: 0.9093, Train Accuracy: 0.6514, Test Loss: 1.2652, Test Accuracy: 0.5616\n",
            "Epoch 33\n"
          ]
        },
        {
          "name": "stderr",
          "output_type": "stream",
          "text": [
            "100%|██████████| 652/652 [04:11<00:00,  2.59it/s]\n",
            "100%|██████████| 280/280 [00:33<00:00,  8.24it/s]\n"
          ]
        },
        {
          "name": "stdout",
          "output_type": "stream",
          "text": [
            "Epoch 34/50, Train Loss: 0.8888, Train Accuracy: 0.6619, Test Loss: 1.4037, Test Accuracy: 0.5244\n",
            "Epoch 34\n"
          ]
        },
        {
          "name": "stderr",
          "output_type": "stream",
          "text": [
            "100%|██████████| 652/652 [04:12<00:00,  2.58it/s]\n",
            "100%|██████████| 280/280 [00:32<00:00,  8.59it/s]\n"
          ]
        },
        {
          "name": "stdout",
          "output_type": "stream",
          "text": [
            "Epoch 35/50, Train Loss: 0.8800, Train Accuracy: 0.6614, Test Loss: 1.3191, Test Accuracy: 0.5490\n",
            "Epoch 35\n"
          ]
        },
        {
          "name": "stderr",
          "output_type": "stream",
          "text": [
            "100%|██████████| 652/652 [04:08<00:00,  2.62it/s]\n",
            "100%|██████████| 280/280 [00:33<00:00,  8.29it/s]\n"
          ]
        },
        {
          "name": "stdout",
          "output_type": "stream",
          "text": [
            "Epoch 36/50, Train Loss: 0.8586, Train Accuracy: 0.6710, Test Loss: 1.3467, Test Accuracy: 0.5105\n",
            "Epoch 36\n"
          ]
        },
        {
          "name": "stderr",
          "output_type": "stream",
          "text": [
            "100%|██████████| 652/652 [04:07<00:00,  2.63it/s]\n",
            "100%|██████████| 280/280 [00:33<00:00,  8.31it/s]\n"
          ]
        },
        {
          "name": "stdout",
          "output_type": "stream",
          "text": [
            "Epoch 37/50, Train Loss: 0.8914, Train Accuracy: 0.6585, Test Loss: 1.2286, Test Accuracy: 0.5629\n",
            "Epoch 37\n"
          ]
        },
        {
          "name": "stderr",
          "output_type": "stream",
          "text": [
            "100%|██████████| 652/652 [06:23<00:00,  1.70it/s]\n",
            "100%|██████████| 280/280 [00:53<00:00,  5.25it/s]\n"
          ]
        },
        {
          "name": "stdout",
          "output_type": "stream",
          "text": [
            "Epoch 38/50, Train Loss: 0.8352, Train Accuracy: 0.6775, Test Loss: 1.3608, Test Accuracy: 0.5293\n",
            "Epoch 38\n"
          ]
        },
        {
          "name": "stderr",
          "output_type": "stream",
          "text": [
            "100%|██████████| 652/652 [06:42<00:00,  1.62it/s]\n",
            "100%|██████████| 280/280 [00:53<00:00,  5.27it/s]\n"
          ]
        },
        {
          "name": "stdout",
          "output_type": "stream",
          "text": [
            "Epoch 39/50, Train Loss: 0.8203, Train Accuracy: 0.6909, Test Loss: 1.3541, Test Accuracy: 0.5562\n",
            "Epoch 39\n"
          ]
        },
        {
          "name": "stderr",
          "output_type": "stream",
          "text": [
            "100%|██████████| 652/652 [04:12<00:00,  2.58it/s]\n",
            "100%|██████████| 280/280 [00:32<00:00,  8.58it/s]\n"
          ]
        },
        {
          "name": "stdout",
          "output_type": "stream",
          "text": [
            "Epoch 40/50, Train Loss: 0.8275, Train Accuracy: 0.6813, Test Loss: 1.3665, Test Accuracy: 0.5562\n",
            "Epoch 40\n"
          ]
        },
        {
          "name": "stderr",
          "output_type": "stream",
          "text": [
            "100%|██████████| 652/652 [04:10<00:00,  2.61it/s]\n",
            "100%|██████████| 280/280 [00:33<00:00,  8.42it/s]\n"
          ]
        },
        {
          "name": "stdout",
          "output_type": "stream",
          "text": [
            "Epoch 41/50, Train Loss: 0.8028, Train Accuracy: 0.6905, Test Loss: 1.4132, Test Accuracy: 0.5253\n",
            "Epoch 41\n"
          ]
        },
        {
          "name": "stderr",
          "output_type": "stream",
          "text": [
            "100%|██████████| 652/652 [04:08<00:00,  2.63it/s]\n",
            "100%|██████████| 280/280 [00:33<00:00,  8.47it/s]\n"
          ]
        },
        {
          "name": "stdout",
          "output_type": "stream",
          "text": [
            "Epoch 42/50, Train Loss: 0.8179, Train Accuracy: 0.6844, Test Loss: 1.3707, Test Accuracy: 0.5513\n",
            "Epoch 42\n"
          ]
        },
        {
          "name": "stderr",
          "output_type": "stream",
          "text": [
            "100%|██████████| 652/652 [04:08<00:00,  2.62it/s]\n",
            "100%|██████████| 280/280 [00:32<00:00,  8.62it/s]\n"
          ]
        },
        {
          "name": "stdout",
          "output_type": "stream",
          "text": [
            "Epoch 43/50, Train Loss: 0.7892, Train Accuracy: 0.6963, Test Loss: 1.4324, Test Accuracy: 0.5495\n",
            "Epoch 43\n"
          ]
        },
        {
          "name": "stderr",
          "output_type": "stream",
          "text": [
            "100%|██████████| 652/652 [04:09<00:00,  2.62it/s]\n",
            "100%|██████████| 280/280 [00:33<00:00,  8.40it/s]\n"
          ]
        },
        {
          "name": "stdout",
          "output_type": "stream",
          "text": [
            "Epoch 44/50, Train Loss: 0.7759, Train Accuracy: 0.6926, Test Loss: 1.4355, Test Accuracy: 0.5714\n",
            "Epoch 44\n"
          ]
        },
        {
          "name": "stderr",
          "output_type": "stream",
          "text": [
            "100%|██████████| 652/652 [04:08<00:00,  2.62it/s]\n",
            "100%|██████████| 280/280 [00:32<00:00,  8.53it/s]\n"
          ]
        },
        {
          "name": "stdout",
          "output_type": "stream",
          "text": [
            "Epoch 45/50, Train Loss: 0.7679, Train Accuracy: 0.7024, Test Loss: 1.4140, Test Accuracy: 0.5280\n",
            "Epoch 45\n"
          ]
        },
        {
          "name": "stderr",
          "output_type": "stream",
          "text": [
            "100%|██████████| 652/652 [04:08<00:00,  2.62it/s]\n",
            "100%|██████████| 280/280 [00:32<00:00,  8.55it/s]\n"
          ]
        },
        {
          "name": "stdout",
          "output_type": "stream",
          "text": [
            "Epoch 46/50, Train Loss: 0.7605, Train Accuracy: 0.7092, Test Loss: 1.4317, Test Accuracy: 0.5625\n",
            "Epoch 46\n"
          ]
        },
        {
          "name": "stderr",
          "output_type": "stream",
          "text": [
            "100%|██████████| 652/652 [04:07<00:00,  2.63it/s]\n",
            "100%|██████████| 280/280 [00:32<00:00,  8.61it/s]\n"
          ]
        },
        {
          "name": "stdout",
          "output_type": "stream",
          "text": [
            "Epoch 47/50, Train Loss: 0.7503, Train Accuracy: 0.7132, Test Loss: 1.5909, Test Accuracy: 0.5522\n",
            "Epoch 47\n"
          ]
        },
        {
          "name": "stderr",
          "output_type": "stream",
          "text": [
            "100%|██████████| 652/652 [04:09<00:00,  2.61it/s]\n",
            "100%|██████████| 280/280 [00:33<00:00,  8.45it/s]\n"
          ]
        },
        {
          "name": "stdout",
          "output_type": "stream",
          "text": [
            "Epoch 48/50, Train Loss: 0.7405, Train Accuracy: 0.7103, Test Loss: 1.4561, Test Accuracy: 0.5674\n",
            "Epoch 48\n"
          ]
        },
        {
          "name": "stderr",
          "output_type": "stream",
          "text": [
            "100%|██████████| 652/652 [04:09<00:00,  2.61it/s]\n",
            "100%|██████████| 280/280 [00:34<00:00,  8.20it/s]\n"
          ]
        },
        {
          "name": "stdout",
          "output_type": "stream",
          "text": [
            "Epoch 49/50, Train Loss: 0.7256, Train Accuracy: 0.7230, Test Loss: 1.3865, Test Accuracy: 0.5549\n",
            "Epoch 49\n"
          ]
        },
        {
          "name": "stderr",
          "output_type": "stream",
          "text": [
            "100%|██████████| 652/652 [04:13<00:00,  2.57it/s]\n",
            "100%|██████████| 280/280 [00:34<00:00,  8.01it/s]\n"
          ]
        },
        {
          "name": "stdout",
          "output_type": "stream",
          "text": [
            "Epoch 50/50, Train Loss: 0.7179, Train Accuracy: 0.7314, Test Loss: 1.4135, Test Accuracy: 0.5540\n",
            "\n",
            "\n",
            "Batch size: 8 lr: 0.0001\n",
            "Training ViT for \"audio\" pipeline ...\n",
            "------------------------------------------------\n",
            "\n",
            "Epoch 0\n"
          ]
        },
        {
          "name": "stderr",
          "output_type": "stream",
          "text": [
            "100%|██████████| 652/652 [04:06<00:00,  2.65it/s]\n",
            "100%|██████████| 280/280 [00:32<00:00,  8.72it/s]\n"
          ]
        },
        {
          "name": "stdout",
          "output_type": "stream",
          "text": [
            "Epoch 1/50, Train Loss: 1.9019, Train Accuracy: 0.1599, Test Loss: 1.8578, Test Accuracy: 0.1711\n",
            "Epoch 1\n"
          ]
        },
        {
          "name": "stderr",
          "output_type": "stream",
          "text": [
            "100%|██████████| 652/652 [04:06<00:00,  2.64it/s]\n",
            "100%|██████████| 280/280 [00:32<00:00,  8.49it/s]\n"
          ]
        },
        {
          "name": "stdout",
          "output_type": "stream",
          "text": [
            "Epoch 2/50, Train Loss: 1.8395, Train Accuracy: 0.1638, Test Loss: 1.8528, Test Accuracy: 0.1639\n",
            "Epoch 2\n"
          ]
        },
        {
          "name": "stderr",
          "output_type": "stream",
          "text": [
            "100%|██████████| 652/652 [04:08<00:00,  2.63it/s]\n",
            "100%|██████████| 280/280 [00:33<00:00,  8.44it/s]\n"
          ]
        },
        {
          "name": "stdout",
          "output_type": "stream",
          "text": [
            "Epoch 3/50, Train Loss: 1.8301, Train Accuracy: 0.1716, Test Loss: 1.8061, Test Accuracy: 0.1764\n",
            "Epoch 3\n"
          ]
        },
        {
          "name": "stderr",
          "output_type": "stream",
          "text": [
            "100%|██████████| 652/652 [04:07<00:00,  2.63it/s]\n",
            "100%|██████████| 280/280 [00:32<00:00,  8.56it/s]\n"
          ]
        },
        {
          "name": "stdout",
          "output_type": "stream",
          "text": [
            "Epoch 4/50, Train Loss: 1.8231, Train Accuracy: 0.1734, Test Loss: 1.7964, Test Accuracy: 0.1764\n",
            "Epoch 4\n"
          ]
        },
        {
          "name": "stderr",
          "output_type": "stream",
          "text": [
            "100%|██████████| 652/652 [04:06<00:00,  2.64it/s]\n",
            "100%|██████████| 280/280 [00:32<00:00,  8.61it/s]\n"
          ]
        },
        {
          "name": "stdout",
          "output_type": "stream",
          "text": [
            "Epoch 5/50, Train Loss: 1.8158, Train Accuracy: 0.1639, Test Loss: 1.8048, Test Accuracy: 0.1675\n",
            "Epoch 5\n"
          ]
        },
        {
          "name": "stderr",
          "output_type": "stream",
          "text": [
            "100%|██████████| 652/652 [04:04<00:00,  2.67it/s]\n",
            "100%|██████████| 280/280 [00:32<00:00,  8.62it/s]\n"
          ]
        },
        {
          "name": "stdout",
          "output_type": "stream",
          "text": [
            "Epoch 6/50, Train Loss: 1.8134, Train Accuracy: 0.1705, Test Loss: 1.8093, Test Accuracy: 0.1764\n",
            "Epoch 6\n"
          ]
        },
        {
          "name": "stderr",
          "output_type": "stream",
          "text": [
            "100%|██████████| 652/652 [04:06<00:00,  2.65it/s]\n",
            "100%|██████████| 280/280 [00:31<00:00,  8.90it/s]\n"
          ]
        },
        {
          "name": "stdout",
          "output_type": "stream",
          "text": [
            "Epoch 7/50, Train Loss: 1.8085, Train Accuracy: 0.1709, Test Loss: 1.7984, Test Accuracy: 0.1764\n",
            "Epoch 7\n"
          ]
        },
        {
          "name": "stderr",
          "output_type": "stream",
          "text": [
            "100%|██████████| 652/652 [04:04<00:00,  2.67it/s]\n",
            "100%|██████████| 280/280 [00:32<00:00,  8.69it/s]\n"
          ]
        },
        {
          "name": "stdout",
          "output_type": "stream",
          "text": [
            "Epoch 8/50, Train Loss: 1.8070, Train Accuracy: 0.1684, Test Loss: 1.8013, Test Accuracy: 0.1738\n",
            "Epoch 8\n"
          ]
        },
        {
          "name": "stderr",
          "output_type": "stream",
          "text": [
            "100%|██████████| 652/652 [04:04<00:00,  2.67it/s]\n",
            "100%|██████████| 280/280 [00:31<00:00,  8.87it/s]\n"
          ]
        },
        {
          "name": "stdout",
          "output_type": "stream",
          "text": [
            "Epoch 9/50, Train Loss: 1.8100, Train Accuracy: 0.1624, Test Loss: 1.8028, Test Accuracy: 0.1639\n",
            "Epoch 9\n"
          ]
        },
        {
          "name": "stderr",
          "output_type": "stream",
          "text": [
            "100%|██████████| 652/652 [04:07<00:00,  2.64it/s]\n",
            "100%|██████████| 280/280 [00:31<00:00,  8.98it/s]\n"
          ]
        },
        {
          "name": "stdout",
          "output_type": "stream",
          "text": [
            "Epoch 10/50, Train Loss: 1.8033, Train Accuracy: 0.1684, Test Loss: 1.8028, Test Accuracy: 0.1764\n",
            "Epoch 10\n"
          ]
        },
        {
          "name": "stderr",
          "output_type": "stream",
          "text": [
            "100%|██████████| 652/652 [04:06<00:00,  2.65it/s]\n",
            "100%|██████████| 280/280 [00:33<00:00,  8.44it/s]\n"
          ]
        },
        {
          "name": "stdout",
          "output_type": "stream",
          "text": [
            "Epoch 11/50, Train Loss: 1.8014, Train Accuracy: 0.1737, Test Loss: 1.8015, Test Accuracy: 0.1764\n",
            "Epoch 11\n"
          ]
        },
        {
          "name": "stderr",
          "output_type": "stream",
          "text": [
            "100%|██████████| 652/652 [04:09<00:00,  2.62it/s]\n",
            "100%|██████████| 280/280 [00:33<00:00,  8.36it/s]\n"
          ]
        },
        {
          "name": "stdout",
          "output_type": "stream",
          "text": [
            "Epoch 12/50, Train Loss: 1.8041, Train Accuracy: 0.1684, Test Loss: 1.8076, Test Accuracy: 0.1639\n",
            "Epoch 12\n"
          ]
        },
        {
          "name": "stderr",
          "output_type": "stream",
          "text": [
            "100%|██████████| 652/652 [04:09<00:00,  2.61it/s]\n",
            "100%|██████████| 280/280 [00:33<00:00,  8.38it/s]\n"
          ]
        },
        {
          "name": "stdout",
          "output_type": "stream",
          "text": [
            "Epoch 13/50, Train Loss: 1.8077, Train Accuracy: 0.1753, Test Loss: 1.8088, Test Accuracy: 0.1639\n",
            "Epoch 13\n"
          ]
        },
        {
          "name": "stderr",
          "output_type": "stream",
          "text": [
            "100%|██████████| 652/652 [04:09<00:00,  2.61it/s]\n",
            "100%|██████████| 280/280 [00:33<00:00,  8.31it/s]\n"
          ]
        },
        {
          "name": "stdout",
          "output_type": "stream",
          "text": [
            "Epoch 14/50, Train Loss: 1.8040, Train Accuracy: 0.1643, Test Loss: 1.7970, Test Accuracy: 0.1639\n",
            "Epoch 14\n"
          ]
        },
        {
          "name": "stderr",
          "output_type": "stream",
          "text": [
            "100%|██████████| 652/652 [04:09<00:00,  2.62it/s]\n",
            "100%|██████████| 280/280 [00:34<00:00,  8.20it/s]\n"
          ]
        },
        {
          "name": "stdout",
          "output_type": "stream",
          "text": [
            "Epoch 15/50, Train Loss: 1.7972, Train Accuracy: 0.1699, Test Loss: 1.7924, Test Accuracy: 0.1711\n",
            "Epoch 15\n"
          ]
        },
        {
          "name": "stderr",
          "output_type": "stream",
          "text": [
            "100%|██████████| 652/652 [04:09<00:00,  2.61it/s]\n",
            "100%|██████████| 280/280 [00:31<00:00,  8.94it/s]\n"
          ]
        },
        {
          "name": "stdout",
          "output_type": "stream",
          "text": [
            "Epoch 16/50, Train Loss: 1.7979, Train Accuracy: 0.1709, Test Loss: 1.8048, Test Accuracy: 0.1639\n",
            "Epoch 16\n"
          ]
        },
        {
          "name": "stderr",
          "output_type": "stream",
          "text": [
            "100%|██████████| 652/652 [04:05<00:00,  2.66it/s]\n",
            "100%|██████████| 280/280 [00:31<00:00,  8.87it/s]\n"
          ]
        },
        {
          "name": "stdout",
          "output_type": "stream",
          "text": [
            "Epoch 17/50, Train Loss: 1.7995, Train Accuracy: 0.1672, Test Loss: 1.7926, Test Accuracy: 0.1675\n",
            "Epoch 17\n"
          ]
        },
        {
          "name": "stderr",
          "output_type": "stream",
          "text": [
            "100%|██████████| 652/652 [04:06<00:00,  2.64it/s]\n",
            "100%|██████████| 280/280 [00:32<00:00,  8.64it/s]\n"
          ]
        },
        {
          "name": "stdout",
          "output_type": "stream",
          "text": [
            "Epoch 18/50, Train Loss: 1.7968, Train Accuracy: 0.1732, Test Loss: 1.7964, Test Accuracy: 0.1675\n",
            "Epoch 18\n"
          ]
        },
        {
          "name": "stderr",
          "output_type": "stream",
          "text": [
            "100%|██████████| 652/652 [04:07<00:00,  2.63it/s]\n",
            "100%|██████████| 280/280 [00:33<00:00,  8.48it/s]\n"
          ]
        },
        {
          "name": "stdout",
          "output_type": "stream",
          "text": [
            "Epoch 19/50, Train Loss: 1.7961, Train Accuracy: 0.1762, Test Loss: 1.7939, Test Accuracy: 0.1675\n",
            "Epoch 19\n"
          ]
        },
        {
          "name": "stderr",
          "output_type": "stream",
          "text": [
            "100%|██████████| 652/652 [04:08<00:00,  2.63it/s]\n",
            "100%|██████████| 280/280 [00:33<00:00,  8.32it/s]\n"
          ]
        },
        {
          "name": "stdout",
          "output_type": "stream",
          "text": [
            "Epoch 20/50, Train Loss: 1.7982, Train Accuracy: 0.1607, Test Loss: 1.8052, Test Accuracy: 0.1639\n",
            "Epoch 20\n"
          ]
        },
        {
          "name": "stderr",
          "output_type": "stream",
          "text": [
            "100%|██████████| 652/652 [04:11<00:00,  2.59it/s]\n",
            "100%|██████████| 280/280 [00:34<00:00,  8.15it/s]\n"
          ]
        },
        {
          "name": "stdout",
          "output_type": "stream",
          "text": [
            "Epoch 21/50, Train Loss: 1.7948, Train Accuracy: 0.1718, Test Loss: 1.7958, Test Accuracy: 0.1639\n",
            "Epoch 21\n"
          ]
        },
        {
          "name": "stderr",
          "output_type": "stream",
          "text": [
            "100%|██████████| 652/652 [04:11<00:00,  2.59it/s]\n",
            "100%|██████████| 280/280 [00:33<00:00,  8.25it/s]\n"
          ]
        },
        {
          "name": "stdout",
          "output_type": "stream",
          "text": [
            "Epoch 22/50, Train Loss: 1.7968, Train Accuracy: 0.1691, Test Loss: 1.8013, Test Accuracy: 0.1711\n",
            "Epoch 22\n"
          ]
        },
        {
          "name": "stderr",
          "output_type": "stream",
          "text": [
            "100%|██████████| 652/652 [04:09<00:00,  2.62it/s]\n",
            "100%|██████████| 280/280 [00:32<00:00,  8.57it/s]\n"
          ]
        },
        {
          "name": "stdout",
          "output_type": "stream",
          "text": [
            "Epoch 23/50, Train Loss: 1.7936, Train Accuracy: 0.1764, Test Loss: 1.8052, Test Accuracy: 0.1675\n",
            "Epoch 23\n"
          ]
        },
        {
          "name": "stderr",
          "output_type": "stream",
          "text": [
            "100%|██████████| 652/652 [04:07<00:00,  2.64it/s]\n",
            "100%|██████████| 280/280 [00:32<00:00,  8.74it/s]\n"
          ]
        },
        {
          "name": "stdout",
          "output_type": "stream",
          "text": [
            "Epoch 24/50, Train Loss: 1.7965, Train Accuracy: 0.1645, Test Loss: 1.7924, Test Accuracy: 0.1711\n",
            "Epoch 24\n"
          ]
        },
        {
          "name": "stderr",
          "output_type": "stream",
          "text": [
            "100%|██████████| 652/652 [04:07<00:00,  2.64it/s]\n",
            "100%|██████████| 280/280 [00:32<00:00,  8.66it/s]\n"
          ]
        },
        {
          "name": "stdout",
          "output_type": "stream",
          "text": [
            "Epoch 25/50, Train Loss: 1.7970, Train Accuracy: 0.1651, Test Loss: 1.7970, Test Accuracy: 0.1738\n",
            "Epoch 25\n"
          ]
        },
        {
          "name": "stderr",
          "output_type": "stream",
          "text": [
            "100%|██████████| 652/652 [04:06<00:00,  2.65it/s]\n",
            "100%|██████████| 280/280 [00:31<00:00,  8.79it/s]\n"
          ]
        },
        {
          "name": "stdout",
          "output_type": "stream",
          "text": [
            "Epoch 26/50, Train Loss: 1.7953, Train Accuracy: 0.1622, Test Loss: 1.7929, Test Accuracy: 0.1764\n",
            "Epoch 26\n"
          ]
        },
        {
          "name": "stderr",
          "output_type": "stream",
          "text": [
            "100%|██████████| 652/652 [04:05<00:00,  2.65it/s]\n",
            "100%|██████████| 280/280 [00:32<00:00,  8.73it/s]\n"
          ]
        },
        {
          "name": "stdout",
          "output_type": "stream",
          "text": [
            "Epoch 27/50, Train Loss: 1.7944, Train Accuracy: 0.1780, Test Loss: 1.7990, Test Accuracy: 0.1711\n",
            "Epoch 27\n"
          ]
        },
        {
          "name": "stderr",
          "output_type": "stream",
          "text": [
            "100%|██████████| 652/652 [04:06<00:00,  2.65it/s]\n",
            "100%|██████████| 280/280 [00:32<00:00,  8.72it/s]\n"
          ]
        },
        {
          "name": "stdout",
          "output_type": "stream",
          "text": [
            "Epoch 28/50, Train Loss: 1.7952, Train Accuracy: 0.1659, Test Loss: 1.7968, Test Accuracy: 0.1711\n",
            "Epoch 28\n"
          ]
        },
        {
          "name": "stderr",
          "output_type": "stream",
          "text": [
            "100%|██████████| 652/652 [04:07<00:00,  2.64it/s]\n",
            "100%|██████████| 280/280 [00:32<00:00,  8.66it/s]\n"
          ]
        },
        {
          "name": "stdout",
          "output_type": "stream",
          "text": [
            "Epoch 29/50, Train Loss: 1.7961, Train Accuracy: 0.1691, Test Loss: 1.7918, Test Accuracy: 0.1639\n",
            "Epoch 29\n"
          ]
        },
        {
          "name": "stderr",
          "output_type": "stream",
          "text": [
            "100%|██████████| 652/652 [04:08<00:00,  2.63it/s]\n",
            "100%|██████████| 280/280 [00:33<00:00,  8.36it/s]\n"
          ]
        },
        {
          "name": "stdout",
          "output_type": "stream",
          "text": [
            "Epoch 30/50, Train Loss: 1.7953, Train Accuracy: 0.1628, Test Loss: 1.7927, Test Accuracy: 0.1711\n",
            "Epoch 30\n"
          ]
        },
        {
          "name": "stderr",
          "output_type": "stream",
          "text": [
            "100%|██████████| 652/652 [04:08<00:00,  2.62it/s]\n",
            "100%|██████████| 280/280 [00:33<00:00,  8.27it/s]\n"
          ]
        },
        {
          "name": "stdout",
          "output_type": "stream",
          "text": [
            "Epoch 31/50, Train Loss: 1.7942, Train Accuracy: 0.1622, Test Loss: 1.7977, Test Accuracy: 0.1764\n",
            "Epoch 31\n"
          ]
        },
        {
          "name": "stderr",
          "output_type": "stream",
          "text": [
            "100%|██████████| 652/652 [04:09<00:00,  2.61it/s]\n",
            "100%|██████████| 280/280 [00:32<00:00,  8.68it/s]\n"
          ]
        },
        {
          "name": "stdout",
          "output_type": "stream",
          "text": [
            "Epoch 32/50, Train Loss: 1.7943, Train Accuracy: 0.1703, Test Loss: 1.7952, Test Accuracy: 0.1639\n",
            "Epoch 32\n"
          ]
        },
        {
          "name": "stderr",
          "output_type": "stream",
          "text": [
            "100%|██████████| 652/652 [04:07<00:00,  2.64it/s]\n",
            "100%|██████████| 280/280 [00:32<00:00,  8.71it/s]\n"
          ]
        },
        {
          "name": "stdout",
          "output_type": "stream",
          "text": [
            "Epoch 33/50, Train Loss: 1.7933, Train Accuracy: 0.1711, Test Loss: 1.7920, Test Accuracy: 0.1711\n",
            "Epoch 33\n"
          ]
        },
        {
          "name": "stderr",
          "output_type": "stream",
          "text": [
            "100%|██████████| 652/652 [04:07<00:00,  2.63it/s]\n",
            "100%|██████████| 280/280 [00:32<00:00,  8.62it/s]\n"
          ]
        },
        {
          "name": "stdout",
          "output_type": "stream",
          "text": [
            "Epoch 34/50, Train Loss: 1.7934, Train Accuracy: 0.1747, Test Loss: 1.7939, Test Accuracy: 0.1675\n",
            "Epoch 34\n"
          ]
        },
        {
          "name": "stderr",
          "output_type": "stream",
          "text": [
            "100%|██████████| 652/652 [04:09<00:00,  2.61it/s]\n",
            "100%|██████████| 280/280 [00:33<00:00,  8.36it/s]\n"
          ]
        },
        {
          "name": "stdout",
          "output_type": "stream",
          "text": [
            "Epoch 35/50, Train Loss: 1.7947, Train Accuracy: 0.1628, Test Loss: 1.7944, Test Accuracy: 0.1675\n",
            "Epoch 35\n"
          ]
        },
        {
          "name": "stderr",
          "output_type": "stream",
          "text": [
            "100%|██████████| 652/652 [04:08<00:00,  2.62it/s]\n",
            "100%|██████████| 280/280 [00:32<00:00,  8.58it/s]\n"
          ]
        },
        {
          "name": "stdout",
          "output_type": "stream",
          "text": [
            "Epoch 36/50, Train Loss: 1.7952, Train Accuracy: 0.1663, Test Loss: 1.7927, Test Accuracy: 0.1738\n",
            "Epoch 36\n"
          ]
        },
        {
          "name": "stderr",
          "output_type": "stream",
          "text": [
            "100%|██████████| 652/652 [04:07<00:00,  2.63it/s]\n",
            "100%|██████████| 280/280 [00:32<00:00,  8.60it/s]\n"
          ]
        },
        {
          "name": "stdout",
          "output_type": "stream",
          "text": [
            "Epoch 37/50, Train Loss: 1.7936, Train Accuracy: 0.1749, Test Loss: 1.7933, Test Accuracy: 0.1675\n",
            "Epoch 37\n"
          ]
        },
        {
          "name": "stderr",
          "output_type": "stream",
          "text": [
            "100%|██████████| 652/652 [04:08<00:00,  2.63it/s]\n",
            "100%|██████████| 280/280 [00:32<00:00,  8.49it/s]\n"
          ]
        },
        {
          "name": "stdout",
          "output_type": "stream",
          "text": [
            "Epoch 38/50, Train Loss: 1.7940, Train Accuracy: 0.1687, Test Loss: 1.7985, Test Accuracy: 0.1639\n",
            "Epoch 38\n"
          ]
        },
        {
          "name": "stderr",
          "output_type": "stream",
          "text": [
            "100%|██████████| 652/652 [04:08<00:00,  2.62it/s]\n",
            "100%|██████████| 280/280 [00:33<00:00,  8.48it/s]\n"
          ]
        },
        {
          "name": "stdout",
          "output_type": "stream",
          "text": [
            "Epoch 39/50, Train Loss: 1.7929, Train Accuracy: 0.1701, Test Loss: 1.7941, Test Accuracy: 0.1639\n",
            "Epoch 39\n"
          ]
        },
        {
          "name": "stderr",
          "output_type": "stream",
          "text": [
            "100%|██████████| 652/652 [04:08<00:00,  2.62it/s]\n",
            "100%|██████████| 280/280 [00:31<00:00,  8.84it/s]\n"
          ]
        },
        {
          "name": "stdout",
          "output_type": "stream",
          "text": [
            "Epoch 40/50, Train Loss: 1.7943, Train Accuracy: 0.1620, Test Loss: 1.7915, Test Accuracy: 0.1675\n",
            "Epoch 40\n"
          ]
        },
        {
          "name": "stderr",
          "output_type": "stream",
          "text": [
            "100%|██████████| 652/652 [04:08<00:00,  2.62it/s]\n",
            "100%|██████████| 280/280 [00:33<00:00,  8.46it/s]\n"
          ]
        },
        {
          "name": "stdout",
          "output_type": "stream",
          "text": [
            "Epoch 41/50, Train Loss: 1.7945, Train Accuracy: 0.1647, Test Loss: 1.7924, Test Accuracy: 0.1675\n",
            "Epoch 41\n"
          ]
        },
        {
          "name": "stderr",
          "output_type": "stream",
          "text": [
            "100%|██████████| 652/652 [04:07<00:00,  2.64it/s]\n",
            "100%|██████████| 280/280 [00:31<00:00,  8.98it/s]\n"
          ]
        },
        {
          "name": "stdout",
          "output_type": "stream",
          "text": [
            "Epoch 42/50, Train Loss: 1.7942, Train Accuracy: 0.1697, Test Loss: 1.7943, Test Accuracy: 0.1738\n",
            "Epoch 42\n"
          ]
        },
        {
          "name": "stderr",
          "output_type": "stream",
          "text": [
            "100%|██████████| 652/652 [04:05<00:00,  2.66it/s]\n",
            "100%|██████████| 280/280 [00:31<00:00,  8.88it/s]\n"
          ]
        },
        {
          "name": "stdout",
          "output_type": "stream",
          "text": [
            "Epoch 43/50, Train Loss: 1.7947, Train Accuracy: 0.1563, Test Loss: 1.7941, Test Accuracy: 0.1639\n",
            "Epoch 43\n"
          ]
        },
        {
          "name": "stderr",
          "output_type": "stream",
          "text": [
            "100%|██████████| 652/652 [04:05<00:00,  2.66it/s]\n",
            "100%|██████████| 280/280 [00:31<00:00,  8.91it/s]\n"
          ]
        },
        {
          "name": "stdout",
          "output_type": "stream",
          "text": [
            "Epoch 44/50, Train Loss: 1.7934, Train Accuracy: 0.1728, Test Loss: 1.7971, Test Accuracy: 0.1711\n",
            "Epoch 44\n"
          ]
        },
        {
          "name": "stderr",
          "output_type": "stream",
          "text": [
            "100%|██████████| 652/652 [04:05<00:00,  2.66it/s]\n",
            "100%|██████████| 280/280 [00:31<00:00,  9.01it/s]\n"
          ]
        },
        {
          "name": "stdout",
          "output_type": "stream",
          "text": [
            "Epoch 45/50, Train Loss: 1.7934, Train Accuracy: 0.1661, Test Loss: 1.7933, Test Accuracy: 0.1675\n",
            "Epoch 45\n"
          ]
        },
        {
          "name": "stderr",
          "output_type": "stream",
          "text": [
            "100%|██████████| 652/652 [04:05<00:00,  2.65it/s]\n",
            "100%|██████████| 280/280 [00:32<00:00,  8.64it/s]\n"
          ]
        },
        {
          "name": "stdout",
          "output_type": "stream",
          "text": [
            "Epoch 46/50, Train Loss: 1.7929, Train Accuracy: 0.1747, Test Loss: 1.7935, Test Accuracy: 0.1639\n",
            "Epoch 46\n"
          ]
        },
        {
          "name": "stderr",
          "output_type": "stream",
          "text": [
            "100%|██████████| 652/652 [04:08<00:00,  2.63it/s]\n",
            "100%|██████████| 280/280 [00:32<00:00,  8.58it/s]\n"
          ]
        },
        {
          "name": "stdout",
          "output_type": "stream",
          "text": [
            "Epoch 47/50, Train Loss: 1.7942, Train Accuracy: 0.1565, Test Loss: 1.7907, Test Accuracy: 0.1764\n",
            "Epoch 47\n"
          ]
        },
        {
          "name": "stderr",
          "output_type": "stream",
          "text": [
            "100%|██████████| 652/652 [04:08<00:00,  2.63it/s]\n",
            "100%|██████████| 280/280 [00:31<00:00,  8.76it/s]\n"
          ]
        },
        {
          "name": "stdout",
          "output_type": "stream",
          "text": [
            "Epoch 48/50, Train Loss: 1.7928, Train Accuracy: 0.1735, Test Loss: 1.7934, Test Accuracy: 0.1711\n",
            "Epoch 48\n"
          ]
        },
        {
          "name": "stderr",
          "output_type": "stream",
          "text": [
            "100%|██████████| 652/652 [04:06<00:00,  2.65it/s]\n",
            "100%|██████████| 280/280 [00:31<00:00,  8.91it/s]\n"
          ]
        },
        {
          "name": "stdout",
          "output_type": "stream",
          "text": [
            "Epoch 49/50, Train Loss: 1.7923, Train Accuracy: 0.1712, Test Loss: 1.7924, Test Accuracy: 0.1738\n",
            "Epoch 49\n"
          ]
        },
        {
          "name": "stderr",
          "output_type": "stream",
          "text": [
            "100%|██████████| 652/652 [04:04<00:00,  2.67it/s]\n",
            "100%|██████████| 280/280 [00:31<00:00,  8.81it/s]\n"
          ]
        },
        {
          "name": "stdout",
          "output_type": "stream",
          "text": [
            "Epoch 50/50, Train Loss: 1.7936, Train Accuracy: 0.1651, Test Loss: 1.7949, Test Accuracy: 0.1738\n",
            "\n",
            "\n",
            "Batch size: 8 lr: 0.0001\n",
            "Training ViT for \"multimodal\" pipeline ...\n",
            "------------------------------------------------\n",
            "\n",
            "Epoch 0\n"
          ]
        },
        {
          "name": "stderr",
          "output_type": "stream",
          "text": [
            "100%|██████████| 652/652 [04:05<00:00,  2.65it/s]\n",
            "100%|██████████| 280/280 [00:31<00:00,  8.81it/s]\n"
          ]
        },
        {
          "name": "stdout",
          "output_type": "stream",
          "text": [
            "Epoch 1/50, Train Loss: 1.7599, Train Accuracy: 0.2709, Test Loss: 1.5039, Test Accuracy: 0.3618\n",
            "Epoch 1\n"
          ]
        },
        {
          "name": "stderr",
          "output_type": "stream",
          "text": [
            "100%|██████████| 652/652 [04:05<00:00,  2.66it/s]\n",
            "100%|██████████| 280/280 [00:32<00:00,  8.74it/s]\n"
          ]
        },
        {
          "name": "stdout",
          "output_type": "stream",
          "text": [
            "Epoch 2/50, Train Loss: 1.5784, Train Accuracy: 0.3392, Test Loss: 1.5983, Test Accuracy: 0.3645\n",
            "Epoch 2\n"
          ]
        },
        {
          "name": "stderr",
          "output_type": "stream",
          "text": [
            "100%|██████████| 652/652 [04:06<00:00,  2.65it/s]\n",
            "100%|██████████| 280/280 [00:31<00:00,  8.86it/s]\n"
          ]
        },
        {
          "name": "stdout",
          "output_type": "stream",
          "text": [
            "Epoch 3/50, Train Loss: 1.4931, Train Accuracy: 0.3753, Test Loss: 1.4434, Test Accuracy: 0.4062\n",
            "Epoch 3\n"
          ]
        },
        {
          "name": "stderr",
          "output_type": "stream",
          "text": [
            "100%|██████████| 652/652 [04:05<00:00,  2.65it/s]\n",
            "100%|██████████| 280/280 [00:32<00:00,  8.70it/s]\n"
          ]
        },
        {
          "name": "stdout",
          "output_type": "stream",
          "text": [
            "Epoch 4/50, Train Loss: 1.4589, Train Accuracy: 0.3874, Test Loss: 1.3688, Test Accuracy: 0.4304\n",
            "Epoch 4\n"
          ]
        },
        {
          "name": "stderr",
          "output_type": "stream",
          "text": [
            "100%|██████████| 652/652 [04:08<00:00,  2.62it/s]\n",
            "100%|██████████| 280/280 [00:34<00:00,  8.13it/s]\n"
          ]
        },
        {
          "name": "stdout",
          "output_type": "stream",
          "text": [
            "Epoch 5/50, Train Loss: 1.4184, Train Accuracy: 0.4177, Test Loss: 1.4169, Test Accuracy: 0.4353\n",
            "Epoch 5\n"
          ]
        },
        {
          "name": "stderr",
          "output_type": "stream",
          "text": [
            "100%|██████████| 652/652 [04:09<00:00,  2.62it/s]\n",
            "100%|██████████| 280/280 [00:32<00:00,  8.67it/s]\n"
          ]
        },
        {
          "name": "stdout",
          "output_type": "stream",
          "text": [
            "Epoch 6/50, Train Loss: 1.4051, Train Accuracy: 0.4260, Test Loss: 1.3785, Test Accuracy: 0.4335\n",
            "Epoch 6\n"
          ]
        },
        {
          "name": "stderr",
          "output_type": "stream",
          "text": [
            "100%|██████████| 652/652 [04:08<00:00,  2.62it/s]\n",
            "100%|██████████| 280/280 [00:32<00:00,  8.70it/s]\n"
          ]
        },
        {
          "name": "stdout",
          "output_type": "stream",
          "text": [
            "Epoch 7/50, Train Loss: 1.3726, Train Accuracy: 0.4383, Test Loss: 1.3407, Test Accuracy: 0.4416\n",
            "Epoch 7\n"
          ]
        },
        {
          "name": "stderr",
          "output_type": "stream",
          "text": [
            "100%|██████████| 652/652 [04:09<00:00,  2.61it/s]\n",
            "100%|██████████| 280/280 [00:34<00:00,  8.16it/s]\n"
          ]
        },
        {
          "name": "stdout",
          "output_type": "stream",
          "text": [
            "Epoch 8/50, Train Loss: 1.3441, Train Accuracy: 0.4485, Test Loss: 1.4119, Test Accuracy: 0.4313\n",
            "Epoch 8\n"
          ]
        },
        {
          "name": "stderr",
          "output_type": "stream",
          "text": [
            "100%|██████████| 652/652 [04:10<00:00,  2.61it/s]\n",
            "100%|██████████| 280/280 [00:35<00:00,  7.97it/s]\n"
          ]
        },
        {
          "name": "stdout",
          "output_type": "stream",
          "text": [
            "Epoch 9/50, Train Loss: 1.3166, Train Accuracy: 0.4669, Test Loss: 1.3177, Test Accuracy: 0.4523\n",
            "Epoch 9\n"
          ]
        },
        {
          "name": "stderr",
          "output_type": "stream",
          "text": [
            "100%|██████████| 652/652 [04:10<00:00,  2.60it/s]\n",
            "100%|██████████| 280/280 [00:35<00:00,  7.96it/s]\n"
          ]
        },
        {
          "name": "stdout",
          "output_type": "stream",
          "text": [
            "Epoch 10/50, Train Loss: 1.3132, Train Accuracy: 0.4638, Test Loss: 1.3715, Test Accuracy: 0.4375\n",
            "Epoch 10\n"
          ]
        },
        {
          "name": "stderr",
          "output_type": "stream",
          "text": [
            "100%|██████████| 652/652 [04:09<00:00,  2.61it/s]\n",
            "100%|██████████| 280/280 [00:29<00:00,  9.36it/s]\n"
          ]
        },
        {
          "name": "stdout",
          "output_type": "stream",
          "text": [
            "Epoch 11/50, Train Loss: 1.2974, Train Accuracy: 0.4690, Test Loss: 1.3477, Test Accuracy: 0.4563\n",
            "Epoch 11\n"
          ]
        },
        {
          "name": "stderr",
          "output_type": "stream",
          "text": [
            "100%|██████████| 652/652 [04:02<00:00,  2.69it/s]\n",
            "100%|██████████| 280/280 [00:31<00:00,  8.99it/s]\n"
          ]
        },
        {
          "name": "stdout",
          "output_type": "stream",
          "text": [
            "Epoch 12/50, Train Loss: 1.2799, Train Accuracy: 0.4730, Test Loss: 1.3930, Test Accuracy: 0.4586\n",
            "Epoch 12\n"
          ]
        },
        {
          "name": "stderr",
          "output_type": "stream",
          "text": [
            "100%|██████████| 652/652 [04:02<00:00,  2.68it/s]\n",
            "100%|██████████| 280/280 [00:31<00:00,  8.80it/s]\n"
          ]
        },
        {
          "name": "stdout",
          "output_type": "stream",
          "text": [
            "Epoch 13/50, Train Loss: 1.2682, Train Accuracy: 0.4826, Test Loss: 1.3746, Test Accuracy: 0.4792\n",
            "Epoch 13\n"
          ]
        },
        {
          "name": "stderr",
          "output_type": "stream",
          "text": [
            "100%|██████████| 652/652 [04:04<00:00,  2.67it/s]\n",
            "100%|██████████| 280/280 [00:32<00:00,  8.71it/s]\n"
          ]
        },
        {
          "name": "stdout",
          "output_type": "stream",
          "text": [
            "Epoch 14/50, Train Loss: 1.2573, Train Accuracy: 0.4909, Test Loss: 1.3407, Test Accuracy: 0.4729\n",
            "Epoch 14\n"
          ]
        },
        {
          "name": "stderr",
          "output_type": "stream",
          "text": [
            "100%|██████████| 652/652 [04:05<00:00,  2.66it/s]\n",
            "100%|██████████| 280/280 [00:32<00:00,  8.65it/s]\n"
          ]
        },
        {
          "name": "stdout",
          "output_type": "stream",
          "text": [
            "Epoch 15/50, Train Loss: 1.2304, Train Accuracy: 0.5009, Test Loss: 1.3154, Test Accuracy: 0.4716\n",
            "Epoch 15\n"
          ]
        },
        {
          "name": "stderr",
          "output_type": "stream",
          "text": [
            "100%|██████████| 652/652 [04:05<00:00,  2.66it/s]\n",
            "100%|██████████| 280/280 [00:32<00:00,  8.72it/s]\n"
          ]
        },
        {
          "name": "stdout",
          "output_type": "stream",
          "text": [
            "Epoch 16/50, Train Loss: 1.2462, Train Accuracy: 0.4980, Test Loss: 1.2994, Test Accuracy: 0.4801\n",
            "Epoch 16\n"
          ]
        },
        {
          "name": "stderr",
          "output_type": "stream",
          "text": [
            "100%|██████████| 652/652 [04:05<00:00,  2.66it/s]\n",
            "100%|██████████| 280/280 [00:32<00:00,  8.53it/s]\n"
          ]
        },
        {
          "name": "stdout",
          "output_type": "stream",
          "text": [
            "Epoch 17/50, Train Loss: 1.2243, Train Accuracy: 0.5107, Test Loss: 1.3494, Test Accuracy: 0.4828\n",
            "Epoch 17\n"
          ]
        },
        {
          "name": "stderr",
          "output_type": "stream",
          "text": [
            "100%|██████████| 652/652 [04:08<00:00,  2.63it/s]\n",
            "100%|██████████| 280/280 [00:32<00:00,  8.56it/s]\n"
          ]
        },
        {
          "name": "stdout",
          "output_type": "stream",
          "text": [
            "Epoch 18/50, Train Loss: 1.2006, Train Accuracy: 0.5130, Test Loss: 1.2774, Test Accuracy: 0.4984\n",
            "Epoch 18\n"
          ]
        },
        {
          "name": "stderr",
          "output_type": "stream",
          "text": [
            "100%|██████████| 652/652 [04:07<00:00,  2.63it/s]\n",
            "100%|██████████| 280/280 [00:32<00:00,  8.53it/s]\n"
          ]
        },
        {
          "name": "stdout",
          "output_type": "stream",
          "text": [
            "Epoch 19/50, Train Loss: 1.1922, Train Accuracy: 0.5189, Test Loss: 1.3422, Test Accuracy: 0.4617\n",
            "Epoch 19\n"
          ]
        },
        {
          "name": "stderr",
          "output_type": "stream",
          "text": [
            "100%|██████████| 652/652 [04:07<00:00,  2.63it/s]\n",
            "100%|██████████| 280/280 [00:31<00:00,  8.83it/s]\n"
          ]
        },
        {
          "name": "stdout",
          "output_type": "stream",
          "text": [
            "Epoch 20/50, Train Loss: 1.1760, Train Accuracy: 0.5285, Test Loss: 1.3710, Test Accuracy: 0.4908\n",
            "Epoch 20\n"
          ]
        },
        {
          "name": "stderr",
          "output_type": "stream",
          "text": [
            "100%|██████████| 652/652 [04:07<00:00,  2.64it/s]\n",
            "100%|██████████| 280/280 [00:33<00:00,  8.47it/s]\n"
          ]
        },
        {
          "name": "stdout",
          "output_type": "stream",
          "text": [
            "Epoch 21/50, Train Loss: 1.1747, Train Accuracy: 0.5275, Test Loss: 1.2408, Test Accuracy: 0.5074\n",
            "Epoch 21\n"
          ]
        },
        {
          "name": "stderr",
          "output_type": "stream",
          "text": [
            "100%|██████████| 652/652 [04:14<00:00,  2.56it/s]\n",
            "100%|██████████| 280/280 [00:33<00:00,  8.44it/s]\n"
          ]
        },
        {
          "name": "stdout",
          "output_type": "stream",
          "text": [
            "Epoch 22/50, Train Loss: 1.1602, Train Accuracy: 0.5460, Test Loss: 1.4565, Test Accuracy: 0.4465\n",
            "Epoch 22\n"
          ]
        },
        {
          "name": "stderr",
          "output_type": "stream",
          "text": [
            "100%|██████████| 652/652 [04:08<00:00,  2.63it/s]\n",
            "100%|██████████| 280/280 [00:33<00:00,  8.47it/s]\n"
          ]
        },
        {
          "name": "stdout",
          "output_type": "stream",
          "text": [
            "Epoch 23/50, Train Loss: 1.1548, Train Accuracy: 0.5410, Test Loss: 1.6248, Test Accuracy: 0.4595\n",
            "Epoch 23\n"
          ]
        },
        {
          "name": "stderr",
          "output_type": "stream",
          "text": [
            "100%|██████████| 652/652 [04:05<00:00,  2.66it/s]\n",
            "100%|██████████| 280/280 [00:31<00:00,  8.91it/s]\n"
          ]
        },
        {
          "name": "stdout",
          "output_type": "stream",
          "text": [
            "Epoch 24/50, Train Loss: 1.1407, Train Accuracy: 0.5462, Test Loss: 1.3430, Test Accuracy: 0.4917\n",
            "Epoch 24\n"
          ]
        },
        {
          "name": "stderr",
          "output_type": "stream",
          "text": [
            "100%|██████████| 652/652 [04:05<00:00,  2.65it/s]\n",
            "100%|██████████| 280/280 [00:30<00:00,  9.24it/s]\n"
          ]
        },
        {
          "name": "stdout",
          "output_type": "stream",
          "text": [
            "Epoch 25/50, Train Loss: 1.1484, Train Accuracy: 0.5512, Test Loss: 1.2914, Test Accuracy: 0.4966\n",
            "Epoch 25\n"
          ]
        },
        {
          "name": "stderr",
          "output_type": "stream",
          "text": [
            "100%|██████████| 652/652 [04:01<00:00,  2.70it/s]\n",
            "100%|██████████| 280/280 [00:31<00:00,  8.86it/s]\n"
          ]
        },
        {
          "name": "stdout",
          "output_type": "stream",
          "text": [
            "Epoch 26/50, Train Loss: 1.2995, Train Accuracy: 0.4726, Test Loss: 1.3957, Test Accuracy: 0.4725\n",
            "Epoch 26\n"
          ]
        },
        {
          "name": "stderr",
          "output_type": "stream",
          "text": [
            "100%|██████████| 652/652 [04:00<00:00,  2.71it/s]\n",
            "100%|██████████| 280/280 [00:31<00:00,  8.90it/s]\n"
          ]
        },
        {
          "name": "stdout",
          "output_type": "stream",
          "text": [
            "Epoch 27/50, Train Loss: 1.1535, Train Accuracy: 0.5487, Test Loss: 1.3490, Test Accuracy: 0.4707\n",
            "Epoch 27\n"
          ]
        },
        {
          "name": "stderr",
          "output_type": "stream",
          "text": [
            "100%|██████████| 652/652 [04:01<00:00,  2.70it/s]\n",
            "100%|██████████| 280/280 [00:31<00:00,  8.75it/s]\n"
          ]
        },
        {
          "name": "stdout",
          "output_type": "stream",
          "text": [
            "Epoch 28/50, Train Loss: 1.1237, Train Accuracy: 0.5567, Test Loss: 1.3288, Test Accuracy: 0.5087\n",
            "Epoch 28\n"
          ]
        },
        {
          "name": "stderr",
          "output_type": "stream",
          "text": [
            "100%|██████████| 652/652 [04:05<00:00,  2.66it/s]\n",
            "100%|██████████| 280/280 [00:32<00:00,  8.60it/s]\n"
          ]
        },
        {
          "name": "stdout",
          "output_type": "stream",
          "text": [
            "Epoch 29/50, Train Loss: 1.1254, Train Accuracy: 0.5575, Test Loss: 1.4701, Test Accuracy: 0.4653\n",
            "Epoch 29\n"
          ]
        },
        {
          "name": "stderr",
          "output_type": "stream",
          "text": [
            "100%|██████████| 652/652 [04:05<00:00,  2.66it/s]\n",
            "100%|██████████| 280/280 [00:32<00:00,  8.62it/s]\n"
          ]
        },
        {
          "name": "stdout",
          "output_type": "stream",
          "text": [
            "Epoch 30/50, Train Loss: 1.0977, Train Accuracy: 0.5732, Test Loss: 1.3045, Test Accuracy: 0.4993\n",
            "Epoch 30\n"
          ]
        },
        {
          "name": "stderr",
          "output_type": "stream",
          "text": [
            "100%|██████████| 652/652 [04:04<00:00,  2.66it/s]\n",
            "100%|██████████| 280/280 [00:32<00:00,  8.67it/s]\n"
          ]
        },
        {
          "name": "stdout",
          "output_type": "stream",
          "text": [
            "Epoch 31/50, Train Loss: 1.0865, Train Accuracy: 0.5786, Test Loss: 1.2716, Test Accuracy: 0.5244\n",
            "Epoch 31\n"
          ]
        },
        {
          "name": "stderr",
          "output_type": "stream",
          "text": [
            "100%|██████████| 652/652 [04:05<00:00,  2.65it/s]\n",
            "100%|██████████| 280/280 [00:32<00:00,  8.73it/s]\n"
          ]
        },
        {
          "name": "stdout",
          "output_type": "stream",
          "text": [
            "Epoch 32/50, Train Loss: 1.0872, Train Accuracy: 0.5640, Test Loss: 1.4164, Test Accuracy: 0.4850\n",
            "Epoch 32\n"
          ]
        },
        {
          "name": "stderr",
          "output_type": "stream",
          "text": [
            "100%|██████████| 652/652 [04:04<00:00,  2.67it/s]\n",
            "100%|██████████| 280/280 [00:32<00:00,  8.71it/s]\n"
          ]
        },
        {
          "name": "stdout",
          "output_type": "stream",
          "text": [
            "Epoch 33/50, Train Loss: 1.0693, Train Accuracy: 0.5821, Test Loss: 1.3097, Test Accuracy: 0.5284\n",
            "Epoch 33\n"
          ]
        },
        {
          "name": "stderr",
          "output_type": "stream",
          "text": [
            "100%|██████████| 652/652 [04:05<00:00,  2.65it/s]\n",
            "100%|██████████| 280/280 [00:31<00:00,  8.82it/s]\n"
          ]
        },
        {
          "name": "stdout",
          "output_type": "stream",
          "text": [
            "Epoch 34/50, Train Loss: 1.0727, Train Accuracy: 0.5873, Test Loss: 1.3560, Test Accuracy: 0.5123\n",
            "Epoch 34\n"
          ]
        },
        {
          "name": "stderr",
          "output_type": "stream",
          "text": [
            "100%|██████████| 652/652 [04:05<00:00,  2.66it/s]\n",
            "100%|██████████| 280/280 [00:32<00:00,  8.74it/s]\n"
          ]
        },
        {
          "name": "stdout",
          "output_type": "stream",
          "text": [
            "Epoch 35/50, Train Loss: 1.0603, Train Accuracy: 0.5813, Test Loss: 1.3919, Test Accuracy: 0.4962\n",
            "Epoch 35\n"
          ]
        },
        {
          "name": "stderr",
          "output_type": "stream",
          "text": [
            "100%|██████████| 652/652 [04:06<00:00,  2.65it/s]\n",
            "100%|██████████| 280/280 [00:32<00:00,  8.68it/s]\n"
          ]
        },
        {
          "name": "stdout",
          "output_type": "stream",
          "text": [
            "Epoch 36/50, Train Loss: 1.0352, Train Accuracy: 0.5857, Test Loss: 1.4412, Test Accuracy: 0.4957\n",
            "Epoch 36\n"
          ]
        },
        {
          "name": "stderr",
          "output_type": "stream",
          "text": [
            "100%|██████████| 652/652 [04:05<00:00,  2.66it/s]\n",
            "100%|██████████| 280/280 [00:32<00:00,  8.75it/s]\n"
          ]
        },
        {
          "name": "stdout",
          "output_type": "stream",
          "text": [
            "Epoch 37/50, Train Loss: 1.0520, Train Accuracy: 0.5915, Test Loss: 1.4403, Test Accuracy: 0.4854\n",
            "Epoch 37\n"
          ]
        },
        {
          "name": "stderr",
          "output_type": "stream",
          "text": [
            "100%|██████████| 652/652 [04:05<00:00,  2.65it/s]\n",
            "100%|██████████| 280/280 [00:32<00:00,  8.73it/s]\n"
          ]
        },
        {
          "name": "stdout",
          "output_type": "stream",
          "text": [
            "Epoch 38/50, Train Loss: 1.0443, Train Accuracy: 0.5919, Test Loss: 1.3901, Test Accuracy: 0.5204\n",
            "Epoch 38\n"
          ]
        },
        {
          "name": "stderr",
          "output_type": "stream",
          "text": [
            "100%|██████████| 652/652 [04:05<00:00,  2.66it/s]\n",
            "100%|██████████| 280/280 [00:32<00:00,  8.60it/s]\n"
          ]
        },
        {
          "name": "stdout",
          "output_type": "stream",
          "text": [
            "Epoch 39/50, Train Loss: 1.0523, Train Accuracy: 0.5819, Test Loss: 1.3317, Test Accuracy: 0.5222\n",
            "Epoch 39\n"
          ]
        },
        {
          "name": "stderr",
          "output_type": "stream",
          "text": [
            "100%|██████████| 652/652 [04:06<00:00,  2.65it/s]\n",
            "100%|██████████| 280/280 [00:32<00:00,  8.65it/s]\n"
          ]
        },
        {
          "name": "stdout",
          "output_type": "stream",
          "text": [
            "Epoch 40/50, Train Loss: 0.9946, Train Accuracy: 0.6084, Test Loss: 1.3722, Test Accuracy: 0.5217\n",
            "Epoch 40\n"
          ]
        },
        {
          "name": "stderr",
          "output_type": "stream",
          "text": [
            "100%|██████████| 652/652 [04:05<00:00,  2.66it/s]\n",
            "100%|██████████| 280/280 [00:32<00:00,  8.73it/s]\n"
          ]
        },
        {
          "name": "stdout",
          "output_type": "stream",
          "text": [
            "Epoch 41/50, Train Loss: 1.0022, Train Accuracy: 0.6099, Test Loss: 1.3916, Test Accuracy: 0.4975\n",
            "Epoch 41\n"
          ]
        },
        {
          "name": "stderr",
          "output_type": "stream",
          "text": [
            "100%|██████████| 652/652 [04:05<00:00,  2.65it/s]\n",
            "100%|██████████| 280/280 [00:32<00:00,  8.75it/s]\n"
          ]
        },
        {
          "name": "stdout",
          "output_type": "stream",
          "text": [
            "Epoch 42/50, Train Loss: 1.0069, Train Accuracy: 0.6091, Test Loss: 1.3554, Test Accuracy: 0.5213\n",
            "Epoch 42\n"
          ]
        },
        {
          "name": "stderr",
          "output_type": "stream",
          "text": [
            "100%|██████████| 652/652 [04:05<00:00,  2.66it/s]\n",
            "100%|██████████| 280/280 [00:31<00:00,  8.79it/s]\n"
          ]
        },
        {
          "name": "stdout",
          "output_type": "stream",
          "text": [
            "Epoch 43/50, Train Loss: 0.9747, Train Accuracy: 0.6224, Test Loss: 1.3897, Test Accuracy: 0.5087\n",
            "Epoch 43\n"
          ]
        },
        {
          "name": "stderr",
          "output_type": "stream",
          "text": [
            "100%|██████████| 652/652 [04:05<00:00,  2.65it/s]\n",
            "100%|██████████| 280/280 [00:32<00:00,  8.62it/s]\n"
          ]
        },
        {
          "name": "stdout",
          "output_type": "stream",
          "text": [
            "Epoch 44/50, Train Loss: 0.9953, Train Accuracy: 0.6193, Test Loss: 1.3709, Test Accuracy: 0.4998\n",
            "Epoch 44\n"
          ]
        },
        {
          "name": "stderr",
          "output_type": "stream",
          "text": [
            "100%|██████████| 652/652 [04:06<00:00,  2.64it/s]\n",
            "100%|██████████| 280/280 [00:32<00:00,  8.56it/s]\n"
          ]
        },
        {
          "name": "stdout",
          "output_type": "stream",
          "text": [
            "Epoch 45/50, Train Loss: 1.0413, Train Accuracy: 0.5932, Test Loss: 1.3296, Test Accuracy: 0.5105\n",
            "Epoch 45\n"
          ]
        },
        {
          "name": "stderr",
          "output_type": "stream",
          "text": [
            "100%|██████████| 652/652 [04:07<00:00,  2.64it/s]\n",
            "100%|██████████| 280/280 [00:31<00:00,  8.92it/s]\n"
          ]
        },
        {
          "name": "stdout",
          "output_type": "stream",
          "text": [
            "Epoch 46/50, Train Loss: 0.9896, Train Accuracy: 0.6187, Test Loss: 1.3530, Test Accuracy: 0.5455\n",
            "Epoch 46\n"
          ]
        },
        {
          "name": "stderr",
          "output_type": "stream",
          "text": [
            "100%|██████████| 652/652 [04:05<00:00,  2.66it/s]\n",
            "100%|██████████| 280/280 [00:32<00:00,  8.62it/s]\n"
          ]
        },
        {
          "name": "stdout",
          "output_type": "stream",
          "text": [
            "Epoch 47/50, Train Loss: 0.9643, Train Accuracy: 0.6280, Test Loss: 1.2963, Test Accuracy: 0.5347\n",
            "Epoch 47\n"
          ]
        },
        {
          "name": "stderr",
          "output_type": "stream",
          "text": [
            "100%|██████████| 652/652 [04:07<00:00,  2.63it/s]\n",
            "100%|██████████| 280/280 [00:32<00:00,  8.64it/s]\n"
          ]
        },
        {
          "name": "stdout",
          "output_type": "stream",
          "text": [
            "Epoch 48/50, Train Loss: 0.9411, Train Accuracy: 0.6343, Test Loss: 1.4289, Test Accuracy: 0.5101\n",
            "Epoch 48\n"
          ]
        },
        {
          "name": "stderr",
          "output_type": "stream",
          "text": [
            "100%|██████████| 652/652 [04:08<00:00,  2.63it/s]\n",
            "100%|██████████| 280/280 [00:32<00:00,  8.54it/s]\n"
          ]
        },
        {
          "name": "stdout",
          "output_type": "stream",
          "text": [
            "Epoch 49/50, Train Loss: 0.9382, Train Accuracy: 0.6329, Test Loss: 1.4280, Test Accuracy: 0.5146\n",
            "Epoch 49\n"
          ]
        },
        {
          "name": "stderr",
          "output_type": "stream",
          "text": [
            "100%|██████████| 652/652 [04:07<00:00,  2.64it/s]\n",
            "100%|██████████| 280/280 [00:33<00:00,  8.46it/s]\n"
          ]
        },
        {
          "name": "stdout",
          "output_type": "stream",
          "text": [
            "Epoch 50/50, Train Loss: 0.9394, Train Accuracy: 0.6314, Test Loss: 1.4108, Test Accuracy: 0.5083\n"
          ]
        }
      ],
      "source": [
        "# Train ViT\n",
        "scores = {}\n",
        "for _m in _modality:\n",
        "  train_loss, train_accuracy, test_loss, test_accuracy = train_ViT(_m)\n",
        "  scores[_m] = [train_loss, train_accuracy, test_loss, test_accuracy]"
      ]
    },
    {
      "cell_type": "code",
      "execution_count": 19,
      "metadata": {
        "id": "XNOX2sOP0E3j"
      },
      "outputs": [
        {
          "name": "stdout",
          "output_type": "stream",
          "text": [
            "\n",
            "Results\n",
            "---------------\n",
            "\n",
            "Modality: visual, Train Loss: 0.7179, Train Accuracy: 0.7314, Test Loss: 1.4135, Test Accuracy: 0.5540\n",
            "Modality: audio, Train Loss: 1.7936, Train Accuracy: 0.1651, Test Loss: 1.7949, Test Accuracy: 0.1738\n",
            "Modality: multimodal, Train Loss: 0.9394, Train Accuracy: 0.6314, Test Loss: 1.4108, Test Accuracy: 0.5083\n"
          ]
        }
      ],
      "source": [
        "# Print results\n",
        "print(\"\\nResults\\n---------------\\n\")\n",
        "for _m, val in scores.items():\n",
        "  print(f\"Modality: {_m}, Train Loss: {val[0]:.4f}, Train Accuracy: {val[1]:.4f}, Test Loss: {val[2]:.4f}, Test Accuracy: {val[3]:.4f}\")"
      ]
    },
    {
      "cell_type": "code",
      "execution_count": 22,
      "metadata": {
        "id": "7eQaDTdZ9Qak"
      },
      "outputs": [],
      "source": [
        "# Copy trained models to GDrive\n",
        "!cp 'ViT_audio_video_fullscale_50_8_0.0001' '/Users/aashigoyal/Desktop/vscode/aashimain/csci535/final_temp/models'\n",
        "!cp 'ViT_audio_fullscale_50_8_0.0001' '/Users/aashigoyal/Desktop/vscode/aashimain/csci535/final_temp/models'\n",
        "!cp 'ViT_video_fullscale_50_8_0.0001' '/Users/aashigoyal/Desktop/vscode/aashimain/csci535/final_temp/models'"
      ]
    },
    {
      "cell_type": "code",
      "execution_count": 23,
      "metadata": {
        "id": "Q5SeIAOnTI-E"
      },
      "outputs": [
        {
          "data": {
            "text/plain": [
              "0"
            ]
          },
          "execution_count": 23,
          "metadata": {},
          "output_type": "execute_result"
        }
      ],
      "source": [
        "# Clear memory\n",
        "import gc\n",
        "gc.collect()"
      ]
    },
    {
      "cell_type": "code",
      "execution_count": null,
      "metadata": {
        "id": "XzFnQhXhmCiI"
      },
      "outputs": [],
      "source": []
    }
  ],
  "metadata": {
    "accelerator": "GPU",
    "colab": {
      "gpuType": "T4",
      "provenance": []
    },
    "kernelspec": {
      "display_name": "Python 3",
      "name": "python3"
    },
    "language_info": {
      "codemirror_mode": {
        "name": "ipython",
        "version": 3
      },
      "file_extension": ".py",
      "mimetype": "text/x-python",
      "name": "python",
      "nbconvert_exporter": "python",
      "pygments_lexer": "ipython3",
      "version": "3.12.2"
    }
  },
  "nbformat": 4,
  "nbformat_minor": 0
}
