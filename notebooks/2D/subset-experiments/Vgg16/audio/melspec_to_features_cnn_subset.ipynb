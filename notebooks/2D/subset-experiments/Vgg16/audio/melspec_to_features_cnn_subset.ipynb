{
  "cells": [
    {
      "cell_type": "code",
      "execution_count": null,
      "metadata": {
        "id": "bm-A1pWMR3oa"
      },
      "outputs": [],
      "source": [
        "# from google.colab import drive\n",
        "# drive.mount('/content/drive')"
      ]
    },
    {
      "cell_type": "code",
      "execution_count": null,
      "metadata": {
        "id": "SP57JsruRqX5"
      },
      "outputs": [],
      "source": [
        "import os\n",
        "import sys\n",
        "import torch\n",
        "import torch.nn as nn\n",
        "import torch.optim as optim\n",
        "import torchvision.transforms as transforms\n",
        "from torchvision import models\n",
        "from PIL import Image\n",
        "from sklearn.model_selection import train_test_split\n",
        "import numpy as np\n",
        "from tqdm import tqdm"
      ]
    },
    {
      "cell_type": "code",
      "execution_count": null,
      "metadata": {
        "id": "oLkWoD6pRrAb"
      },
      "outputs": [],
      "source": [
        "from torchvision import models\n",
        "\n",
        "class CNN(nn.Module):\n",
        "    def __init__(self, num_classes):\n",
        "        super(CNN, self).__init__()\n",
        "        self.features = models.vgg16(pretrained=True)\n",
        "        # Modify the first layer to accept 1 channel input (for grayscale spectrograms)\n",
        "        self.features.features[0] = nn.Conv2d(1, 64, kernel_size=7, stride=2, padding=3, bias=False)\n",
        "        # Modify the final layer to output desired feature size\n",
        "        self.features.classifier[6] = nn.Linear(self.features.classifier[6].in_features, num_classes)\n",
        "        self.softmax = nn.Softmax(dim=1)\n",
        "\n",
        "    def forward(self, x):\n",
        "        x = self.features(x)\n",
        "        x = self.softmax(x)\n",
        "        return x"
      ]
    },
    {
      "cell_type": "code",
      "execution_count": null,
      "metadata": {
        "id": "YYjikmeiRsNP"
      },
      "outputs": [],
      "source": [
        "def preprocess_image(image_path):\n",
        "    img = Image.open(image_path).convert('L')  # Convert to grayscale\n",
        "    transform = transforms.Compose([\n",
        "        transforms.Resize((224, 224)),  # Resize to match vgg16 input size\n",
        "        transforms.ToTensor(),           # Convert to tensor\n",
        "    ])\n",
        "    img_tensor = transform(img)\n",
        "    # img_tensor = img_tensor.unsqueeze(0)  # Add batch dimension\n",
        "    return img_tensor"
      ]
    },
    {
      "cell_type": "code",
      "execution_count": null,
      "metadata": {
        "id": "Y5pe1EXsSbpj"
      },
      "outputs": [],
      "source": [
        "def load_dataset(input_folder):\n",
        "    X = []\n",
        "    y = []\n",
        "    # List all files in the input folder\n",
        "    files = os.listdir(input_folder)\n",
        "    # Iterate over files in the folder\n",
        "    for filename in files:\n",
        "        if filename.endswith(\".png\"):  # Assuming mel spectrograms are stored as PNG files\n",
        "            input_path = os.path.join(input_folder, filename)\n",
        "            img_tensor = preprocess_image(input_path)\n",
        "            X.append(img_tensor)\n",
        "            # Extract label from filename (assuming filename is in format \"abc_IEO_label_xyz.png\")\n",
        "            label = filename.split(\"_\")[2]\n",
        "            if label == \"HAP\":\n",
        "                y.append(0)\n",
        "            elif label == \"SAD\":\n",
        "                y.append(1)\n",
        "            elif label == \"ANG\":\n",
        "                y.append(2)\n",
        "    return X, y"
      ]
    },
    {
      "cell_type": "code",
      "execution_count": null,
      "metadata": {
        "id": "Q5--S5JwTTw1"
      },
      "outputs": [],
      "source": [
        "def train_model(model, criterion, optimizer, train_loader, device):\n",
        "    model.train()\n",
        "    running_loss = 0.0\n",
        "    correct_preds = 0\n",
        "    total_preds = 0\n",
        "    for inputs, labels in tqdm(train_loader):\n",
        "        inputs, labels = inputs.to(device), labels.to(device)\n",
        "        optimizer.zero_grad()\n",
        "        outputs = model(inputs)\n",
        "        loss = criterion(outputs, labels)\n",
        "        loss.backward()\n",
        "        optimizer.step()\n",
        "        running_loss += loss.item() * inputs.size(0)\n",
        "        _, predicted = torch.max(outputs, 1)\n",
        "        correct_preds += (predicted == labels).sum().item()\n",
        "        total_preds += labels.size(0)\n",
        "\n",
        "    epoch_loss = running_loss / len(train_loader.dataset)\n",
        "    accuracy = correct_preds / total_preds\n",
        "    return epoch_loss, accuracy"
      ]
    },
    {
      "cell_type": "code",
      "execution_count": null,
      "metadata": {
        "id": "ajpo8J6kTUjD"
      },
      "outputs": [],
      "source": [
        "def test_model(model, criterion, test_loader, device):\n",
        "    model.eval()\n",
        "    running_loss = 0.0\n",
        "    correct_preds = 0\n",
        "    total_preds = 0\n",
        "    with torch.no_grad():\n",
        "        for inputs, labels in tqdm(test_loader):\n",
        "            inputs, labels = inputs.to(device), labels.to(device)\n",
        "            outputs = model(inputs)\n",
        "            loss = criterion(outputs, labels)\n",
        "            running_loss += loss.item() * inputs.size(0)\n",
        "            _, predicted = torch.max(outputs, 1)\n",
        "            correct_preds += (predicted == labels).sum().item()\n",
        "            total_preds += labels.size(0)\n",
        "    epoch_loss = running_loss / len(test_loader.dataset)\n",
        "    accuracy = correct_preds / total_preds\n",
        "    return epoch_loss, accuracy"
      ]
    },
    {
      "cell_type": "code",
      "execution_count": null,
      "metadata": {
        "id": "92KI-5r7RtVi"
      },
      "outputs": [],
      "source": [
        "# def extract_features_from_folder(input_folder):\n",
        "#     # Initialize the model\n",
        "#     model = CNN(num_classes=3)  # 3 classes for HAPPY, SAD, ANGRY\n",
        "#     device = torch.device(\"cuda\" if torch.cuda.is_available() else \"cpu\")\n",
        "#     model.to(device)\n",
        "#     model.eval()  # Set the model to evaluation mode\n",
        "\n",
        "#     # List all files in the input folder\n",
        "#     files = os.listdir(input_folder)\n",
        "\n",
        "#     # Iterate over files in the folder\n",
        "#     for filename in files:\n",
        "#         if filename.endswith(\".png\"):  # Assuming mel spectrograms are stored as PNG files\n",
        "#             input_path = os.path.join(input_folder, filename)\n",
        "#             img_tensor = preprocess_image(input_path)\n",
        "#             img_tensor = img_tensor.to(device)\n",
        "#             with torch.no_grad():\n",
        "#                 output_features = model(img_tensor)\n",
        "#             print(f\"Features extracted for {filename}: {output_features}\")\n"
      ]
    },
    {
      "cell_type": "code",
      "execution_count": null,
      "metadata": {
        "id": "eBB1OzDcRxDy"
      },
      "outputs": [],
      "source": [
        "# extract_features_from_folder('/content/drive/MyDrive/csci535/melspec')"
      ]
    },
    {
      "cell_type": "code",
      "execution_count": null,
      "metadata": {
        "id": "mnnN_idgTBu5"
      },
      "outputs": [],
      "source": [
        "# !python3 melspec_to_features_cnn.py /content/drive/MyDrive/csci535/melspec\n"
      ]
    },
    {
      "cell_type": "code",
      "execution_count": null,
      "metadata": {
        "colab": {
          "base_uri": "https://localhost:8080/"
        },
        "id": "4CtiJ8-bS7vS",
        "outputId": "674e3e8a-942b-4966-9dec-a450ed07711c"
      },
      "outputs": [
        {
          "name": "stdout",
          "output_type": "stream",
          "text": [
            "Total number of samples: 273\n",
            "Number of train samples: 191 Number of test samples: 82\n"
          ]
        },
        {
          "name": "stderr",
          "output_type": "stream",
          "text": [
            "/Users/aashigoyal/anaconda3/envs/csci/lib/python3.12/site-packages/torchvision/models/_utils.py:208: UserWarning: The parameter 'pretrained' is deprecated since 0.13 and may be removed in the future, please use 'weights' instead.\n",
            "  warnings.warn(\n",
            "/Users/aashigoyal/anaconda3/envs/csci/lib/python3.12/site-packages/torchvision/models/_utils.py:223: UserWarning: Arguments other than a weight enum or `None` for 'weights' are deprecated since 0.13 and may be removed in the future. The current behavior is equivalent to passing `weights=VGG16_Weights.IMAGENET1K_V1`. You can also use `weights=VGG16_Weights.DEFAULT` to get the most up-to-date weights.\n",
            "  warnings.warn(msg)\n"
          ]
        },
        {
          "name": "stdout",
          "output_type": "stream",
          "text": [
            "Batch size: 32 lr: 0.0001\n",
            "Epoch 0\n"
          ]
        },
        {
          "name": "stderr",
          "output_type": "stream",
          "text": [
            "100%|██████████| 6/6 [00:24<00:00,  4.12s/it]\n",
            "100%|██████████| 3/3 [00:02<00:00,  1.23it/s]\n"
          ]
        },
        {
          "name": "stdout",
          "output_type": "stream",
          "text": [
            "Epoch 1/50, Train Loss: 1.0097, Train Accuracy: 0.5393, Test Loss: 0.9072, Test Accuracy: 0.5732\n",
            "Epoch 1\n"
          ]
        },
        {
          "name": "stderr",
          "output_type": "stream",
          "text": [
            "100%|██████████| 6/6 [00:25<00:00,  4.31s/it]\n",
            "100%|██████████| 3/3 [00:02<00:00,  1.07it/s]\n"
          ]
        },
        {
          "name": "stdout",
          "output_type": "stream",
          "text": [
            "Epoch 2/50, Train Loss: 0.8174, Train Accuracy: 0.7225, Test Loss: 0.8266, Test Accuracy: 0.7195\n",
            "Epoch 2\n"
          ]
        },
        {
          "name": "stderr",
          "output_type": "stream",
          "text": [
            "100%|██████████| 6/6 [00:25<00:00,  4.20s/it]\n",
            "100%|██████████| 3/3 [00:03<00:00,  1.01s/it]\n"
          ]
        },
        {
          "name": "stdout",
          "output_type": "stream",
          "text": [
            "Epoch 3/50, Train Loss: 0.7437, Train Accuracy: 0.8063, Test Loss: 0.8155, Test Accuracy: 0.7317\n",
            "Epoch 3\n"
          ]
        },
        {
          "name": "stderr",
          "output_type": "stream",
          "text": [
            "100%|██████████| 6/6 [00:24<00:00,  4.03s/it]\n",
            "100%|██████████| 3/3 [00:02<00:00,  1.10it/s]\n"
          ]
        },
        {
          "name": "stdout",
          "output_type": "stream",
          "text": [
            "Epoch 4/50, Train Loss: 0.7857, Train Accuracy: 0.7644, Test Loss: 0.9001, Test Accuracy: 0.6585\n",
            "Epoch 4\n"
          ]
        },
        {
          "name": "stderr",
          "output_type": "stream",
          "text": [
            "100%|██████████| 6/6 [00:24<00:00,  4.02s/it]\n",
            "100%|██████████| 3/3 [00:02<00:00,  1.26it/s]\n"
          ]
        },
        {
          "name": "stdout",
          "output_type": "stream",
          "text": [
            "Epoch 5/50, Train Loss: 0.7602, Train Accuracy: 0.7853, Test Loss: 0.9260, Test Accuracy: 0.6220\n",
            "Epoch 5\n"
          ]
        },
        {
          "name": "stderr",
          "output_type": "stream",
          "text": [
            "100%|██████████| 6/6 [00:23<00:00,  3.95s/it]\n",
            "100%|██████████| 3/3 [00:02<00:00,  1.35it/s]\n"
          ]
        },
        {
          "name": "stdout",
          "output_type": "stream",
          "text": [
            "Epoch 6/50, Train Loss: 0.8172, Train Accuracy: 0.7277, Test Loss: 0.8025, Test Accuracy: 0.7439\n",
            "Epoch 6\n"
          ]
        },
        {
          "name": "stderr",
          "output_type": "stream",
          "text": [
            "100%|██████████| 6/6 [00:24<00:00,  4.10s/it]\n",
            "100%|██████████| 3/3 [00:02<00:00,  1.17it/s]\n"
          ]
        },
        {
          "name": "stdout",
          "output_type": "stream",
          "text": [
            "Epoch 7/50, Train Loss: 0.7526, Train Accuracy: 0.7958, Test Loss: 0.8469, Test Accuracy: 0.7073\n",
            "Epoch 7\n"
          ]
        },
        {
          "name": "stderr",
          "output_type": "stream",
          "text": [
            "100%|██████████| 6/6 [00:23<00:00,  3.97s/it]\n",
            "100%|██████████| 3/3 [00:02<00:00,  1.08it/s]\n"
          ]
        },
        {
          "name": "stdout",
          "output_type": "stream",
          "text": [
            "Epoch 8/50, Train Loss: 0.7656, Train Accuracy: 0.7906, Test Loss: 0.8919, Test Accuracy: 0.6585\n",
            "Epoch 8\n"
          ]
        },
        {
          "name": "stderr",
          "output_type": "stream",
          "text": [
            "100%|██████████| 6/6 [00:22<00:00,  3.83s/it]\n",
            "100%|██████████| 3/3 [00:02<00:00,  1.12it/s]\n"
          ]
        },
        {
          "name": "stdout",
          "output_type": "stream",
          "text": [
            "Epoch 9/50, Train Loss: 0.7971, Train Accuracy: 0.7487, Test Loss: 0.8134, Test Accuracy: 0.7439\n",
            "Epoch 9\n"
          ]
        },
        {
          "name": "stderr",
          "output_type": "stream",
          "text": [
            "100%|██████████| 6/6 [00:24<00:00,  4.13s/it]\n",
            "100%|██████████| 3/3 [00:02<00:00,  1.30it/s]\n"
          ]
        },
        {
          "name": "stdout",
          "output_type": "stream",
          "text": [
            "Epoch 10/50, Train Loss: 0.7474, Train Accuracy: 0.8063, Test Loss: 0.8641, Test Accuracy: 0.6951\n",
            "Epoch 10\n"
          ]
        },
        {
          "name": "stderr",
          "output_type": "stream",
          "text": [
            "100%|██████████| 6/6 [00:25<00:00,  4.20s/it]\n",
            "100%|██████████| 3/3 [00:03<00:00,  1.06s/it]\n"
          ]
        },
        {
          "name": "stdout",
          "output_type": "stream",
          "text": [
            "Epoch 11/50, Train Loss: 0.7243, Train Accuracy: 0.8272, Test Loss: 0.8174, Test Accuracy: 0.7195\n",
            "Epoch 11\n"
          ]
        },
        {
          "name": "stderr",
          "output_type": "stream",
          "text": [
            "100%|██████████| 6/6 [00:23<00:00,  3.89s/it]\n",
            "100%|██████████| 3/3 [00:02<00:00,  1.24it/s]\n"
          ]
        },
        {
          "name": "stdout",
          "output_type": "stream",
          "text": [
            "Epoch 12/50, Train Loss: 0.7267, Train Accuracy: 0.8220, Test Loss: 0.8092, Test Accuracy: 0.7439\n",
            "Epoch 12\n"
          ]
        },
        {
          "name": "stderr",
          "output_type": "stream",
          "text": [
            "100%|██████████| 6/6 [00:24<00:00,  4.11s/it]\n",
            "100%|██████████| 3/3 [00:02<00:00,  1.12it/s]\n"
          ]
        },
        {
          "name": "stdout",
          "output_type": "stream",
          "text": [
            "Epoch 13/50, Train Loss: 0.6826, Train Accuracy: 0.8691, Test Loss: 0.8262, Test Accuracy: 0.7195\n",
            "Epoch 13\n"
          ]
        },
        {
          "name": "stderr",
          "output_type": "stream",
          "text": [
            "100%|██████████| 6/6 [00:24<00:00,  4.03s/it]\n",
            "100%|██████████| 3/3 [00:03<00:00,  1.00s/it]\n"
          ]
        },
        {
          "name": "stdout",
          "output_type": "stream",
          "text": [
            "Epoch 14/50, Train Loss: 0.7164, Train Accuracy: 0.8325, Test Loss: 0.8052, Test Accuracy: 0.7439\n",
            "Epoch 14\n"
          ]
        },
        {
          "name": "stderr",
          "output_type": "stream",
          "text": [
            "100%|██████████| 6/6 [00:27<00:00,  4.52s/it]\n",
            "100%|██████████| 3/3 [00:02<00:00,  1.26it/s]\n"
          ]
        },
        {
          "name": "stdout",
          "output_type": "stream",
          "text": [
            "Epoch 15/50, Train Loss: 0.7344, Train Accuracy: 0.8168, Test Loss: 0.7996, Test Accuracy: 0.7561\n",
            "Epoch 15\n"
          ]
        },
        {
          "name": "stderr",
          "output_type": "stream",
          "text": [
            "100%|██████████| 6/6 [00:25<00:00,  4.30s/it]\n",
            "100%|██████████| 3/3 [00:02<00:00,  1.04it/s]\n"
          ]
        },
        {
          "name": "stdout",
          "output_type": "stream",
          "text": [
            "Epoch 16/50, Train Loss: 0.7160, Train Accuracy: 0.8377, Test Loss: 0.7876, Test Accuracy: 0.7683\n",
            "Epoch 16\n"
          ]
        },
        {
          "name": "stderr",
          "output_type": "stream",
          "text": [
            "100%|██████████| 6/6 [00:23<00:00,  4.00s/it]\n",
            "100%|██████████| 3/3 [00:02<00:00,  1.10it/s]\n"
          ]
        },
        {
          "name": "stdout",
          "output_type": "stream",
          "text": [
            "Epoch 17/50, Train Loss: 0.7210, Train Accuracy: 0.8272, Test Loss: 0.8695, Test Accuracy: 0.6829\n",
            "Epoch 17\n"
          ]
        },
        {
          "name": "stderr",
          "output_type": "stream",
          "text": [
            "100%|██████████| 6/6 [00:25<00:00,  4.32s/it]\n",
            "100%|██████████| 3/3 [00:02<00:00,  1.30it/s]\n"
          ]
        },
        {
          "name": "stdout",
          "output_type": "stream",
          "text": [
            "Epoch 18/50, Train Loss: 0.8215, Train Accuracy: 0.7277, Test Loss: 0.8197, Test Accuracy: 0.7317\n",
            "Epoch 18\n"
          ]
        },
        {
          "name": "stderr",
          "output_type": "stream",
          "text": [
            "100%|██████████| 6/6 [00:25<00:00,  4.29s/it]\n",
            "100%|██████████| 3/3 [00:02<00:00,  1.00it/s]\n"
          ]
        },
        {
          "name": "stdout",
          "output_type": "stream",
          "text": [
            "Epoch 19/50, Train Loss: 0.7461, Train Accuracy: 0.7958, Test Loss: 0.7750, Test Accuracy: 0.7805\n",
            "Epoch 19\n"
          ]
        },
        {
          "name": "stderr",
          "output_type": "stream",
          "text": [
            "100%|██████████| 6/6 [00:23<00:00,  3.97s/it]\n",
            "100%|██████████| 3/3 [00:02<00:00,  1.16it/s]\n"
          ]
        },
        {
          "name": "stdout",
          "output_type": "stream",
          "text": [
            "Epoch 20/50, Train Loss: 0.6739, Train Accuracy: 0.8743, Test Loss: 0.8190, Test Accuracy: 0.7195\n",
            "Epoch 20\n"
          ]
        },
        {
          "name": "stderr",
          "output_type": "stream",
          "text": [
            "100%|██████████| 6/6 [00:25<00:00,  4.26s/it]\n",
            "100%|██████████| 3/3 [00:02<00:00,  1.30it/s]\n"
          ]
        },
        {
          "name": "stdout",
          "output_type": "stream",
          "text": [
            "Epoch 21/50, Train Loss: 0.6916, Train Accuracy: 0.8586, Test Loss: 0.8503, Test Accuracy: 0.6951\n",
            "Epoch 21\n"
          ]
        },
        {
          "name": "stderr",
          "output_type": "stream",
          "text": [
            "100%|██████████| 6/6 [00:23<00:00,  3.97s/it]\n",
            "100%|██████████| 3/3 [00:02<00:00,  1.04it/s]\n"
          ]
        },
        {
          "name": "stdout",
          "output_type": "stream",
          "text": [
            "Epoch 22/50, Train Loss: 0.6547, Train Accuracy: 0.8953, Test Loss: 0.7878, Test Accuracy: 0.7683\n",
            "Epoch 22\n"
          ]
        },
        {
          "name": "stderr",
          "output_type": "stream",
          "text": [
            "100%|██████████| 6/6 [00:24<00:00,  4.15s/it]\n",
            "100%|██████████| 3/3 [00:02<00:00,  1.24it/s]\n"
          ]
        },
        {
          "name": "stdout",
          "output_type": "stream",
          "text": [
            "Epoch 23/50, Train Loss: 0.6516, Train Accuracy: 0.9005, Test Loss: 0.7603, Test Accuracy: 0.7805\n",
            "Epoch 23\n"
          ]
        },
        {
          "name": "stderr",
          "output_type": "stream",
          "text": [
            "100%|██████████| 6/6 [00:25<00:00,  4.28s/it]\n",
            "100%|██████████| 3/3 [00:03<00:00,  1.00s/it]\n"
          ]
        },
        {
          "name": "stdout",
          "output_type": "stream",
          "text": [
            "Epoch 24/50, Train Loss: 0.6544, Train Accuracy: 0.8953, Test Loss: 0.7584, Test Accuracy: 0.7927\n",
            "Epoch 24\n"
          ]
        },
        {
          "name": "stderr",
          "output_type": "stream",
          "text": [
            "100%|██████████| 6/6 [00:23<00:00,  3.94s/it]\n",
            "100%|██████████| 3/3 [00:02<00:00,  1.12it/s]\n"
          ]
        },
        {
          "name": "stdout",
          "output_type": "stream",
          "text": [
            "Epoch 25/50, Train Loss: 0.6696, Train Accuracy: 0.8796, Test Loss: 0.7640, Test Accuracy: 0.7927\n",
            "Epoch 25\n"
          ]
        },
        {
          "name": "stderr",
          "output_type": "stream",
          "text": [
            "100%|██████████| 6/6 [00:24<00:00,  4.13s/it]\n",
            "100%|██████████| 3/3 [00:02<00:00,  1.28it/s]\n"
          ]
        },
        {
          "name": "stdout",
          "output_type": "stream",
          "text": [
            "Epoch 26/50, Train Loss: 0.6472, Train Accuracy: 0.9058, Test Loss: 0.7796, Test Accuracy: 0.7683\n",
            "Epoch 26\n"
          ]
        },
        {
          "name": "stderr",
          "output_type": "stream",
          "text": [
            "100%|██████████| 6/6 [00:26<00:00,  4.44s/it]\n",
            "100%|██████████| 3/3 [00:03<00:00,  1.06s/it]\n"
          ]
        },
        {
          "name": "stdout",
          "output_type": "stream",
          "text": [
            "Epoch 27/50, Train Loss: 0.6409, Train Accuracy: 0.9058, Test Loss: 0.7818, Test Accuracy: 0.7683\n",
            "Epoch 27\n"
          ]
        },
        {
          "name": "stderr",
          "output_type": "stream",
          "text": [
            "100%|██████████| 6/6 [00:23<00:00,  3.99s/it]\n",
            "100%|██████████| 3/3 [00:02<00:00,  1.25it/s]\n"
          ]
        },
        {
          "name": "stdout",
          "output_type": "stream",
          "text": [
            "Epoch 28/50, Train Loss: 0.6511, Train Accuracy: 0.9005, Test Loss: 0.7742, Test Accuracy: 0.7683\n",
            "Epoch 28\n"
          ]
        },
        {
          "name": "stderr",
          "output_type": "stream",
          "text": [
            "100%|██████████| 6/6 [00:24<00:00,  4.14s/it]\n",
            "100%|██████████| 3/3 [00:02<00:00,  1.04it/s]\n"
          ]
        },
        {
          "name": "stdout",
          "output_type": "stream",
          "text": [
            "Epoch 29/50, Train Loss: 0.6413, Train Accuracy: 0.9110, Test Loss: 0.7573, Test Accuracy: 0.7927\n",
            "Epoch 29\n"
          ]
        },
        {
          "name": "stderr",
          "output_type": "stream",
          "text": [
            "100%|██████████| 6/6 [00:24<00:00,  4.04s/it]\n",
            "100%|██████████| 3/3 [00:02<00:00,  1.05it/s]\n"
          ]
        },
        {
          "name": "stdout",
          "output_type": "stream",
          "text": [
            "Epoch 30/50, Train Loss: 0.6749, Train Accuracy: 0.8743, Test Loss: 0.7911, Test Accuracy: 0.7561\n",
            "Epoch 30\n"
          ]
        },
        {
          "name": "stderr",
          "output_type": "stream",
          "text": [
            "100%|██████████| 6/6 [00:24<00:00,  4.16s/it]\n",
            "100%|██████████| 3/3 [00:02<00:00,  1.31it/s]\n"
          ]
        },
        {
          "name": "stdout",
          "output_type": "stream",
          "text": [
            "Epoch 31/50, Train Loss: 0.6719, Train Accuracy: 0.8796, Test Loss: 0.7473, Test Accuracy: 0.8049\n",
            "Epoch 31\n"
          ]
        },
        {
          "name": "stderr",
          "output_type": "stream",
          "text": [
            "100%|██████████| 6/6 [00:25<00:00,  4.22s/it]\n",
            "100%|██████████| 3/3 [00:02<00:00,  1.01it/s]\n"
          ]
        },
        {
          "name": "stdout",
          "output_type": "stream",
          "text": [
            "Epoch 32/50, Train Loss: 0.6436, Train Accuracy: 0.8953, Test Loss: 0.8304, Test Accuracy: 0.7073\n",
            "Epoch 32\n"
          ]
        },
        {
          "name": "stderr",
          "output_type": "stream",
          "text": [
            "100%|██████████| 6/6 [00:23<00:00,  3.94s/it]\n",
            "100%|██████████| 3/3 [00:02<00:00,  1.24it/s]\n"
          ]
        },
        {
          "name": "stdout",
          "output_type": "stream",
          "text": [
            "Epoch 33/50, Train Loss: 0.6898, Train Accuracy: 0.8482, Test Loss: 0.8418, Test Accuracy: 0.7073\n",
            "Epoch 33\n"
          ]
        },
        {
          "name": "stderr",
          "output_type": "stream",
          "text": [
            "100%|██████████| 6/6 [00:24<00:00,  4.11s/it]\n",
            "100%|██████████| 3/3 [00:02<00:00,  1.29it/s]\n"
          ]
        },
        {
          "name": "stdout",
          "output_type": "stream",
          "text": [
            "Epoch 34/50, Train Loss: 0.7697, Train Accuracy: 0.7749, Test Loss: 0.7946, Test Accuracy: 0.7561\n",
            "Epoch 34\n"
          ]
        },
        {
          "name": "stderr",
          "output_type": "stream",
          "text": [
            "100%|██████████| 6/6 [00:24<00:00,  4.10s/it]\n",
            "100%|██████████| 3/3 [00:02<00:00,  1.24it/s]\n"
          ]
        },
        {
          "name": "stdout",
          "output_type": "stream",
          "text": [
            "Epoch 35/50, Train Loss: 0.6492, Train Accuracy: 0.8953, Test Loss: 0.7798, Test Accuracy: 0.7683\n",
            "Epoch 35\n"
          ]
        },
        {
          "name": "stderr",
          "output_type": "stream",
          "text": [
            "100%|██████████| 6/6 [00:24<00:00,  4.08s/it]\n",
            "100%|██████████| 3/3 [00:02<00:00,  1.26it/s]\n"
          ]
        },
        {
          "name": "stdout",
          "output_type": "stream",
          "text": [
            "Epoch 36/50, Train Loss: 0.6496, Train Accuracy: 0.9058, Test Loss: 0.8026, Test Accuracy: 0.7439\n",
            "Epoch 36\n"
          ]
        },
        {
          "name": "stderr",
          "output_type": "stream",
          "text": [
            "100%|██████████| 6/6 [00:24<00:00,  4.10s/it]\n",
            "100%|██████████| 3/3 [00:02<00:00,  1.16it/s]\n"
          ]
        },
        {
          "name": "stdout",
          "output_type": "stream",
          "text": [
            "Epoch 37/50, Train Loss: 0.7013, Train Accuracy: 0.8482, Test Loss: 0.8091, Test Accuracy: 0.7439\n",
            "Epoch 37\n"
          ]
        },
        {
          "name": "stderr",
          "output_type": "stream",
          "text": [
            "100%|██████████| 6/6 [00:24<00:00,  4.07s/it]\n",
            "100%|██████████| 3/3 [00:02<00:00,  1.03it/s]\n"
          ]
        },
        {
          "name": "stdout",
          "output_type": "stream",
          "text": [
            "Epoch 38/50, Train Loss: 0.7083, Train Accuracy: 0.8377, Test Loss: 0.7754, Test Accuracy: 0.7805\n",
            "Epoch 38\n"
          ]
        },
        {
          "name": "stderr",
          "output_type": "stream",
          "text": [
            "100%|██████████| 6/6 [00:24<00:00,  4.11s/it]\n",
            "100%|██████████| 3/3 [00:02<00:00,  1.04it/s]\n"
          ]
        },
        {
          "name": "stdout",
          "output_type": "stream",
          "text": [
            "Epoch 39/50, Train Loss: 0.6817, Train Accuracy: 0.8639, Test Loss: 0.8172, Test Accuracy: 0.7317\n",
            "Epoch 39\n"
          ]
        },
        {
          "name": "stderr",
          "output_type": "stream",
          "text": [
            "100%|██████████| 6/6 [00:25<00:00,  4.21s/it]\n",
            "100%|██████████| 3/3 [00:02<00:00,  1.26it/s]\n"
          ]
        },
        {
          "name": "stdout",
          "output_type": "stream",
          "text": [
            "Epoch 40/50, Train Loss: 0.7396, Train Accuracy: 0.8063, Test Loss: 0.8036, Test Accuracy: 0.7439\n",
            "Epoch 40\n"
          ]
        },
        {
          "name": "stderr",
          "output_type": "stream",
          "text": [
            "100%|██████████| 6/6 [00:23<00:00,  3.92s/it]\n",
            "100%|██████████| 3/3 [00:02<00:00,  1.31it/s]\n"
          ]
        },
        {
          "name": "stdout",
          "output_type": "stream",
          "text": [
            "Epoch 41/50, Train Loss: 0.6543, Train Accuracy: 0.9058, Test Loss: 0.8410, Test Accuracy: 0.6951\n",
            "Epoch 41\n"
          ]
        },
        {
          "name": "stderr",
          "output_type": "stream",
          "text": [
            "100%|██████████| 6/6 [00:25<00:00,  4.21s/it]\n",
            "100%|██████████| 3/3 [00:02<00:00,  1.04it/s]\n"
          ]
        },
        {
          "name": "stdout",
          "output_type": "stream",
          "text": [
            "Epoch 42/50, Train Loss: 0.6763, Train Accuracy: 0.8691, Test Loss: 0.7782, Test Accuracy: 0.7805\n",
            "Epoch 42\n"
          ]
        },
        {
          "name": "stderr",
          "output_type": "stream",
          "text": [
            "100%|██████████| 6/6 [00:25<00:00,  4.26s/it]\n",
            "100%|██████████| 3/3 [00:02<00:00,  1.30it/s]\n"
          ]
        },
        {
          "name": "stdout",
          "output_type": "stream",
          "text": [
            "Epoch 43/50, Train Loss: 0.6601, Train Accuracy: 0.8901, Test Loss: 0.7467, Test Accuracy: 0.8049\n",
            "Epoch 43\n"
          ]
        },
        {
          "name": "stderr",
          "output_type": "stream",
          "text": [
            "100%|██████████| 6/6 [00:23<00:00,  3.86s/it]\n",
            "100%|██████████| 3/3 [00:02<00:00,  1.22it/s]\n"
          ]
        },
        {
          "name": "stdout",
          "output_type": "stream",
          "text": [
            "Epoch 44/50, Train Loss: 0.6359, Train Accuracy: 0.9110, Test Loss: 0.7844, Test Accuracy: 0.7683\n",
            "Epoch 44\n"
          ]
        },
        {
          "name": "stderr",
          "output_type": "stream",
          "text": [
            "100%|██████████| 6/6 [00:24<00:00,  4.05s/it]\n",
            "100%|██████████| 3/3 [00:02<00:00,  1.25it/s]\n"
          ]
        },
        {
          "name": "stdout",
          "output_type": "stream",
          "text": [
            "Epoch 45/50, Train Loss: 0.7094, Train Accuracy: 0.8482, Test Loss: 0.7903, Test Accuracy: 0.7561\n",
            "Epoch 45\n"
          ]
        },
        {
          "name": "stderr",
          "output_type": "stream",
          "text": [
            "100%|██████████| 6/6 [00:26<00:00,  4.46s/it]\n",
            "100%|██████████| 3/3 [00:03<00:00,  1.04s/it]\n"
          ]
        },
        {
          "name": "stdout",
          "output_type": "stream",
          "text": [
            "Epoch 46/50, Train Loss: 0.6759, Train Accuracy: 0.8743, Test Loss: 0.7886, Test Accuracy: 0.7561\n",
            "Epoch 46\n"
          ]
        },
        {
          "name": "stderr",
          "output_type": "stream",
          "text": [
            "100%|██████████| 6/6 [00:25<00:00,  4.24s/it]\n",
            "100%|██████████| 3/3 [00:02<00:00,  1.01it/s]\n"
          ]
        },
        {
          "name": "stdout",
          "output_type": "stream",
          "text": [
            "Epoch 47/50, Train Loss: 0.6734, Train Accuracy: 0.8796, Test Loss: 0.7724, Test Accuracy: 0.7805\n",
            "Epoch 47\n"
          ]
        },
        {
          "name": "stderr",
          "output_type": "stream",
          "text": [
            "100%|██████████| 6/6 [00:25<00:00,  4.21s/it]\n",
            "100%|██████████| 3/3 [00:02<00:00,  1.16it/s]\n"
          ]
        },
        {
          "name": "stdout",
          "output_type": "stream",
          "text": [
            "Epoch 48/50, Train Loss: 0.6541, Train Accuracy: 0.8953, Test Loss: 0.7572, Test Accuracy: 0.7927\n",
            "Epoch 48\n"
          ]
        },
        {
          "name": "stderr",
          "output_type": "stream",
          "text": [
            "100%|██████████| 6/6 [00:23<00:00,  3.94s/it]\n",
            "100%|██████████| 3/3 [00:02<00:00,  1.23it/s]\n"
          ]
        },
        {
          "name": "stdout",
          "output_type": "stream",
          "text": [
            "Epoch 49/50, Train Loss: 0.6782, Train Accuracy: 0.8691, Test Loss: 0.7711, Test Accuracy: 0.7805\n",
            "Epoch 49\n"
          ]
        },
        {
          "name": "stderr",
          "output_type": "stream",
          "text": [
            "100%|██████████| 6/6 [00:25<00:00,  4.33s/it]\n",
            "100%|██████████| 3/3 [00:02<00:00,  1.00it/s]"
          ]
        },
        {
          "name": "stdout",
          "output_type": "stream",
          "text": [
            "Epoch 50/50, Train Loss: 0.6657, Train Accuracy: 0.8848, Test Loss: 0.7831, Test Accuracy: 0.7683\n"
          ]
        },
        {
          "name": "stderr",
          "output_type": "stream",
          "text": [
            "\n"
          ]
        }
      ],
      "source": [
        "if __name__ == \"__main__\":\n",
        "    # Check if input arguments are provided\n",
        "    # if len(sys.argv) != 2:\n",
        "    #     print(\"Usage: python melspec_to_features_cnn.py input_folder\")\n",
        "    #     sys.exit(1)\n",
        "\n",
        "    # input_folder = sys.argv[1]\n",
        "    input_folder = '/Users/aashigoyal/Desktop/vscode/aashimain/csci535/melspec'\n",
        "    # Check if input folder exists\n",
        "    if not os.path.exists(input_folder):\n",
        "        print(\"Input folder does not exist.\")\n",
        "        sys.exit(1)\n",
        "\n",
        "    # Load dataset and split into train and test sets\n",
        "    X, y = load_dataset(input_folder)\n",
        "    print(f\"Total number of samples: {len(X)}\")\n",
        "    X_train, X_test, y_train, y_test = train_test_split(X, y, test_size=0.3, random_state=42)\n",
        "    print(f\"Number of train samples: {len(X_train)}\", f\"Number of test samples: {len(X_test)}\")\n",
        "    # Initialize the model\n",
        "    model = CNN(num_classes=3)  # 3 classes for HAPPY, SAD, ANGRY\n",
        "    device = torch.device(\"cuda\" if torch.cuda.is_available() else \"cpu\")\n",
        "    model.to(device)\n",
        "\n",
        "    # Define loss function and optimizer\n",
        "    _lr = 0.0001\n",
        "    criterion = nn.CrossEntropyLoss()\n",
        "    optimizer = optim.Adam(model.parameters(), lr=_lr)\n",
        "\n",
        "    # Create data loaders\n",
        "    _bs = 32\n",
        "    train_loader = torch.utils.data.DataLoader(list(zip(X_train, y_train)), batch_size=_bs, shuffle=True)\n",
        "    test_loader = torch.utils.data.DataLoader(list(zip(X_test, y_test)), batch_size=_bs)\n",
        "    print(f\"Batch size: {_bs}\", f\"lr: {_lr}\")\n",
        "    # Training loop\n",
        "    num_epochs = 50\n",
        "    for epoch in range(num_epochs):\n",
        "        print(\"Epoch \" + str(epoch))\n",
        "        train_loss, train_accuracy = train_model(model, criterion, optimizer, train_loader, device)\n",
        "        test_loss, test_accuracy = test_model(model, criterion, test_loader, device)\n",
        "        print(f\"Epoch {epoch+1}/{num_epochs}, Train Loss: {train_loss:.4f}, Train Accuracy: {train_accuracy:.4f}, Test Loss: {test_loss:.4f}, Test Accuracy: {test_accuracy:.4f}\")"
      ]
    },
    {
      "cell_type": "code",
      "execution_count": null,
      "metadata": {
        "id": "9N8B8WXkUdJY"
      },
      "outputs": [],
      "source": [
        "torch.save(model.state_dict(), 'vgg16_melspec_'+str(num_epochs)+'_'+str(_bs)+'_'+str(_lr))"
      ]
    },
    {
      "cell_type": "code",
      "execution_count": null,
      "metadata": {
        "id": "qdOvcYZea_DZ"
      },
      "outputs": [],
      "source": [
        "# ! ls -lh /content/"
      ]
    },
    {
      "cell_type": "code",
      "execution_count": null,
      "metadata": {
        "id": "HMj9aENdbqeU"
      },
      "outputs": [],
      "source": []
    }
  ],
  "metadata": {
    "accelerator": "GPU",
    "colab": {
      "gpuType": "T4",
      "provenance": []
    },
    "kernelspec": {
      "display_name": "Python 3",
      "name": "python3"
    },
    "language_info": {
      "codemirror_mode": {
        "name": "ipython",
        "version": 3
      },
      "file_extension": ".py",
      "mimetype": "text/x-python",
      "name": "python",
      "nbconvert_exporter": "python",
      "pygments_lexer": "ipython3",
      "version": "3.12.2"
    }
  },
  "nbformat": 4,
  "nbformat_minor": 0
}