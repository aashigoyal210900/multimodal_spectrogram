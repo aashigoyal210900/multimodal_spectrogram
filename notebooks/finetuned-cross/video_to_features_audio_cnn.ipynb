{
  "cells": [
    {
      "cell_type": "code",
      "execution_count": 21,
      "metadata": {
        "colab": {
          "base_uri": "https://localhost:8080/"
        },
        "id": "bm-A1pWMR3oa",
        "outputId": "2bc91e49-2510-41b2-da47-ff623ced175b"
      },
      "outputs": [
        {
          "name": "stdout",
          "output_type": "stream",
          "text": [
            "Drive already mounted at /content/drive; to attempt to forcibly remount, call drive.mount(\"/content/drive\", force_remount=True).\n"
          ]
        }
      ],
      "source": [
        "# from google.colab import drive\n",
        "# drive.mount('/content/drive')"
      ]
    },
    {
      "cell_type": "code",
      "execution_count": 1,
      "metadata": {
        "colab": {
          "base_uri": "https://localhost:8080/"
        },
        "id": "uNr_mImAjLT7",
        "outputId": "967624fd-ba83-424c-a262-64f0c81775eb"
      },
      "outputs": [
        {
          "name": "stdout",
          "output_type": "stream",
          "text": [
            "Requirement already satisfied: facenet-pytorch in /Users/aashigoyal/anaconda3/envs/csci/lib/python3.12/site-packages (2.5.3)\n",
            "Requirement already satisfied: numpy in /Users/aashigoyal/anaconda3/envs/csci/lib/python3.12/site-packages (from facenet-pytorch) (1.26.4)\n",
            "Requirement already satisfied: requests in /Users/aashigoyal/anaconda3/envs/csci/lib/python3.12/site-packages (from facenet-pytorch) (2.31.0)\n",
            "Requirement already satisfied: torchvision in /Users/aashigoyal/anaconda3/envs/csci/lib/python3.12/site-packages (from facenet-pytorch) (0.17.1)\n",
            "Requirement already satisfied: pillow in /Users/aashigoyal/anaconda3/envs/csci/lib/python3.12/site-packages (from facenet-pytorch) (10.2.0)\n",
            "Requirement already satisfied: charset-normalizer<4,>=2 in /Users/aashigoyal/anaconda3/envs/csci/lib/python3.12/site-packages (from requests->facenet-pytorch) (2.0.4)\n",
            "Requirement already satisfied: idna<4,>=2.5 in /Users/aashigoyal/anaconda3/envs/csci/lib/python3.12/site-packages (from requests->facenet-pytorch) (3.4)\n",
            "Requirement already satisfied: urllib3<3,>=1.21.1 in /Users/aashigoyal/anaconda3/envs/csci/lib/python3.12/site-packages (from requests->facenet-pytorch) (2.1.0)\n",
            "Requirement already satisfied: certifi>=2017.4.17 in /Users/aashigoyal/anaconda3/envs/csci/lib/python3.12/site-packages (from requests->facenet-pytorch) (2024.2.2)\n",
            "Requirement already satisfied: torch in /Users/aashigoyal/anaconda3/envs/csci/lib/python3.12/site-packages (from torchvision->facenet-pytorch) (2.2.1)\n",
            "Requirement already satisfied: filelock in /Users/aashigoyal/anaconda3/envs/csci/lib/python3.12/site-packages (from torch->torchvision->facenet-pytorch) (3.13.1)\n",
            "Requirement already satisfied: typing-extensions>=4.8.0 in /Users/aashigoyal/anaconda3/envs/csci/lib/python3.12/site-packages (from torch->torchvision->facenet-pytorch) (4.10.0)\n",
            "Requirement already satisfied: sympy in /Users/aashigoyal/anaconda3/envs/csci/lib/python3.12/site-packages (from torch->torchvision->facenet-pytorch) (1.12)\n",
            "Requirement already satisfied: networkx in /Users/aashigoyal/anaconda3/envs/csci/lib/python3.12/site-packages (from torch->torchvision->facenet-pytorch) (3.1)\n",
            "Requirement already satisfied: jinja2 in /Users/aashigoyal/anaconda3/envs/csci/lib/python3.12/site-packages (from torch->torchvision->facenet-pytorch) (3.1.3)\n",
            "Requirement already satisfied: fsspec in /Users/aashigoyal/anaconda3/envs/csci/lib/python3.12/site-packages (from torch->torchvision->facenet-pytorch) (2023.10.0)\n",
            "Requirement already satisfied: MarkupSafe>=2.0 in /Users/aashigoyal/anaconda3/envs/csci/lib/python3.12/site-packages (from jinja2->torch->torchvision->facenet-pytorch) (2.1.3)\n",
            "Requirement already satisfied: mpmath>=0.19 in /Users/aashigoyal/anaconda3/envs/csci/lib/python3.12/site-packages (from sympy->torch->torchvision->facenet-pytorch) (1.3.0)\n",
            "Requirement already satisfied: face_alignment in /Users/aashigoyal/anaconda3/envs/csci/lib/python3.12/site-packages (1.4.1)\n",
            "Requirement already satisfied: torch in /Users/aashigoyal/anaconda3/envs/csci/lib/python3.12/site-packages (from face_alignment) (2.2.1)\n",
            "Requirement already satisfied: numpy in /Users/aashigoyal/anaconda3/envs/csci/lib/python3.12/site-packages (from face_alignment) (1.26.4)\n",
            "Requirement already satisfied: scipy>=0.17 in /Users/aashigoyal/anaconda3/envs/csci/lib/python3.12/site-packages (from face_alignment) (1.11.3)\n",
            "Requirement already satisfied: scikit-image in /Users/aashigoyal/anaconda3/envs/csci/lib/python3.12/site-packages (from face_alignment) (0.22.0)\n",
            "Requirement already satisfied: opencv-python in /Users/aashigoyal/anaconda3/envs/csci/lib/python3.12/site-packages (from face_alignment) (4.9.0.80)\n",
            "Requirement already satisfied: tqdm in /Users/aashigoyal/anaconda3/envs/csci/lib/python3.12/site-packages (from face_alignment) (4.66.2)\n",
            "Requirement already satisfied: numba in /Users/aashigoyal/anaconda3/envs/csci/lib/python3.12/site-packages (from face_alignment) (0.59.0)\n",
            "Requirement already satisfied: llvmlite<0.43,>=0.42.0dev0 in /Users/aashigoyal/anaconda3/envs/csci/lib/python3.12/site-packages (from numba->face_alignment) (0.42.0)\n",
            "Requirement already satisfied: networkx>=2.8 in /Users/aashigoyal/anaconda3/envs/csci/lib/python3.12/site-packages (from scikit-image->face_alignment) (3.1)\n",
            "Requirement already satisfied: pillow>=9.0.1 in /Users/aashigoyal/anaconda3/envs/csci/lib/python3.12/site-packages (from scikit-image->face_alignment) (10.2.0)\n",
            "Requirement already satisfied: imageio>=2.27 in /Users/aashigoyal/anaconda3/envs/csci/lib/python3.12/site-packages (from scikit-image->face_alignment) (2.34.0)\n",
            "Requirement already satisfied: tifffile>=2022.8.12 in /Users/aashigoyal/anaconda3/envs/csci/lib/python3.12/site-packages (from scikit-image->face_alignment) (2024.2.12)\n",
            "Requirement already satisfied: packaging>=21 in /Users/aashigoyal/anaconda3/envs/csci/lib/python3.12/site-packages (from scikit-image->face_alignment) (23.2)\n",
            "Requirement already satisfied: lazy_loader>=0.3 in /Users/aashigoyal/anaconda3/envs/csci/lib/python3.12/site-packages (from scikit-image->face_alignment) (0.3)\n",
            "Requirement already satisfied: filelock in /Users/aashigoyal/anaconda3/envs/csci/lib/python3.12/site-packages (from torch->face_alignment) (3.13.1)\n",
            "Requirement already satisfied: typing-extensions>=4.8.0 in /Users/aashigoyal/anaconda3/envs/csci/lib/python3.12/site-packages (from torch->face_alignment) (4.10.0)\n",
            "Requirement already satisfied: sympy in /Users/aashigoyal/anaconda3/envs/csci/lib/python3.12/site-packages (from torch->face_alignment) (1.12)\n",
            "Requirement already satisfied: jinja2 in /Users/aashigoyal/anaconda3/envs/csci/lib/python3.12/site-packages (from torch->face_alignment) (3.1.3)\n",
            "Requirement already satisfied: fsspec in /Users/aashigoyal/anaconda3/envs/csci/lib/python3.12/site-packages (from torch->face_alignment) (2023.10.0)\n",
            "Requirement already satisfied: MarkupSafe>=2.0 in /Users/aashigoyal/anaconda3/envs/csci/lib/python3.12/site-packages (from jinja2->torch->face_alignment) (2.1.3)\n",
            "Requirement already satisfied: mpmath>=0.19 in /Users/aashigoyal/anaconda3/envs/csci/lib/python3.12/site-packages (from sympy->torch->face_alignment) (1.3.0)\n"
          ]
        }
      ],
      "source": [
        "!python3 -m pip install facenet-pytorch\n",
        "!python3 -m pip install face_alignment"
      ]
    },
    {
      "cell_type": "code",
      "execution_count": 2,
      "metadata": {
        "id": "SP57JsruRqX5"
      },
      "outputs": [
        {
          "name": "stderr",
          "output_type": "stream",
          "text": [
            "/Users/aashigoyal/anaconda3/envs/csci/lib/python3.12/site-packages/tqdm/auto.py:21: TqdmWarning: IProgress not found. Please update jupyter and ipywidgets. See https://ipywidgets.readthedocs.io/en/stable/user_install.html\n",
            "  from .autonotebook import tqdm as notebook_tqdm\n"
          ]
        }
      ],
      "source": [
        "import cv2\n",
        "import os\n",
        "import sys\n",
        "import torch\n",
        "import torch.nn as nn\n",
        "import torch.optim as optim\n",
        "import torchvision.transforms as transforms\n",
        "from torchvision import models\n",
        "from PIL import Image\n",
        "from facenet_pytorch import MTCNN\n",
        "from sklearn.model_selection import train_test_split\n",
        "import numpy as np\n",
        "from tqdm import tqdm\n",
        "import face_alignment\n",
        "import dlib\n",
        "import requests"
      ]
    },
    {
      "cell_type": "code",
      "execution_count": 3,
      "metadata": {
        "id": "oLkWoD6pRrAb"
      },
      "outputs": [],
      "source": [
        "from torchvision import models\n",
        "\n",
        "class CNN(nn.Module):\n",
        "    def __init__(self, num_classes):\n",
        "        super(CNN, self).__init__()\n",
        "        self.features = models.vgg16(pretrained=True)\n",
        "        # Modify the first layer to accept 1 channel input (for grayscale spectrograms)\n",
        "        self.features.features[0] = nn.Conv2d(1, 64, kernel_size=7, stride=2, padding=3, bias=False)\n",
        "        # Modify the final layer to output desired feature size\n",
        "        self.features.classifier[6] = nn.Linear(self.features.classifier[6].in_features, num_classes)\n",
        "        self.softmax = nn.Softmax(dim=1)\n",
        "\n",
        "    def forward(self, x):\n",
        "        x = self.features(x)\n",
        "        x = self.softmax(x)\n",
        "        return x"
      ]
    },
    {
      "cell_type": "code",
      "execution_count": 4,
      "metadata": {
        "id": "gWDrEH00iv6H"
      },
      "outputs": [],
      "source": [
        "def extract_frame(video_path):\n",
        "    cap = cv2.VideoCapture(video_path)\n",
        "    frame_count = int(cap.get(cv2.CAP_PROP_FRAME_COUNT))\n",
        "    fps = cap.get(cv2.CAP_PROP_FPS)\n",
        "    mid_frame_index = frame_count // 2  # Index of the frame in the middle of the video\n",
        "    cap.set(cv2.CAP_PROP_POS_FRAMES, mid_frame_index)\n",
        "    ret, frame = cap.read()\n",
        "    if ret:\n",
        "        cap.release()\n",
        "        return frame\n",
        "    else:\n",
        "        cap.release()\n",
        "        return None"
      ]
    },
    {
      "cell_type": "code",
      "execution_count": 5,
      "metadata": {
        "id": "_eeDIIORixs-"
      },
      "outputs": [],
      "source": [
        "def detect_face(frame):\n",
        "    mtcnn = MTCNN()\n",
        "    boxes, _ = mtcnn.detect(frame)\n",
        "    if boxes is not None:\n",
        "        # Assuming only one face in the frame\n",
        "        box = boxes[0]\n",
        "        x1, y1, x2, y2 = box\n",
        "        # Crop the frame to the detected face\n",
        "        cropped_frame = frame[int(y1):int(y2), int(x1):int(x2)]\n",
        "        return cropped_frame\n",
        "    else:\n",
        "        return None"
      ]
    },
    {
      "cell_type": "code",
      "execution_count": 27,
      "metadata": {
        "id": "uCrtKaI8j4Fk"
      },
      "outputs": [],
      "source": [
        "# def align_face(frame):\n",
        "#     fa = face_alignment.FaceAlignment(face_alignment.LandmarksType.FACE_2D, flip_input=False)\n",
        "#     landmarks = fa.get_landmarks(frame)\n",
        "#     if landmarks is not None:\n",
        "#         aligned_face = fa.align(frame, landmarks)\n",
        "#         return aligned_face\n",
        "#     else:\n",
        "#         return None"
      ]
    },
    {
      "cell_type": "code",
      "execution_count": 28,
      "metadata": {
        "id": "4uaUCtgwlJUr"
      },
      "outputs": [],
      "source": [
        "# import dlib\n",
        "# import requests\n",
        "\n",
        "# # Function to download the pretrained shape predictor file if it doesn't exist\n",
        "# def download_shape_predictor_file(url, save_path):\n",
        "#     if not os.path.exists(save_path):\n",
        "#         print(\"Downloading pretrained shape predictor file...\")\n",
        "#         response = requests.get(url)\n",
        "#         with open(save_path, 'wb') as f:\n",
        "#             f.write(response.content)\n",
        "#         print(\"Download complete.\")\n",
        "\n",
        "# # Specify the URL of the pretrained shape predictor file\n",
        "# shape_predictor_url = \"https://github.com/davisking/dlib-models/raw/master/shape_predictor_68_face_landmarks.dat\"\n",
        "\n",
        "# def align_face(frame):\n",
        "#     # Download the pretrained shape predictor file if it doesn't exist\n",
        "#     shape_predictor_path = os.path.abspath(\"shape_predictor_68_face_landmarks.dat\")\n",
        "#     download_shape_predictor_file(shape_predictor_url, shape_predictor_path)\n",
        "\n",
        "#     # Initialize face detector and shape predictor\n",
        "#     detector = dlib.get_frontal_face_detector()\n",
        "#     predictor = dlib.shape_predictor(shape_predictor_path)\n",
        "\n",
        "#     gray = cv2.cvtColor(frame, cv2.COLOR_BGR2GRAY)\n",
        "#     rects = detector(gray, 0)\n",
        "\n",
        "#     if len(rects) == 1:  # Assuming only one face in the frame\n",
        "#         landmarks = predictor(gray, rects[0])\n",
        "#         aligned_face = dlib.get_face_chip(frame, landmarks)\n",
        "#         return aligned_face\n",
        "#     else:\n",
        "#         return None\n"
      ]
    },
    {
      "cell_type": "code",
      "execution_count": 8,
      "metadata": {
        "id": "pWavua0jl3ds"
      },
      "outputs": [],
      "source": [
        "import cv2\n",
        "import face_alignment\n",
        "import requests\n",
        "import os\n",
        "\n",
        "# Function to download the pretrained face alignment model if it doesn't exist\n",
        "def download_face_alignment_model(url, save_path):\n",
        "    if not os.path.exists(save_path):\n",
        "        print(\"Downloading pretrained face alignment model...\")\n",
        "        response = requests.get(url)\n",
        "        with open(save_path, 'wb') as f:\n",
        "            f.write(response.content)\n",
        "        print(\"Download complete.\")\n",
        "\n",
        "# Specify the URL of the pretrained face alignment model\n",
        "face_alignment_model_url = \"https://github.com/1adrianb/face-alignment-models/releases/download/2.0.1/2DFAN4-11f355bf06.pth.tar\"\n",
        "device='cpu'\n",
        "# Download the pretrained face alignment model if it doesn't exist\n",
        "face_alignment_model_path = os.path.abspath(\"2DFAN4-11f355bf06.pth.tar\")\n",
        "download_face_alignment_model(face_alignment_model_url, face_alignment_model_path)\n",
        "\n",
        "# Initialize face alignment model\n",
        "fa = face_alignment.FaceAlignment(2,device=device ,flip_input=False)  # 2 corresponds to 2D landmarks\n",
        "\n",
        "def align_face(frame):\n",
        "    # Perform face alignment\n",
        "    aligned_faces = fa.get_landmarks(frame)\n",
        "    if aligned_faces is not None:\n",
        "        aligned_face = aligned_faces[0]  # Assuming only one face in the frame\n",
        "        return aligned_face\n",
        "    else:\n",
        "        return None\n"
      ]
    },
    {
      "cell_type": "code",
      "execution_count": 9,
      "metadata": {
        "id": "o5gBfMkuitP0"
      },
      "outputs": [],
      "source": [
        "def preprocess_image(frame):\n",
        "    # Convert the frame to a PIL Image\n",
        "    frame_pil = Image.fromarray(frame.astype('uint8'))\n",
        "\n",
        "    # Convert the image to grayscale\n",
        "    frame_pil = frame_pil.convert('L')\n",
        "\n",
        "    # Resize and normalize the frame\n",
        "    transform = transforms.Compose([\n",
        "        transforms.Resize((224, 224)),\n",
        "        transforms.ToTensor(),\n",
        "        transforms.Normalize(mean=[0.485], std=[0.229]),  # For grayscale images, only 1 channel\n",
        "    ])\n",
        "    img_tensor = transform(frame_pil)\n",
        "    return img_tensor"
      ]
    },
    {
      "cell_type": "code",
      "execution_count": 10,
      "metadata": {
        "id": "RZPMwNWJi5p3"
      },
      "outputs": [],
      "source": [
        "def load_dataset(input_folder):\n",
        "    X = []\n",
        "    y = []\n",
        "    video_files = [file for file in os.listdir(input_folder) if file.endswith(\".flv\")]\n",
        "    for video_file in tqdm(video_files):\n",
        "        video_path = os.path.join(input_folder, video_file)\n",
        "        frame = extract_frame(video_path)\n",
        "        if frame is not None:\n",
        "            cropped_face = detect_face(frame)\n",
        "            if cropped_face is not None:\n",
        "                preprocessed_face = preprocess_image(cropped_face)\n",
        "                X.append(preprocessed_face)\n",
        "                label = video_file.split(\"_\")[2].split(\".\")[0]  # Adjusted to handle different file extensions\n",
        "                if label == \"HAP\":\n",
        "                    y.append(0)\n",
        "                elif label == \"SAD\":\n",
        "                    y.append(1)\n",
        "                elif label == \"ANG\":\n",
        "                    y.append(2)\n",
        "            else:\n",
        "                print(f\"No face detected in {video_file}. Skipping.\")\n",
        "        else:\n",
        "            print(f\"Failed to extract frame from {video_file}. Skipping.\")\n",
        "    return X, y"
      ]
    },
    {
      "cell_type": "code",
      "execution_count": 32,
      "metadata": {
        "id": "ASe2CY6_kJPn"
      },
      "outputs": [],
      "source": [
        "# def load_dataset(input_folder):\n",
        "#     X = []\n",
        "#     y = []\n",
        "#     video_files = [file for file in os.listdir(input_folder) if file.endswith(\".flv\")]\n",
        "#     for video_file in tqdm(video_files):\n",
        "#         video_path = os.path.join(input_folder, video_file)\n",
        "#         frame = extract_frame(video_path)\n",
        "#         # crop and align\n",
        "#         if frame is not None:\n",
        "#             cropped_face = detect_face(frame)\n",
        "#             if cropped_face is not None:\n",
        "#                 aligned_face = align_face(cropped_face)\n",
        "#                 if aligned_face is not None:\n",
        "#                     preprocessed_face = preprocess_image(aligned_face)\n",
        "#                     X.append(preprocessed_face)\n",
        "#                     label = video_file.split(\"_\")[2].split(\".\")[0]  # Adjusted to handle different file extensions\n",
        "#                     if label == \"HAP\":\n",
        "#                         y.append(0)\n",
        "#                     elif label == \"SAD\":\n",
        "#                         y.append(1)\n",
        "#                     elif label == \"ANG\":\n",
        "#                         y.append(2)\n",
        "#                 else:\n",
        "#                     print(f\"Failed to align face in {video_file}. Skipping.\")\n",
        "#             else:\n",
        "#                 print(f\"No face detected in {video_file}. Skipping.\")\n",
        "#         else:\n",
        "#             print(f\"Failed to extract frame from {video_file}. Skipping.\")\n",
        "#     return X, y\n"
      ]
    },
    {
      "cell_type": "code",
      "execution_count": 33,
      "metadata": {
        "id": "OegULYZ0zV_R"
      },
      "outputs": [],
      "source": [
        "# def extract_average_frames(video_path):\n",
        "#     cap = cv2.VideoCapture(video_path)\n",
        "#     frame_count = int(cap.get(cv2.CAP_PROP_FRAME_COUNT))\n",
        "#     fps = cap.get(cv2.CAP_PROP_FPS)\n",
        "#     interval_frames = int(fps) # Frames to skip to get 1 frame per second\n",
        "#     frames = []\n",
        "#     for i in range(0, frame_count, interval_frames):\n",
        "#         cap.set(cv2.CAP_PROP_POS_FRAMES, i)\n",
        "#         ret, frame = cap.read()\n",
        "#         if ret:\n",
        "#             frames.append(frame)\n",
        "#     cap.release()\n",
        "#     # Calculate average frame\n",
        "#     averaged_frame = sum(frames) / len(frames)\n",
        "#     return averaged_frame"
      ]
    },
    {
      "cell_type": "code",
      "execution_count": 34,
      "metadata": {
        "id": "YYjikmeiRsNP"
      },
      "outputs": [],
      "source": [
        "# def preprocess_image(averaged_frame):\n",
        "#     # Convert the NumPy array to a PIL Image\n",
        "#     averaged_frame_pil = Image.fromarray(averaged_frame.astype('uint8'))\n",
        "\n",
        "#     # Convert the image to grayscale\n",
        "#     averaged_frame_pil = averaged_frame_pil.convert('L')\n",
        "\n",
        "#     # Resize and normalize the averaged frame\n",
        "#     transform = transforms.Compose([\n",
        "#         transforms.Resize((224, 224)),\n",
        "#         transforms.ToTensor(),\n",
        "#         transforms.Normalize(mean=[0.485], std=[0.229]),  # For grayscale images, only 1 channel\n",
        "#     ])\n",
        "#     img_tensor = transform(averaged_frame_pil)\n",
        "#     return img_tensor\n"
      ]
    },
    {
      "cell_type": "code",
      "execution_count": 35,
      "metadata": {
        "id": "Y5pe1EXsSbpj"
      },
      "outputs": [],
      "source": [
        "# def load_dataset(input_folder):\n",
        "#     X = []\n",
        "#     y = []\n",
        "#     # List all video files in the input folder\n",
        "#     video_files = [file for file in os.listdir(input_folder) if file.endswith(\".flv\")]\n",
        "#     for video_file in video_files:\n",
        "#         video_path = os.path.join(input_folder, video_file)\n",
        "#         averaged_frame = extract_average_frames(video_path)\n",
        "#         img_tensor = preprocess_image(averaged_frame)\n",
        "#         X.append(img_tensor)\n",
        "#         # Extract label from video filename (assuming filename is in format \"label_videoID.mp4\")\n",
        "#         label = video_file.split(\"_\")[2]\n",
        "#         if label == \"HAP\":\n",
        "#             y.append(0)\n",
        "#         elif label == \"SAD\":\n",
        "#             y.append(1)\n",
        "#         elif label == \"ANG\":\n",
        "#             y.append(2)\n",
        "#         # print(video_path, label)\n",
        "#     return X, y"
      ]
    },
    {
      "cell_type": "code",
      "execution_count": 11,
      "metadata": {
        "id": "Q5--S5JwTTw1"
      },
      "outputs": [],
      "source": [
        "def train_model(model, criterion, optimizer, train_loader, device):\n",
        "    model.train()\n",
        "    running_loss = 0.0\n",
        "    correct_preds = 0\n",
        "    total_preds = 0\n",
        "    for inputs, labels in tqdm(train_loader):\n",
        "        inputs, labels = inputs.to(device), labels.to(device)\n",
        "        optimizer.zero_grad()\n",
        "        outputs = model(inputs)\n",
        "        loss = criterion(outputs, labels)\n",
        "        loss.backward()\n",
        "        optimizer.step()\n",
        "        running_loss += loss.item() * inputs.size(0)\n",
        "        _, predicted = torch.max(outputs, 1)\n",
        "        correct_preds += (predicted == labels).sum().item()\n",
        "        total_preds += labels.size(0)\n",
        "\n",
        "    epoch_loss = running_loss / len(train_loader.dataset)\n",
        "    accuracy = correct_preds / total_preds\n",
        "    return epoch_loss, accuracy"
      ]
    },
    {
      "cell_type": "code",
      "execution_count": 12,
      "metadata": {
        "id": "ajpo8J6kTUjD"
      },
      "outputs": [],
      "source": [
        "def test_model(model, criterion, test_loader, device):\n",
        "    model.eval()\n",
        "    running_loss = 0.0\n",
        "    correct_preds = 0\n",
        "    total_preds = 0\n",
        "    with torch.no_grad():\n",
        "        for inputs, labels in tqdm(test_loader):\n",
        "            inputs, labels = inputs.to(device), labels.to(device)\n",
        "            outputs = model(inputs)\n",
        "            loss = criterion(outputs, labels)\n",
        "            running_loss += loss.item() * inputs.size(0)\n",
        "            _, predicted = torch.max(outputs, 1)\n",
        "            correct_preds += (predicted == labels).sum().item()\n",
        "            total_preds += labels.size(0)\n",
        "    epoch_loss = running_loss / len(test_loader.dataset)\n",
        "    accuracy = correct_preds / total_preds\n",
        "    return epoch_loss, accuracy"
      ]
    },
    {
      "cell_type": "code",
      "execution_count": 38,
      "metadata": {
        "id": "92KI-5r7RtVi"
      },
      "outputs": [],
      "source": [
        "# def extract_features_from_folder(input_folder):\n",
        "#     # Initialize the model\n",
        "#     model = CNN(num_classes=3)  # 3 classes for HAPPY, SAD, ANGRY\n",
        "#     device = torch.device(\"cuda\" if torch.cuda.is_available() else \"cpu\")\n",
        "#     model.to(device)\n",
        "#     model.eval()  # Set the model to evaluation mode\n",
        "\n",
        "#     # List all files in the input folder\n",
        "#     files = os.listdir(input_folder)\n",
        "\n",
        "#     # Iterate over files in the folder\n",
        "#     for filename in files:\n",
        "#         if filename.endswith(\".png\"):  # Assuming mel spectrograms are stored as PNG files\n",
        "#             input_path = os.path.join(input_folder, filename)\n",
        "#             img_tensor = preprocess_image(input_path)\n",
        "#             img_tensor = img_tensor.to(device)\n",
        "#             with torch.no_grad():\n",
        "#                 output_features = model(img_tensor)\n",
        "#             print(f\"Features extracted for {filename}: {output_features}\")\n"
      ]
    },
    {
      "cell_type": "code",
      "execution_count": 39,
      "metadata": {
        "id": "eBB1OzDcRxDy"
      },
      "outputs": [],
      "source": [
        "# extract_features_from_folder('/content/drive/MyDrive/csci535/melspec')"
      ]
    },
    {
      "cell_type": "code",
      "execution_count": 40,
      "metadata": {
        "id": "mnnN_idgTBu5"
      },
      "outputs": [],
      "source": [
        "# !python3 melspec_to_features_cnn.py /content/drive/MyDrive/csci535/melspec\n"
      ]
    },
    {
      "cell_type": "code",
      "execution_count": 13,
      "metadata": {
        "colab": {
          "base_uri": "https://localhost:8080/"
        },
        "id": "4CtiJ8-bS7vS",
        "outputId": "34dc7515-7892-43a2-fd3b-d7cc278e6245"
      },
      "outputs": [
        {
          "name": "stderr",
          "output_type": "stream",
          "text": [
            " 26%|██▌       | 70/273 [00:04<00:12, 16.69it/s]"
          ]
        },
        {
          "name": "stdout",
          "output_type": "stream",
          "text": [
            "No face detected in 1083_IEO_HAP_HI.flv. Skipping.\n"
          ]
        },
        {
          "name": "stderr",
          "output_type": "stream",
          "text": [
            "100%|██████████| 273/273 [00:16<00:00, 16.10it/s]\n",
            "/Users/aashigoyal/anaconda3/envs/csci/lib/python3.12/site-packages/torchvision/models/_utils.py:208: UserWarning: The parameter 'pretrained' is deprecated since 0.13 and may be removed in the future, please use 'weights' instead.\n",
            "  warnings.warn(\n",
            "/Users/aashigoyal/anaconda3/envs/csci/lib/python3.12/site-packages/torchvision/models/_utils.py:223: UserWarning: Arguments other than a weight enum or `None` for 'weights' are deprecated since 0.13 and may be removed in the future. The current behavior is equivalent to passing `weights=VGG16_Weights.IMAGENET1K_V1`. You can also use `weights=VGG16_Weights.DEFAULT` to get the most up-to-date weights.\n",
            "  warnings.warn(msg)\n"
          ]
        },
        {
          "name": "stdout",
          "output_type": "stream",
          "text": [
            "Total number of samples: 272\n",
            "Number of train samples: 190 Number of test samples: 82\n",
            "Batch size: 32 lr: 0.001\n"
          ]
        },
        {
          "name": "stderr",
          "output_type": "stream",
          "text": [
            "100%|██████████| 3/3 [00:02<00:00,  1.14it/s]"
          ]
        },
        {
          "name": "stdout",
          "output_type": "stream",
          "text": [
            "Test Loss: 1.2138, Test Accuracy: 0.3049\n"
          ]
        },
        {
          "name": "stderr",
          "output_type": "stream",
          "text": [
            "\n"
          ]
        }
      ],
      "source": [
        "if __name__ == \"__main__\":\n",
        "    # Check if input arguments are provided\n",
        "    # if len(sys.argv) != 2:\n",
        "    #     print(\"Usage: python video_to_features_cnn.py input_folder\")\n",
        "    #     sys.exit(1)\n",
        "\n",
        "    # input_folder = sys.argv[1]\n",
        "    input_folder = '/Users/aashigoyal/Desktop/vscode/aashimain/csci535/multimodal_course_project/Datasets/videos'\n",
        "    # Check if input folder exists\n",
        "    if not os.path.exists(input_folder):\n",
        "        print(\"Input folder does not exist.\")\n",
        "        sys.exit(1)\n",
        "\n",
        "    # Load dataset and split into train and test sets\n",
        "    X, y = load_dataset(input_folder)\n",
        "    print(f\"Total number of samples: {len(X)}\")\n",
        "    X_train, X_test, y_train, y_test = train_test_split(X, y, test_size=0.3, random_state=42)\n",
        "    print(f\"Number of train samples: {len(X_train)}\", f\"Number of test samples: {len(X_test)}\")\n",
        "    # Initialize the model\n",
        "    model = CNN(num_classes=3)  # 3 classes for HAPPY, SAD, ANGRY\n",
        "    # Load the saved state dictionary\n",
        "    state_dict = torch.load('/Users/aashigoyal/Desktop/vscode/aashimain/csci535/multimodal_course_project/notebooks/finetuned-individual/vgg16_melspec_50_32_0.0001')\n",
        "    # state_dict = torch.load('/content/drive/MyDrive/csci535/models/ResNet18_video_50_32_0.001')\n",
        "    # Load the state dictionary into the model\n",
        "    model.load_state_dict(state_dict)\n",
        "\n",
        "    device = torch.device(\"cuda\" if torch.cuda.is_available() else \"cpu\")\n",
        "    model.to(device)\n",
        "\n",
        "    # Define loss function and optimizer\n",
        "    _lr = 0.001\n",
        "    criterion = nn.CrossEntropyLoss()\n",
        "    optimizer = optim.Adam(model.parameters(), lr=_lr)\n",
        "\n",
        "    # Create data loaders\n",
        "    _bs = 32\n",
        "    # train_loader = torch.utils.data.DataLoader(list(zip(X_train, y_train)), batch_size=_bs, shuffle=True)\n",
        "    test_loader = torch.utils.data.DataLoader(list(zip(X_test, y_test)), batch_size=_bs)\n",
        "    print(f\"Batch size: {_bs}\", f\"lr: {_lr}\")\n",
        "    # Training loop\n",
        "    # num_epochs = 50\n",
        "    # for epoch in range(num_epochs):\n",
        "        # print(\"Epoch \" + str(epoch))\n",
        "        # train_loss, train_accuracy = train_model(model, criterion, optimizer, train_loader, device)\n",
        "        # test_loss, test_accuracy = test_model(model, criterion, test_loader, device)\n",
        "        # print(f\"Epoch {epoch+1}/{num_epochs}, Train Loss: {train_loss:.4f}, Train Accuracy: {train_accuracy:.4f}, Test Loss: {test_loss:.4f}, Test Accuracy: {test_accuracy:.4f}\")\n",
        "    test_loss, test_accuracy = test_model(model, criterion, test_loader, device)\n",
        "    print(f\"Test Loss: {test_loss:.4f}, Test Accuracy: {test_accuracy:.4f}\")"
      ]
    },
    {
      "cell_type": "code",
      "execution_count": 42,
      "metadata": {
        "id": "9N8B8WXkUdJY"
      },
      "outputs": [],
      "source": [
        "# torch.save(model.state_dict(), 'ResNet18_video_'+str(num_epochs)+'_'+str(_bs)+'_'+str(_lr))"
      ]
    },
    {
      "cell_type": "code",
      "execution_count": 43,
      "metadata": {
        "id": "qdOvcYZea_DZ"
      },
      "outputs": [],
      "source": [
        "# !ls -lh /content/"
      ]
    },
    {
      "cell_type": "code",
      "execution_count": 44,
      "metadata": {
        "id": "VIsatL11bPU_"
      },
      "outputs": [],
      "source": [
        "# !cp  'ResNet18_video_50_32_0.001' '/content/drive/MyDrive/csci535/models'"
      ]
    },
    {
      "cell_type": "code",
      "execution_count": 44,
      "metadata": {
        "id": "8WYN9KsDs8lP"
      },
      "outputs": [],
      "source": []
    }
  ],
  "metadata": {
    "accelerator": "GPU",
    "colab": {
      "gpuType": "T4",
      "provenance": []
    },
    "kernelspec": {
      "display_name": "Python 3",
      "name": "python3"
    },
    "language_info": {
      "codemirror_mode": {
        "name": "ipython",
        "version": 3
      },
      "file_extension": ".py",
      "mimetype": "text/x-python",
      "name": "python",
      "nbconvert_exporter": "python",
      "pygments_lexer": "ipython3",
      "version": "3.12.2"
    }
  },
  "nbformat": 4,
  "nbformat_minor": 0
}
